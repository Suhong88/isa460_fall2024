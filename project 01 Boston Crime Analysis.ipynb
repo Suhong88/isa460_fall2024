{
 "cells": [
  {
   "cell_type": "markdown",
   "id": "6e609694-8556-4b9e-bcfe-16fecdbffe5e",
   "metadata": {},
   "source": [
    "# Boston Crime Data Analysis\n",
    "This project is based on Boston Crime data between 2021-current date downloaded from [this link](https://data.boston.gov/dataset/crime-incident-reports-august-2015-to-date-source-new-system)\n",
    "\n",
    "Please answer the following ten questions and visualize each result. Please label each question clearly.\n",
    "\n",
    "1. display number of crime by year, order by year\n",
    "2. display number of crime by year and month in the format of year-month, order by year_month.\n",
    "3. display average crime by month between 2021 and 2024. Visualize your result.\n",
    "4. display average, min and max crime by month between 2021 and 2024\n",
    "5. what time of the day has the highest crime\n",
    "6. display number of crimes by weekday and the time of the day\n",
    "7. display top 5 district based on number of crimes\n",
    "8. for each top 5 districts, display top 5 types of crimes (offense_description) based on number of crimes\n",
    "9. Display percent of shooting by year.\n",
    "10. Which offenses likely lead to shooting. Show top 5 offense by year.\n",
    "\n",
    "**Note for the visulaiztion:**\n",
    "\n",
    "- Select the appropriate chart type for each question to enhance clarity and understanding.\n",
    "- Use an effective and consistent color scheme to make charts easy to interpret.\n",
    "- Ensure that the chosen chart types emphasize key insights without overwhelming or confusing the audience.\n",
    "\n",
    "\n",
    "In addtion, there are many interesting questions you can explore using this dataset. Please come up at least five questions and develop Pyspark code to answer your questions and visualze the result. Please write a few paragraphs at the end to summarize your findings. Your summary should include the above 10 questions and your own questions. Your own questions cannot be an existing question at the above and need to meaningful. You may want to start with developing an objective before developing your questions."
   ]
  },
  {
   "cell_type": "markdown",
   "id": "c7519ad8-3517-4602-b56c-918a36e697b2",
   "metadata": {},
   "source": [
    "## Import dataset"
   ]
  },
  {
   "cell_type": "code",
   "execution_count": 23,
   "id": "6398400b-81f2-477d-be3e-8c3e3bfa2bb8",
   "metadata": {
    "tags": []
   },
   "outputs": [],
   "source": [
    "from pyspark.sql import SparkSession\n",
    "import pyspark.sql.functions as F\n",
    "from helper_functions import displayByGroup\n",
    "import pandas as pd\n",
    "import seaborn as sns\n",
    "import matplotlib.pyplot as plt\n",
    "\n",
    "import warnings\n",
    "warnings.filterwarnings(\"ignore\")\n",
    "\n",
    "# create a spark session\n",
    "spark = SparkSession.builder.appName(\"Boston Crime Analysis\")\\\n",
    "        .config(\"spark.port.maxRetries\", \"100\")\\\n",
    "        .getOrCreate()\n",
    "\n",
    "# confiture the log level (defaulty is WWARN)\n",
    "spark.sparkContext.setLogLevel('ERROR')\n",
    "\n",
    "# read the csv file, remove year with null value and remove current month (Septmber 2024)\n",
    "crime = spark.read.csv(\"/opt/shared/boston_crime\", header=True, inferSchema=True).filter(F.isnull(F.col('year'))==False)\\\n",
    "       .filter(F.date_format(F.col('occurred_on_date'), 'yyyy-MM')!='2024-09')\n",
    "\n",
    "# change all columns to lower case\n",
    "\n",
    "crime=crime.toDF(*[x.lower() for x in crime.columns])"
   ]
  },
  {
   "cell_type": "code",
   "execution_count": 24,
   "id": "6d352c7e-f74a-46e7-a996-b66e0a89ef60",
   "metadata": {
    "tags": []
   },
   "outputs": [
    {
     "name": "stdout",
     "output_type": "stream",
     "text": [
      "root\n",
      " |-- incident_number: string (nullable = true)\n",
      " |-- offense_code: string (nullable = true)\n",
      " |-- offense_code_group: string (nullable = true)\n",
      " |-- offense_description: string (nullable = true)\n",
      " |-- district: string (nullable = true)\n",
      " |-- reporting_area: string (nullable = true)\n",
      " |-- shooting: integer (nullable = true)\n",
      " |-- occurred_on_date: timestamp (nullable = true)\n",
      " |-- year: integer (nullable = true)\n",
      " |-- month: integer (nullable = true)\n",
      " |-- day_of_week: string (nullable = true)\n",
      " |-- hour: integer (nullable = true)\n",
      " |-- ucr_part: string (nullable = true)\n",
      " |-- street: string (nullable = true)\n",
      " |-- lat: double (nullable = true)\n",
      " |-- long: double (nullable = true)\n",
      " |-- location: string (nullable = true)\n",
      "\n"
     ]
    }
   ],
   "source": [
    "crime.printSchema()"
   ]
  },
  {
   "cell_type": "code",
   "execution_count": 25,
   "id": "f67aac42-03b8-4289-9a9b-add0048f34d4",
   "metadata": {
    "tags": []
   },
   "outputs": [
    {
     "name": "stdout",
     "output_type": "stream",
     "text": [
      "+---------------+------------+------------------+--------------------+--------+--------------+\n",
      "|incident_number|offense_code|offense_code_group|offense_description |district|reporting_area|\n",
      "+---------------+------------+------------------+--------------------+--------+--------------+\n",
      "|232007173      |3115        |null              |INVESTIGATE PERSON  |B3      |              |\n",
      "|232004454      |3301        |null              |VERBAL DISPUTE      |B2      |316           |\n",
      "|232006290      |3115        |null              |INVESTIGATE PERSON  |A1      |              |\n",
      "|232024939      |3114        |null              |INVESTIGATE PROPERTY|B3      |              |\n",
      "|232006708      |423         |null              |ASSAULT - AGGRAVATED|B2      |              |\n",
      "+---------------+------------+------------------+--------------------+--------+--------------+\n",
      "only showing top 5 rows\n",
      "\n",
      "+--------+-------------------+----+-----+-----------+----+\n",
      "|shooting|occurred_on_date   |year|month|day_of_week|hour|\n",
      "+--------+-------------------+----+-----+-----------+----+\n",
      "|0       |2023-01-27 14:44:00|2023|1    |Friday     |22  |\n",
      "|0       |2023-01-17 12:21:00|2023|1    |Tuesday    |20  |\n",
      "|0       |2023-01-23 16:00:00|2023|1    |Tuesday    |0   |\n",
      "|0       |2023-03-31 10:14:00|2023|3    |Friday     |17  |\n",
      "|0       |2023-01-26 01:00:00|2023|1    |Thursday   |9   |\n",
      "+--------+-------------------+----+-----+-----------+----+\n",
      "only showing top 5 rows\n",
      "\n",
      "+--------+-------------+------------------+------------------+----------------------------------------+\n",
      "|ucr_part|street       |lat               |long              |location                                |\n",
      "+--------+-------------+------------------+------------------+----------------------------------------+\n",
      "|null    |FAVRE ST     |42.271661031027065|-71.09953455161765|(42.271661031027065, -71.09953455161765)|\n",
      "|null    |HAROLD ST    |42.3125962960786  |-71.09287583752645|(42.3125962960786, -71.09287583752645)  |\n",
      "|null    |HANOVER ST   |42.3656993584582  |-71.05289203191269|(42.3656993584582, -71.05289203191269)  |\n",
      "|null    |BLUE HILL AVE|42.29278799134922 |-71.08851953962399|(42.29278799134922, -71.08851953962399) |\n",
      "|null    |HUTCHINGS ST |42.310268910354935|-71.08931055058088|(42.310268910354935, -71.08931055058088)|\n",
      "+--------+-------------+------------------+------------------+----------------------------------------+\n",
      "only showing top 5 rows\n",
      "\n"
     ]
    }
   ],
   "source": [
    "displayByGroup(crime, 5)"
   ]
  },
  {
   "cell_type": "markdown",
   "id": "2c6047d7-d9c1-491b-a0e8-fc8af7949d20",
   "metadata": {},
   "source": [
    "## Example"
   ]
  },
  {
   "cell_type": "markdown",
   "id": "3c653b6a-2fee-46cb-a525-b00383d34d8f",
   "metadata": {},
   "source": [
    "## Display top five offense"
   ]
  },
  {
   "cell_type": "code",
   "execution_count": 26,
   "id": "4025a716-e0f8-40de-b7ab-31a1ee1f2cd5",
   "metadata": {
    "tags": []
   },
   "outputs": [
    {
     "name": "stdout",
     "output_type": "stream",
     "text": [
      "+--------------------+-----+\n",
      "| offense_description|count|\n",
      "+--------------------+-----+\n",
      "|  INVESTIGATE PERSON|27560|\n",
      "|         SICK ASSIST|21399|\n",
      "|M/V - LEAVING SCE...|16829|\n",
      "|INVESTIGATE PROPERTY|12854|\n",
      "| TOWED MOTOR VEHICLE|12017|\n",
      "+--------------------+-----+\n",
      "\n"
     ]
    }
   ],
   "source": [
    "crime.groupBy('offense_description').count().orderBy(F.desc('count')).limit(5).show()"
   ]
  },
  {
   "cell_type": "markdown",
   "id": "e2cd43ac-fca9-43d2-98a1-f6dda7171bdd",
   "metadata": {},
   "source": [
    "### Visualize the result"
   ]
  },
  {
   "cell_type": "code",
   "execution_count": 13,
   "id": "5c1cf30e-8df8-4feb-ac39-cf7d4cb79d0c",
   "metadata": {
    "tags": []
   },
   "outputs": [
    {
     "data": {
      "text/html": [
       "<div>\n",
       "<style scoped>\n",
       "    .dataframe tbody tr th:only-of-type {\n",
       "        vertical-align: middle;\n",
       "    }\n",
       "\n",
       "    .dataframe tbody tr th {\n",
       "        vertical-align: top;\n",
       "    }\n",
       "\n",
       "    .dataframe thead th {\n",
       "        text-align: right;\n",
       "    }\n",
       "</style>\n",
       "<table border=\"1\" class=\"dataframe\">\n",
       "  <thead>\n",
       "    <tr style=\"text-align: right;\">\n",
       "      <th></th>\n",
       "      <th>offense_description</th>\n",
       "      <th>count</th>\n",
       "    </tr>\n",
       "  </thead>\n",
       "  <tbody>\n",
       "    <tr>\n",
       "      <th>0</th>\n",
       "      <td>INVESTIGATE PERSON</td>\n",
       "      <td>27560</td>\n",
       "    </tr>\n",
       "    <tr>\n",
       "      <th>1</th>\n",
       "      <td>SICK ASSIST</td>\n",
       "      <td>21399</td>\n",
       "    </tr>\n",
       "    <tr>\n",
       "      <th>2</th>\n",
       "      <td>M/V - LEAVING SCENE - PROPERTY DAMAGE</td>\n",
       "      <td>16829</td>\n",
       "    </tr>\n",
       "    <tr>\n",
       "      <th>3</th>\n",
       "      <td>INVESTIGATE PROPERTY</td>\n",
       "      <td>12854</td>\n",
       "    </tr>\n",
       "    <tr>\n",
       "      <th>4</th>\n",
       "      <td>TOWED MOTOR VEHICLE</td>\n",
       "      <td>12017</td>\n",
       "    </tr>\n",
       "  </tbody>\n",
       "</table>\n",
       "</div>"
      ],
      "text/plain": [
       "                     offense_description  count\n",
       "0                     INVESTIGATE PERSON  27560\n",
       "1                            SICK ASSIST  21399\n",
       "2  M/V - LEAVING SCENE - PROPERTY DAMAGE  16829\n",
       "3                   INVESTIGATE PROPERTY  12854\n",
       "4                    TOWED MOTOR VEHICLE  12017"
      ]
     },
     "execution_count": 13,
     "metadata": {},
     "output_type": "execute_result"
    }
   ],
   "source": [
    "# convert the result to pandas dataframe\n",
    "\n",
    "pd_df=crime.groupBy('offense_description').count().orderBy(F.desc('count')).limit(5).toPandas()\n",
    "\n",
    "pd_df.head()"
   ]
  },
  {
   "cell_type": "code",
   "execution_count": 14,
   "id": "7471849a-3f3e-4922-b474-66b6574cae12",
   "metadata": {
    "tags": []
   },
   "outputs": [
    {
     "data": {
      "text/plain": [
       "<Axes: xlabel='count', ylabel='offense_description'>"
      ]
     },
     "execution_count": 14,
     "metadata": {},
     "output_type": "execute_result"
    },
    {
     "data": {
      "image/png": "[encoded data removed]",
      "text/plain": [
       "<Figure size 1000x600 with 1 Axes>"
      ]
     },
     "metadata": {},
     "output_type": "display_data"
    }
   ],
   "source": [
    "# set the fiture size\n",
    "plt.figure(figsize=(10,6))\n",
    "\n",
    "sns.barplot(data=pd_df, y='offense_description',x=\"count\", orient='h', palette='Blues_r')"
   ]
  },
  {
   "cell_type": "markdown",
   "id": "068268f0-4bef-4a83-b689-77f79f78392d",
   "metadata": {},
   "source": [
    "## Put your solutions in the following section"
   ]
  },
  {
   "cell_type": "code",
   "execution_count": null,
   "id": "d414ec97-42fd-4a7f-86f8-6874c49b983b",
   "metadata": {},
   "outputs": [],
   "source": []
  }
 ],
 "metadata": {
  "kernelspec": {
   "display_name": "Big Data Analytics",
   "language": "python",
   "name": "bigdataanalytics"
  },
  "language_info": {
   "codemirror_mode": {
    "name": "ipython",
    "version": 3
   },
   "file_extension": ".py",
   "mimetype": "text/x-python",
   "name": "python",
   "nbconvert_exporter": "python",
   "pygments_lexer": "ipython3",
   "version": "3.10.8"
  }
 },
 "nbformat": 4,
 "nbformat_minor": 5
}
