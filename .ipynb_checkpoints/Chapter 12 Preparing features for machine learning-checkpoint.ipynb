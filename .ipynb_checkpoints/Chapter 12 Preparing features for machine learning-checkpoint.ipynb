{
 "cells": [
  {
   "cell_type": "markdown",
   "id": "71349ff1-3dd6-426e-bdca-3ded736ebb35",
   "metadata": {},
   "source": [
    "# Chapter 12 Setting the stage: Preparing features for machine learning\n",
    "we will disucss\n",
    "- How investing in a solid data manipulation foundation makes data preparation a breeze\n",
    "- Addressing big data quality problems with PySpark\n",
    "- Creating custom features for your ML model\n",
    "- Selecting compelling features for your model\n",
    "- Using transformers and estimators as part of the feature engineering process"
   ]
  },
  {
   "cell_type": "markdown",
   "id": "cf3dd15c-7a42-453c-b155-3aadec41fd2c",
   "metadata": {},
   "source": [
    "## Main Step for Data Cleaning and Pro-processing\n",
    "\n",
    "- standardizing column names\n",
    "- check data types and correct mismatching data type\n",
    "- deal with missing values\n",
    "- deal with outliers\n",
    "- deal with correlations among features\n",
    "- deal with the feaures with raw occurance\n",
    "- standarize/normalize features\n",
    "- feature creation/engineering\n",
    "- fearure refinement"
   ]
  },
  {
   "cell_type": "code",
   "execution_count": 3,
   "id": "98dd82f1-09e6-4cc7-8654-463f9f295a54",
   "metadata": {
    "tags": []
   },
   "outputs": [],
   "source": [
    "import sys\n",
    "from pyspark.sql import SparkSession\n",
    "from pyspark.sql.utils import AnalysisException\n",
    "import pyspark.sql.functions as F\n",
    "import pyspark.sql.types as T\n",
    "import os\n",
    "import pandas as pd\n",
    "import seaborn as sns\n",
    "import matplotlib.pyplot as plt\n",
    "\n",
    "# change the account name to your email account\n",
    "account='sli'\n",
    "\n",
    "# define a root path to access the data in the DataAnalysisWithPythonAndPySpark\n",
    "data_path='/net/clusterhn/home/'+account+'/isa460/data/'\n",
    "\n",
    "# append path to helper_functions to system path\n",
    "sys.path.append('/net/clusterhn/home/sli/isa460_sli')\n",
    "\n",
    "import helper_functions as H\n",
    "\n",
    "# check if the Spark session is active. If it is activate, close it\n",
    "\n",
    "try:\n",
    "    if spark:\n",
    "        spark.stop()\n",
    "except:\n",
    "    pass    \n",
    "\n",
    "spark = (SparkSession.builder.appName(\"Preparing Featurers for Machine Learning\")\n",
    "        .config(\"spark.port.maxRetries\", \"100\")\n",
    "        .config(\"spark.sql.mapKeyDedupPolicy\", \"LAST_WIN\")  # This configuration allow the duplicate keys in the map data type.\n",
    "        .config(\"spark.driver.memory\", \"8g\")\n",
    "        .getOrCreate())\n",
    "\n",
    "# confiture the log level (defaulty is WARN)\n",
    "spark.sparkContext.setLogLevel('ERROR')"
   ]
  },
  {
   "cell_type": "markdown",
   "id": "7568293f-70a2-4b8c-845c-ca9c3f3c10e1",
   "metadata": {},
   "source": [
    "# Reading, exploring, and preparing our machine learning data set\n",
    "For our ML model, we chose a data set of 20,057 dish names that contain 680 columns characterizing the ingredient list, the nutritional content, and the category of the dish. Our goal here is to predict if this dish is a dessert."
   ]
  },
  {
   "cell_type": "code",
   "execution_count": 4,
   "id": "c11fce21-2dbc-4d16-b403-2514ffe4ad4a",
   "metadata": {
    "tags": []
   },
   "outputs": [
    {
     "name": "stderr",
     "output_type": "stream",
     "text": [
      "                                                                                \r"
     ]
    }
   ],
   "source": [
    "# load data\n",
    "food=spark.read.csv(data_path+'recipes/epi_r.csv', inferSchema=True, header=True)"
   ]
  },
  {
   "cell_type": "code",
   "execution_count": 5,
   "id": "3912e9d6-30ad-48a5-b231-2148b708616b",
   "metadata": {
    "tags": []
   },
   "outputs": [
    {
     "name": "stdout",
     "output_type": "stream",
     "text": [
      "20057 680\n"
     ]
    }
   ],
   "source": [
    "print(food.count(), len(food.columns))"
   ]
  },
  {
   "cell_type": "code",
   "execution_count": 6,
   "id": "1e6f3304-bfda-4dd5-9896-a70d7867cb60",
   "metadata": {
    "tags": []
   },
   "outputs": [
    {
     "name": "stdout",
     "output_type": "stream",
     "text": [
      "+--------------------+------+--------+-------+----+------+---------+----------+-------+\n",
      "|               title|rating|calories|protein| fat|sodium|#cakeweek|#wasteless|dessert|\n",
      "+--------------------+------+--------+-------+----+------+---------+----------+-------+\n",
      "|Lentil, Apple, an...|   2.5|   426.0|   30.0| 7.0| 559.0|      0.0|       0.0|    0.0|\n",
      "|Boudin Blanc Terr...| 4.375|   403.0|   18.0|23.0|1439.0|      0.0|       0.0|    0.0|\n",
      "|Potato and Fennel...|  3.75|   165.0|    6.0| 7.0| 165.0|      0.0|       0.0|    0.0|\n",
      "|Mahi-Mahi in Toma...|   5.0|    null|   null|null|  null|      0.0|       0.0|    0.0|\n",
      "|Spinach Noodle Ca...| 3.125|   547.0|   20.0|32.0| 452.0|      0.0|       0.0|    0.0|\n",
      "|      The Best Blts | 4.375|   948.0|   19.0|79.0|1042.0|      0.0|       0.0|    0.0|\n",
      "|Ham and Spring Ve...| 4.375|    null|   null|null|  null|      0.0|       0.0|    0.0|\n",
      "|Spicy-Sweet Kumqu...|  3.75|    null|   null|null|  null|      0.0|       0.0|    0.0|\n",
      "|Korean Marinated ...| 4.375|   170.0|    7.0|10.0|1272.0|      0.0|       0.0|    0.0|\n",
      "|Ham Persillade wi...|  3.75|   602.0|   23.0|41.0|1696.0|      0.0|       0.0|    0.0|\n",
      "|Yams Braised with...|  3.75|   256.0|    4.0| 5.0|  30.0|      0.0|       0.0|    0.0|\n",
      "|  Spicy Noodle Soup | 4.375|    null|   null|null|  null|      0.0|       0.0|    0.0|\n",
      "|Banana-Chocolate ...| 4.375|   766.0|   12.0|48.0| 439.0|      0.0|       0.0|    1.0|\n",
      "|Beef Tenderloin w...| 4.375|   174.0|   11.0|12.0| 176.0|      0.0|       0.0|    0.0|\n",
      "|      Peach Mustard | 3.125|   134.0|    4.0| 3.0|1394.0|      0.0|       0.0|    0.0|\n",
      "|Raw Cream of Spin...| 4.375|   382.0|    5.0|31.0| 977.0|      0.0|       0.0|    0.0|\n",
      "|Sweet Buttermilk ...| 1.875|   146.0|    4.0| 5.0| 160.0|      0.0|       0.0|    1.0|\n",
      "|Crisp Braised Por...| 4.375|   890.0|   59.0|68.0|1027.0|      0.0|       0.0|    0.0|\n",
      "|Mozzarella-Topped...|   5.0|   107.0|    5.0| 7.0| 344.0|      0.0|       0.0|    0.0|\n",
      "|Tuna, Asparagus, ...|   5.0|   421.0|   10.0|33.0| 383.0|      0.0|       0.0|    0.0|\n",
      "+--------------------+------+--------+-------+----+------+---------+----------+-------+\n",
      "only showing top 20 rows\n",
      "\n"
     ]
    }
   ],
   "source": [
    "food.select('title',\n",
    " 'rating',\n",
    " 'calories',\n",
    " 'protein',\n",
    " 'fat',\n",
    " 'sodium',\n",
    " '#cakeweek',\n",
    " '#wasteless',\n",
    "'dessert').show()"
   ]
  },
  {
   "cell_type": "code",
   "execution_count": 7,
   "id": "2a378e73-53b3-4c47-93fb-749f8badf907",
   "metadata": {
    "tags": []
   },
   "outputs": [
    {
     "name": "stdout",
     "output_type": "stream",
     "text": [
      "+-------+-----+\n",
      "|dessert|count|\n",
      "+-------+-----+\n",
      "|    0.0|16479|\n",
      "|   null|    5|\n",
      "|    1.0| 3573|\n",
      "+-------+-----+\n",
      "\n"
     ]
    }
   ],
   "source": [
    "food.groupBy('dessert').count().show()"
   ]
  },
  {
   "cell_type": "code",
   "execution_count": 14,
   "id": "25dd5eb8-0782-45a4-b215-1d3167eebbd2",
   "metadata": {
    "tags": []
   },
   "outputs": [],
   "source": [
    "#food.printSchema()"
   ]
  },
  {
   "cell_type": "markdown",
   "id": "a5459043-04d8-49af-93be-1c90436605d9",
   "metadata": {},
   "source": [
    "## Standardizing column names using toDF()\n",
    "We will remove anything that isn’t a letter or a number, standardize the spaces and other separators to use the underscore (_) character, and replace the ampersand (&) with its English equivalent and."
   ]
  },
  {
   "cell_type": "code",
   "execution_count": 8,
   "id": "612cd124-5838-4191-b520-f6511f35d164",
   "metadata": {
    "tags": []
   },
   "outputs": [],
   "source": [
    "def sanitize_column_name(name):\n",
    "    \"\"\"Drops unwanted characters from the column name.\n",
    " \n",
    "    We replace spaces, dashes and slashes with underscore,\n",
    "    and only keep alphanumeric characters.\n",
    "    \"\"\"\n",
    "    answer = name\n",
    "    for i, j in ((\" \", \"_\"), (\"-\", \"_\"), (\"/\", \"_\"), (\"&\", \"and\")):   \n",
    "        answer = answer.replace(i, j)\n",
    "    return \"\".join(\n",
    "        [\n",
    "            char\n",
    "            for char in answer\n",
    "            if char.isalpha() or char.isdigit() or char == \"_\"       \n",
    "        ]\n",
    "    )\n",
    "# use toDF() to apply functions to all columns in the data frame\n",
    "food1 = food.toDF(*[sanitize_column_name(name) for name in food.columns])"
   ]
  },
  {
   "cell_type": "code",
   "execution_count": 10,
   "id": "f523109c-a0b1-48a9-995b-276ed73c0080",
   "metadata": {
    "tags": []
   },
   "outputs": [],
   "source": [
    "#food1.printSchema()"
   ]
  },
  {
   "cell_type": "code",
   "execution_count": 12,
   "id": "8aafc292-9ce7-4ddc-aa4e-4945109f8c0d",
   "metadata": {
    "tags": []
   },
   "outputs": [],
   "source": [
    "# Exercise: Modify the above functions to change all characters to lower case\n",
    "# and apply to the food data frame\n",
    "\n",
    "def sanitize_column_name(name):\n",
    "    \"\"\"Drops unwanted characters from the column name.\n",
    " \n",
    "    We replace spaces, dashes and slashes with underscore,\n",
    "    and only keep alphanumeric characters.\n",
    "    \"\"\"\n",
    "    answer = name.lower()\n",
    "    for i, j in ((\" \", \"_\"), (\"-\", \"_\"), (\"/\", \"_\"), (\"&\", \"and\")):   \n",
    "        answer = answer.replace(i, j)\n",
    "    return \"\".join(\n",
    "        [\n",
    "            char\n",
    "            for char in answer\n",
    "            if char.isalpha() or char.isdigit() or char == \"_\"       \n",
    "        ]\n",
    "    )\n",
    "# use toDF() to apply functions to all columns in the data frame\n",
    "food1 = food.toDF(*[sanitize_column_name(name) for name in food.columns])"
   ]
  },
  {
   "cell_type": "code",
   "execution_count": null,
   "id": "a215a9ac-9c12-4a35-8647-d4ce36694ce7",
   "metadata": {
    "tags": []
   },
   "outputs": [],
   "source": [
    "#food1.printSchema()"
   ]
  },
  {
   "cell_type": "markdown",
   "id": "147aa407-c524-4d8f-8a1b-e907e014c525",
   "metadata": {},
   "source": [
    "## Exploring our data and getting our first feature columns"
   ]
  },
  {
   "cell_type": "code",
   "execution_count": 15,
   "id": "91ac6042-6ba9-4dac-baca-d049646129ed",
   "metadata": {
    "tags": []
   },
   "outputs": [
    {
     "name": "stdout",
     "output_type": "stream",
     "text": [
      "+-------+------------------+\n",
      "|summary|           protein|\n",
      "+-------+------------------+\n",
      "|  count|             15891|\n",
      "|   mean|100.19911427852243|\n",
      "| stddev|3840.1994345415887|\n",
      "|    min|               0.0|\n",
      "|    25%|               3.0|\n",
      "|    50%|               8.0|\n",
      "|    75%|              27.0|\n",
      "|    max|          236489.0|\n",
      "+-------+------------------+\n",
      "\n",
      "+-------+------------------+\n",
      "|summary|               fat|\n",
      "+-------+------------------+\n",
      "|  count|             15869|\n",
      "|   mean|346.91247085512634|\n",
      "| stddev|20456.106754746786|\n",
      "|    min|               0.0|\n",
      "|    25%|               7.0|\n",
      "|    50%|              17.0|\n",
      "|    75%|              33.0|\n",
      "|    max|         1722763.0|\n",
      "+-------+------------------+\n",
      "\n",
      "+-------+------------------+\n",
      "|summary|            sodium|\n",
      "+-------+------------------+\n",
      "|  count|             15933|\n",
      "|   mean| 6225.759618402059|\n",
      "| stddev|333318.19251192274|\n",
      "|    min|               0.0|\n",
      "|    25%|              80.0|\n",
      "|    50%|             294.0|\n",
      "|    75%|             709.0|\n",
      "|    max|        2.767511E7|\n",
      "+-------+------------------+\n",
      "\n",
      "+-------+-------------------+\n",
      "|summary|          #cakeweek|\n",
      "+-------+-------------------+\n",
      "|  count|              20051|\n",
      "|   mean|0.10463318537728791|\n",
      "| stddev| 10.441874454500253|\n",
      "|    min|                0.0|\n",
      "|    25%|                0.0|\n",
      "|    50%|                0.0|\n",
      "|    75%|                0.0|\n",
      "|    max|             1188.0|\n",
      "+-------+-------------------+\n",
      "\n",
      "+-------+------------------+\n",
      "|summary|        #wasteless|\n",
      "+-------+------------------+\n",
      "|  count|             20051|\n",
      "|   mean|0.0718168669891776|\n",
      "| stddev|10.162319977115633|\n",
      "|    min|               0.0|\n",
      "|    25%|               0.0|\n",
      "|    50%|               0.0|\n",
      "|    75%|               0.0|\n",
      "|    max|            1439.0|\n",
      "+-------+------------------+\n",
      "\n",
      "+-------+--------------------+\n",
      "|summary|     22-minute meals|\n",
      "+-------+--------------------+\n",
      "|  count|               20052|\n",
      "|   mean|8.477957310991422E-4|\n",
      "| stddev|0.029105312566927343|\n",
      "|    min|                 0.0|\n",
      "|    25%|                 0.0|\n",
      "|    50%|                 0.0|\n",
      "|    75%|                 0.0|\n",
      "|    max|                 1.0|\n",
      "+-------+--------------------+\n",
      "\n",
      "+-------+--------------------+\n",
      "|summary|3-ingredient recipes|\n",
      "+-------+--------------------+\n",
      "|  count|               20052|\n",
      "|   mean|0.001346499102333...|\n",
      "| stddev|0.036670875443491666|\n",
      "|    min|                 0.0|\n",
      "|    25%|                 0.0|\n",
      "|    50%|                 0.0|\n",
      "|    75%|                 0.0|\n",
      "|    max|                 1.0|\n",
      "+-------+--------------------+\n",
      "\n",
      "+-------+--------------------+\n",
      "|summary|30 days of groceries|\n",
      "+-------+--------------------+\n",
      "|  count|               20052|\n",
      "|   mean|3.490923598643527E-4|\n",
      "| stddev|0.018681217801117492|\n",
      "|    min|                 0.0|\n",
      "|    25%|                 0.0|\n",
      "|    50%|                 0.0|\n",
      "|    75%|                 0.0|\n",
      "|    max|                 1.0|\n",
      "+-------+--------------------+\n",
      "\n",
      "+-------+---------------------+\n",
      "|summary|advance prep required|\n",
      "+-------+---------------------+\n",
      "|  count|                20052|\n",
      "|   mean| 0.005435866746459206|\n",
      "| stddev|  0.07352950242947795|\n",
      "|    min|                  0.0|\n",
      "|    25%|                  0.0|\n",
      "|    50%|                  0.0|\n",
      "|    75%|                  0.0|\n",
      "|    max|                  1.0|\n",
      "+-------+---------------------+\n",
      "\n",
      "+-------+--------------------+\n",
      "|summary|             alabama|\n",
      "+-------+--------------------+\n",
      "|  count|               20052|\n",
      "|   mean|1.496110113704368...|\n",
      "| stddev|0.012230947973197768|\n",
      "|    min|                 0.0|\n",
      "|    25%|                 0.0|\n",
      "|    50%|                 0.0|\n",
      "|    75%|                 0.0|\n",
      "|    max|                 1.0|\n",
      "+-------+--------------------+\n",
      "\n",
      "+-------+--------------------+\n",
      "|summary|              alaska|\n",
      "+-------+--------------------+\n",
      "|  count|               20052|\n",
      "|   mean|9.974067424695791E-5|\n",
      "| stddev|0.009986776251515592|\n",
      "|    min|                 0.0|\n",
      "|    25%|                 0.0|\n",
      "|    50%|                 0.0|\n",
      "|    75%|                 0.0|\n",
      "|    max|                 1.0|\n",
      "+-------+--------------------+\n",
      "\n",
      "+-------+-------------------+\n",
      "|summary|          alcoholic|\n",
      "+-------+-------------------+\n",
      "|  count|              20052|\n",
      "|   mean|0.04164173149810493|\n",
      "| stddev|0.19977409242827254|\n",
      "|    min|                0.0|\n",
      "|    25%|                0.0|\n",
      "|    50%|                0.0|\n",
      "|    75%|                0.0|\n",
      "|    max|                1.0|\n",
      "+-------+-------------------+\n",
      "\n",
      "+-------+-------------------+\n",
      "|summary|             almond|\n",
      "+-------+-------------------+\n",
      "|  count|              20052|\n",
      "|   mean|0.02912427688011171|\n",
      "| stddev|0.16815904252511718|\n",
      "|    min|                0.0|\n",
      "|    25%|                0.0|\n",
      "|    50%|                0.0|\n",
      "|    75%|                0.0|\n",
      "|    max|                1.0|\n",
      "+-------+-------------------+\n",
      "\n",
      "+-------+--------------------+\n",
      "|summary|            amaretto|\n",
      "+-------+--------------------+\n",
      "|  count|               20052|\n",
      "|   mean|0.001944943147815...|\n",
      "| stddev|0.044059699898163336|\n",
      "|    min|                 0.0|\n",
      "|    25%|                 0.0|\n",
      "|    50%|                 0.0|\n",
      "|    75%|                 0.0|\n",
      "|    max|                 1.0|\n",
      "+-------+--------------------+\n",
      "\n",
      "+-------+--------------------+\n",
      "|summary|             anchovy|\n",
      "+-------+--------------------+\n",
      "|  count|               20052|\n",
      "|   mean|0.002244165170556553|\n",
      "| stddev| 0.04732061458736233|\n",
      "|    min|                 0.0|\n",
      "|    25%|                 0.0|\n",
      "|    50%|                 0.0|\n",
      "|    75%|                 0.0|\n",
      "|    max|                 1.0|\n",
      "+-------+--------------------+\n",
      "\n",
      "+-------+--------------------+\n",
      "|summary|               anise|\n",
      "+-------+--------------------+\n",
      "|  count|               20052|\n",
      "|   mean|0.005784959106323559|\n",
      "| stddev| 0.07584049180799951|\n",
      "|    min|                 0.0|\n",
      "|    25%|                 0.0|\n",
      "|    50%|                 0.0|\n",
      "|    75%|                 0.0|\n",
      "|    max|                 1.0|\n",
      "+-------+--------------------+\n",
      "\n",
      "+-------+--------------------+\n",
      "|summary|         anniversary|\n",
      "+-------+--------------------+\n",
      "|  count|               20052|\n",
      "|   mean|0.005535607420706164|\n",
      "| stddev|  0.0741972979246268|\n",
      "|    min|                 0.0|\n",
      "|    25%|                 0.0|\n",
      "|    50%|                 0.0|\n",
      "|    75%|                 0.0|\n",
      "|    max|                 1.0|\n",
      "+-------+--------------------+\n",
      "\n"
     ]
    }
   ],
   "source": [
    "# check the statistics of numerical columns. As an example, we only focuse on the first 20 columns\n",
    "for x in food.columns[0:20]:\n",
    "    if food.schema[x].dataType!=T.StringType():\n",
    "        food.select(x).summary().show()"
   ]
  },
  {
   "cell_type": "code",
   "execution_count": 16,
   "id": "aa904ad9-c0fd-4659-b2fc-574cff3d5407",
   "metadata": {
    "tags": []
   },
   "outputs": [
    {
     "name": "stdout",
     "output_type": "stream",
     "text": [
      "+-----+-----+\n",
      "|anise|count|\n",
      "+-----+-----+\n",
      "|  0.0|19936|\n",
      "| null|    5|\n",
      "|  1.0|  116|\n",
      "+-----+-----+\n",
      "\n"
     ]
    }
   ],
   "source": [
    "food.groupBy('anise').count().show()"
   ]
  },
  {
   "cell_type": "code",
   "execution_count": 17,
   "id": "c021e1b3-8dc1-4ee6-aea4-1825de776cc8",
   "metadata": {
    "tags": []
   },
   "outputs": [
    {
     "name": "stdout",
     "output_type": "stream",
     "text": [
      "+-------+--------------------+\n",
      "|summary|               clove|\n",
      "+-------+--------------------+\n",
      "|  count|               20052|\n",
      "|   mean|0.009624975064831438|\n",
      "| stddev| 0.09763611178399834|\n",
      "|    min|                 0.0|\n",
      "|    25%|                 0.0|\n",
      "|    50%|                 0.0|\n",
      "|    75%|                 0.0|\n",
      "|    max|                 1.0|\n",
      "+-------+--------------------+\n",
      "\n"
     ]
    }
   ],
   "source": [
    "# check specific column\n",
    "\n",
    "food.select('clove').summary().show()"
   ]
  },
  {
   "cell_type": "code",
   "execution_count": 18,
   "id": "d86603fe-fda6-43ed-b49c-6759e0cecb4f",
   "metadata": {
    "tags": []
   },
   "outputs": [
    {
     "name": "stderr",
     "output_type": "stream",
     "text": [
      "                                                                                \r"
     ]
    }
   ],
   "source": [
    "# check all columns with binary value. As an example, we will only focus on the first 20 columns.\n",
    "import pandas as pd\n",
    "from pyspark.sql import functions as F\n",
    "\n",
    "is_binary = food1.agg(\n",
    "    *[(F.countDistinct(col) == 2).alias(col) for col in food1.columns[0:20]]\n",
    ").toPandas()"
   ]
  },
  {
   "cell_type": "code",
   "execution_count": 19,
   "id": "808da046-0eb2-4638-a6eb-0ee711e088ff",
   "metadata": {
    "tags": []
   },
   "outputs": [
    {
     "data": {
      "text/plain": [
       "title                  0    False\n",
       "rating                 0    False\n",
       "calories               0    False\n",
       "protein                0    False\n",
       "fat                    0    False\n",
       "sodium                 0    False\n",
       "cakeweek               0    False\n",
       "wasteless              0    False\n",
       "22_minute_meals        0     True\n",
       "3_ingredient_recipes   0     True\n",
       "30_days_of_groceries   0     True\n",
       "advance_prep_required  0     True\n",
       "alabama                0     True\n",
       "alaska                 0     True\n",
       "alcoholic              0     True\n",
       "almond                 0     True\n",
       "amaretto               0     True\n",
       "anchovy                0     True\n",
       "anise                  0     True\n",
       "anniversary            0     True\n",
       "dtype: bool"
      ]
     },
     "execution_count": 19,
     "metadata": {},
     "output_type": "execute_result"
    }
   ],
   "source": [
    "#is_binary\n",
    "is_binary.unstack()"
   ]
  },
  {
   "cell_type": "markdown",
   "id": "4d1939f2-6267-4518-a399-44e55fa46082",
   "metadata": {},
   "source": [
    "## Addressing data misshaps, using cakeweek and wasterless as example"
   ]
  },
  {
   "cell_type": "code",
   "execution_count": 20,
   "id": "2f036ff1-52a4-411f-9f31-ce25db0b185d",
   "metadata": {
    "tags": []
   },
   "outputs": [
    {
     "name": "stdout",
     "output_type": "stream",
     "text": [
      "+--------+-----+\n",
      "|cakeweek|count|\n",
      "+--------+-----+\n",
      "|     0.0|20042|\n",
      "|    null|    6|\n",
      "|     1.0|    6|\n",
      "|   880.0|    1|\n",
      "|    24.0|    1|\n",
      "|  1188.0|    1|\n",
      "+--------+-----+\n",
      "\n"
     ]
    }
   ],
   "source": [
    "food1.groupBy('cakeweek').count().show()"
   ]
  },
  {
   "cell_type": "code",
   "execution_count": 131,
   "id": "dc218864-d5a9-4d7d-8408-c5b2387bf39b",
   "metadata": {
    "tags": []
   },
   "outputs": [
    {
     "name": "stdout",
     "output_type": "stream",
     "text": [
      "+---------+-----+\n",
      "|wasteless|count|\n",
      "+---------+-----+\n",
      "|      0.0|20049|\n",
      "|     null|    6|\n",
      "|      1.0|    1|\n",
      "|   1439.0|    1|\n",
      "+---------+-----+\n",
      "\n"
     ]
    }
   ],
   "source": [
    "food1.groupBy('wasteless').count().show()"
   ]
  },
  {
   "cell_type": "code",
   "execution_count": 21,
   "id": "59126cf2-7cd8-43a4-ae20-2aa33161e076",
   "metadata": {
    "tags": []
   },
   "outputs": [
    {
     "name": "stdout",
     "output_type": "stream",
     "text": [
      "20057 20054\n"
     ]
    }
   ],
   "source": [
    "# for cakeweek and wasteless, only keep 0, 1 and null. Drop the rest\n",
    "\n",
    "food2 = food1.where(\n",
    "    (\n",
    "        F.col(\"cakeweek\").isin([0.0, 1.0])    \n",
    "        | F.col(\"cakeweek\").isNull()         \n",
    "    )\n",
    "    & (\n",
    "        F.col(\"wasteless\").isin([0.0, 1.0])    \n",
    "        | F.col(\"wasteless\").isNull()         \n",
    "    )\n",
    ")\n",
    " \n",
    "print(food1.count(), food2.count())\n",
    " \n",
    "# result 20057 20054. Three records were removed.                   "
   ]
  },
  {
   "cell_type": "code",
   "execution_count": 22,
   "id": "9987a47f-d1b8-44b1-8891-1546f9f6b551",
   "metadata": {
    "tags": []
   },
   "outputs": [
    {
     "data": {
      "text/plain": [
       "['title', 'rating', 'calories']"
      ]
     },
     "execution_count": 22,
     "metadata": {},
     "output_type": "execute_result"
    }
   ],
   "source": [
    "# Check category columns\n",
    "catColumns=[x for x in food2.columns if food2.schema[x].dataType==F.StringType()]\n",
    "\n",
    "catColumns"
   ]
  },
  {
   "cell_type": "code",
   "execution_count": 23,
   "id": "e7744f72-d8ba-4208-9be6-6944ba3de663",
   "metadata": {
    "tags": []
   },
   "outputs": [],
   "source": [
    "# rating and calories should be double. Covert the type from string to double\n",
    "\n",
    "food2=food2.withColumn('rating', F.col('rating').cast('Double')) \\\n",
    "     .withColumn('calories', F.col('calories').cast('Double'))"
   ]
  },
  {
   "cell_type": "markdown",
   "id": "c6226f21-0806-4c22-b6e9-80d79fd2dc56",
   "metadata": {},
   "source": [
    "### Create four top level variables"
   ]
  },
  {
   "cell_type": "code",
   "execution_count": 25,
   "id": "e0d4a193-cf44-4885-afd7-88eb6b848205",
   "metadata": {
    "tags": []
   },
   "outputs": [],
   "source": [
    "IDENTIFIERS = [\"title\"]\n",
    " \n",
    "CONTINUOUS_COLUMNS = [\n",
    "    \"rating\",\n",
    "    \"calories\",\n",
    "    \"protein\",\n",
    "    \"fat\",\n",
    "    \"sodium\",\n",
    "]\n",
    " \n",
    "TARGET_COLUMN = [\"dessert\"]\n",
    " \n",
    "BINARY_COLUMNS = [\n",
    "    x\n",
    "    for x in food2.columns\n",
    "    if x not in CONTINUOUS_COLUMNS\n",
    "    and x not in TARGET_COLUMN\n",
    "    and x not in IDENTIFIERS\n",
    "]"
   ]
  },
  {
   "cell_type": "markdown",
   "id": "4e6a891d-349b-49ef-bb1d-97604dda12c4",
   "metadata": {},
   "source": [
    "## Deal with missing values (Weeding our useless records and imputing binary features)"
   ]
  },
  {
   "cell_type": "code",
   "execution_count": 27,
   "id": "5016a8a2-56a0-4651-8a1f-aadaa036d6c8",
   "metadata": {
    "tags": []
   },
   "outputs": [],
   "source": [
    "# drop records where all features are null\n",
    "\n",
    "food3 = food2.dropna(\n",
    "    how=\"all\",\n",
    "    subset=[x for x in food2.columns if x not in IDENTIFIERS]\n",
    ")\n",
    "\n",
    "# drop records whereh target column is null\n",
    "\n",
    "food3 = food3.dropna(subset=TARGET_COLUMN)\n",
    "\n",
    "# impute binary columns. Fill null value with 0\n",
    "\n",
    "food3=food3.fillna(0.0, subset=BINARY_COLUMNS)"
   ]
  },
  {
   "cell_type": "markdown",
   "id": "9a3c4577-3647-4afe-8055-7da86b13f4ac",
   "metadata": {},
   "source": [
    "## Take care of extreme values/outliners"
   ]
  },
  {
   "cell_type": "code",
   "execution_count": 28,
   "id": "53eba8a4-bcbb-4440-9731-b0157f6b7f11",
   "metadata": {
    "tags": []
   },
   "outputs": [
    {
     "name": "stderr",
     "output_type": "stream",
     "text": [
      "[Stage 81:========================================>               (10 + 4) / 14]\r"
     ]
    },
    {
     "name": "stdout",
     "output_type": "stream",
     "text": [
      "+-------+-----------------+------------------+------------------+------------------+-----------------+\n",
      "|summary|           rating|          calories|           protein|               fat|           sodium|\n",
      "+-------+-----------------+------------------+------------------+------------------+-----------------+\n",
      "|  count|            20048|             15932|             15888|             15866|            15930|\n",
      "|   mean|3.714460295291301|6324.0634571930705|100.16778386203424| 346.9398083953107|6226.927244193346|\n",
      "| stddev|1.340918766050895| 359079.8369634017| 3840.560196452005|20458.040344124125|333349.5680370268|\n",
      "|    min|              0.0|               0.0|               0.0|               0.0|              0.0|\n",
      "|    25%|             3.75|             198.0|               3.0|               7.0|             80.0|\n",
      "|    50%|            4.375|             331.0|               8.0|              17.0|            294.0|\n",
      "|    75%|            4.375|             586.0|              27.0|              33.0|            710.0|\n",
      "|    max|              5.0|       3.0111218E7|          236489.0|         1722763.0|       2.767511E7|\n",
      "+-------+-----------------+------------------+------------------+------------------+-----------------+\n",
      "\n"
     ]
    },
    {
     "name": "stderr",
     "output_type": "stream",
     "text": [
      "                                                                                \r"
     ]
    }
   ],
   "source": [
    "food3.select(*CONTINUOUS_COLUMNS).summary().show()"
   ]
  },
  {
   "cell_type": "code",
   "execution_count": 29,
   "id": "344f2c4f-d491-4319-95a1-9e74f2b8968c",
   "metadata": {
    "tags": []
   },
   "outputs": [
    {
     "data": {
      "text/plain": [
       "{'calories': 3184.0, 'protein': 171.0, 'fat': 205.0, 'sodium': 5649.0}"
      ]
     },
     "execution_count": 29,
     "metadata": {},
     "output_type": "execute_result"
    }
   ],
   "source": [
    "# return 99 percentile of each feature\n",
    "\n",
    "selected_columns=[ \"calories\", \"protein\", \"fat\",\"sodium\"]\n",
    "\n",
    "maximum={}\n",
    "\n",
    "for c in selected_columns:\n",
    "    maximum[c]=food3.select(F.percentile_approx(c, 0.99)).collect()[0][0]\n",
    "    \n",
    "maximum"
   ]
  },
  {
   "cell_type": "code",
   "execution_count": 30,
   "id": "88b0f466-a420-472c-829a-712d77336d82",
   "metadata": {
    "tags": []
   },
   "outputs": [],
   "source": [
    "# for the above feature, replace any value over 99 percentile to the value at 99 percentile\n",
    "\n",
    "for k, v in maximum.items():\n",
    "    food3=food3.withColumn(k, F.when(F.isnull(F.col(k)), F.col(k)).otherwise(\n",
    "        F.least(F.col(k), F.lit(v))\n",
    "    ))"
   ]
  },
  {
   "cell_type": "code",
   "execution_count": 35,
   "id": "9818c9b3-a6c0-4c4a-85d4-4c61639c3262",
   "metadata": {
    "tags": []
   },
   "outputs": [
    {
     "name": "stderr",
     "output_type": "stream",
     "text": [
      "/home/sli/.local/lib/python3.10/site-packages/seaborn/_oldcore.py:1498: FutureWarning: is_categorical_dtype is deprecated and will be removed in a future version. Use isinstance(dtype, CategoricalDtype) instead\n",
      "  if pd.api.types.is_categorical_dtype(vector):\n",
      "/home/sli/.local/lib/python3.10/site-packages/seaborn/_oldcore.py:1498: FutureWarning: is_categorical_dtype is deprecated and will be removed in a future version. Use isinstance(dtype, CategoricalDtype) instead\n",
      "  if pd.api.types.is_categorical_dtype(vector):\n",
      "/home/sli/.local/lib/python3.10/site-packages/seaborn/_oldcore.py:1498: FutureWarning: is_categorical_dtype is deprecated and will be removed in a future version. Use isinstance(dtype, CategoricalDtype) instead\n",
      "  if pd.api.types.is_categorical_dtype(vector):\n",
      "/home/sli/.local/lib/python3.10/site-packages/seaborn/_oldcore.py:1498: FutureWarning: is_categorical_dtype is deprecated and will be removed in a future version. Use isinstance(dtype, CategoricalDtype) instead\n",
      "  if pd.api.types.is_categorical_dtype(vector):\n"
     ]
    },
    {
     "data": {
      "image/png": "[encoded data removed]",
      "text/plain": [
       "<Figure size 800x1400 with 4 Axes>"
      ]
     },
     "metadata": {},
     "output_type": "display_data"
    }
   ],
   "source": [
    "### Check the boxplot of each feature\n",
    "\n",
    "selected_columns=[ \"calories\", \"protein\", \"fat\",\"sodium\"]\n",
    "\n",
    "# without removing outliners\n",
    "#df=food2.select(selected_columns).toPandas()\n",
    "\n",
    "# with outliners removed\n",
    "df=food3.select(selected_columns).toPandas()\n",
    "\n",
    "# Set up a 4X1 grid of subplots\n",
    "fig, axes = plt.subplots(4, 1, figsize=(8, 14))\n",
    "\n",
    "i=0\n",
    "for c in selected_columns:\n",
    "    sns.boxplot(x=df[c], ax=axes[i])\n",
    "    i=i+1\n",
    "    \n",
    "# Adjust layout\n",
    "plt.tight_layout()\n",
    "plt.show()"
   ]
  },
  {
   "cell_type": "markdown",
   "id": "6568c129-330b-4380-8907-47c1ace8ef85",
   "metadata": {},
   "source": [
    "## Weeding out the rare binary occurrence columns\n",
    "\n",
    "Binary features with only a few zeroes or ones are not helpful in classifying a recipe as a dessert: if every recipe (or no recipe) has a certain feature as true, then that feature does not discriminate properly, meaning that our model has no use for it."
   ]
  },
  {
   "cell_type": "code",
   "execution_count": 36,
   "id": "7ac9ef35-5af3-43c1-a1f0-ff418434e98e",
   "metadata": {
    "tags": []
   },
   "outputs": [
    {
     "name": "stderr",
     "output_type": "stream",
     "text": [
      "                                                                                \r"
     ]
    }
   ],
   "source": [
    "# for binary variables, remove features with less then 10 of 0 or 1.\n",
    "\n",
    "inst_sum_of_binary_columns = [\n",
    "    F.sum(F.col(x)).alias(x) for x in BINARY_COLUMNS\n",
    "]\n",
    " \n",
    "sum_of_binary_columns = (\n",
    "    food3.select(*inst_sum_of_binary_columns).head().asDict()         \n",
    ")\n",
    " \n",
    "num_rows = food3.count()\n",
    "too_rare_features = [\n",
    "    k\n",
    "    for k, v in sum_of_binary_columns.items()\n",
    "    if v < 10 or v > (num_rows - 10)\n",
    "]\n",
    "\n",
    "BINARY_COLUMNS = list(set(BINARY_COLUMNS) - set(too_rare_features)) "
   ]
  },
  {
   "cell_type": "code",
   "execution_count": 37,
   "id": "b5641fdc-6c1a-4757-a9c5-21eeae131294",
   "metadata": {
    "tags": []
   },
   "outputs": [
    {
     "data": {
      "text/plain": [
       "167"
      ]
     },
     "execution_count": 37,
     "metadata": {},
     "output_type": "execute_result"
    }
   ],
   "source": [
    "#too_rare_features\n",
    "\n",
    "len(too_rare_features)"
   ]
  },
  {
   "cell_type": "markdown",
   "id": "35bd40fb-f4c4-4cd6-9483-d0ebef7640fb",
   "metadata": {},
   "source": [
    "# Feature Creation/Engineering and Refinement\n",
    "\n",
    "- Creating a few custom features using our continuous feature columns\n",
    "\n",
    "- Measuring correlation over original and generated continuous features"
   ]
  },
  {
   "cell_type": "markdown",
   "id": "7cb70ad1-1f55-40f4-968c-d3b88277ce80",
   "metadata": {
    "tags": []
   },
   "source": [
    "## Feaure Creation\n",
    "As an example, we’ll take the protein and fat columns representing the quantity (in grams) of protein and fat in the recipe, respectively. With the information in those two columns, we create two features representing the percentage of calories attributed to each macro nutriment."
   ]
  },
  {
   "cell_type": "code",
   "execution_count": 40,
   "id": "c3886fdc-59be-46d0-9a26-241b3205f6d8",
   "metadata": {
    "tags": []
   },
   "outputs": [],
   "source": [
    "food3 = food3.withColumn(\n",
    "    \"protein_ratio\", F.col(\"protein\") * 4 / F.col(\"calories\")\n",
    ").withColumn(\n",
    "    \"fat_ratio\", F.col(\"fat\") * 9 / F.col(\"calories\")\n",
    ")                                                           \n",
    " \n",
    "food3 = food3.fillna(0.0, subset=[\"protein_ratio\", \"fat_ratio\"])\n",
    " \n",
    "CONTINUOUS_COLUMNS += [\"protein_ratio\", \"fat_ratio\"]    "
   ]
  },
  {
   "cell_type": "markdown",
   "id": "d0df71fb-e091-41b7-a766-fa326ead91aa",
   "metadata": {},
   "source": [
    "## Removing highly correlated features\n",
    "\n",
    "We want our features to be correlated with our target (this provides predictive power). On the other hand, we want to avoid correlation between features for two main reasons:\n",
    "- If two features are highly correlated, it means that they provide almost the same information. In the context of machine learning, this can confuse the fitting algorithm and create model or numerical instability.\n",
    "- The more complex your model, the more complex the maintenance. Highly correlated features rarely provide improved accuracy, yet complicate the model. Simple is better."
   ]
  },
  {
   "cell_type": "markdown",
   "id": "e1c622f4-af6c-4e62-a428-84b262fce170",
   "metadata": {},
   "source": [
    "### convert to pandas to calculate correlation"
   ]
  },
  {
   "cell_type": "code",
   "execution_count": 41,
   "id": "16acaf5d-3cf3-4767-9dce-40e8366b837d",
   "metadata": {
    "tags": []
   },
   "outputs": [
    {
     "data": {
      "text/html": [
       "<div>\n",
       "<style scoped>\n",
       "    .dataframe tbody tr th:only-of-type {\n",
       "        vertical-align: middle;\n",
       "    }\n",
       "\n",
       "    .dataframe tbody tr th {\n",
       "        vertical-align: top;\n",
       "    }\n",
       "\n",
       "    .dataframe thead th {\n",
       "        text-align: right;\n",
       "    }\n",
       "</style>\n",
       "<table border=\"1\" class=\"dataframe\">\n",
       "  <thead>\n",
       "    <tr style=\"text-align: right;\">\n",
       "      <th></th>\n",
       "      <th>rating</th>\n",
       "      <th>calories</th>\n",
       "      <th>protein</th>\n",
       "      <th>fat</th>\n",
       "      <th>sodium</th>\n",
       "      <th>protein_ratio</th>\n",
       "      <th>fat_ratio</th>\n",
       "    </tr>\n",
       "  </thead>\n",
       "  <tbody>\n",
       "    <tr>\n",
       "      <th>rating</th>\n",
       "      <td>1.000000</td>\n",
       "      <td>0.105771</td>\n",
       "      <td>0.114776</td>\n",
       "      <td>0.112020</td>\n",
       "      <td>0.068096</td>\n",
       "      <td>0.102900</td>\n",
       "      <td>0.127658</td>\n",
       "    </tr>\n",
       "    <tr>\n",
       "      <th>calories</th>\n",
       "      <td>0.105771</td>\n",
       "      <td>1.000000</td>\n",
       "      <td>0.758302</td>\n",
       "      <td>0.917940</td>\n",
       "      <td>0.517547</td>\n",
       "      <td>0.167612</td>\n",
       "      <td>0.181078</td>\n",
       "    </tr>\n",
       "    <tr>\n",
       "      <th>protein</th>\n",
       "      <td>0.114776</td>\n",
       "      <td>0.758302</td>\n",
       "      <td>1.000000</td>\n",
       "      <td>0.665523</td>\n",
       "      <td>0.585633</td>\n",
       "      <td>0.600954</td>\n",
       "      <td>0.111205</td>\n",
       "    </tr>\n",
       "    <tr>\n",
       "      <th>fat</th>\n",
       "      <td>0.112020</td>\n",
       "      <td>0.917940</td>\n",
       "      <td>0.665523</td>\n",
       "      <td>1.000000</td>\n",
       "      <td>0.422152</td>\n",
       "      <td>0.125973</td>\n",
       "      <td>0.425629</td>\n",
       "    </tr>\n",
       "    <tr>\n",
       "      <th>sodium</th>\n",
       "      <td>0.068096</td>\n",
       "      <td>0.517547</td>\n",
       "      <td>0.585633</td>\n",
       "      <td>0.422152</td>\n",
       "      <td>1.000000</td>\n",
       "      <td>0.340287</td>\n",
       "      <td>0.038307</td>\n",
       "    </tr>\n",
       "    <tr>\n",
       "      <th>protein_ratio</th>\n",
       "      <td>0.102900</td>\n",
       "      <td>0.167612</td>\n",
       "      <td>0.600954</td>\n",
       "      <td>0.125973</td>\n",
       "      <td>0.340287</td>\n",
       "      <td>1.000000</td>\n",
       "      <td>0.331224</td>\n",
       "    </tr>\n",
       "    <tr>\n",
       "      <th>fat_ratio</th>\n",
       "      <td>0.127658</td>\n",
       "      <td>0.181078</td>\n",
       "      <td>0.111205</td>\n",
       "      <td>0.425629</td>\n",
       "      <td>0.038307</td>\n",
       "      <td>0.331224</td>\n",
       "      <td>1.000000</td>\n",
       "    </tr>\n",
       "  </tbody>\n",
       "</table>\n",
       "</div>"
      ],
      "text/plain": [
       "                 rating  calories   protein       fat    sodium  \\\n",
       "rating         1.000000  0.105771  0.114776  0.112020  0.068096   \n",
       "calories       0.105771  1.000000  0.758302  0.917940  0.517547   \n",
       "protein        0.114776  0.758302  1.000000  0.665523  0.585633   \n",
       "fat            0.112020  0.917940  0.665523  1.000000  0.422152   \n",
       "sodium         0.068096  0.517547  0.585633  0.422152  1.000000   \n",
       "protein_ratio  0.102900  0.167612  0.600954  0.125973  0.340287   \n",
       "fat_ratio      0.127658  0.181078  0.111205  0.425629  0.038307   \n",
       "\n",
       "               protein_ratio  fat_ratio  \n",
       "rating              0.102900   0.127658  \n",
       "calories            0.167612   0.181078  \n",
       "protein             0.600954   0.111205  \n",
       "fat                 0.125973   0.425629  \n",
       "sodium              0.340287   0.038307  \n",
       "protein_ratio       1.000000   0.331224  \n",
       "fat_ratio           0.331224   1.000000  "
      ]
     },
     "execution_count": 41,
     "metadata": {},
     "output_type": "execute_result"
    }
   ],
   "source": [
    "corr=food3.select(CONTINUOUS_COLUMNS).toPandas().corr()\n",
    "corr"
   ]
  },
  {
   "cell_type": "code",
   "execution_count": 42,
   "id": "01299856-c435-47c6-b814-6617a66d1778",
   "metadata": {
    "tags": []
   },
   "outputs": [
    {
     "data": {
      "text/plain": [
       "Text(0.5, 1.0, 'Correlation Heatmap')"
      ]
     },
     "execution_count": 42,
     "metadata": {},
     "output_type": "execute_result"
    },
    {
     "data": {
      "image/png": "[encoded data removed]",
      "text/plain": [
       "<Figure size 800x600 with 2 Axes>"
      ]
     },
     "metadata": {},
     "output_type": "display_data"
    }
   ],
   "source": [
    "plt.figure(figsize=(8, 6))\n",
    "sns.heatmap(corr, annot=True, cmap='coolwarm', vmin=-1, vmax=1)\n",
    "plt.title('Correlation Heatmap')"
   ]
  },
  {
   "cell_type": "markdown",
   "id": "d67b4205-8dd2-4cbf-b3cc-ff4e9e0b49a4",
   "metadata": {},
   "source": [
    "### Use pyspark way to calcualte correlation"
   ]
  },
  {
   "cell_type": "code",
   "execution_count": 43,
   "id": "f9f53bda-a708-4744-b0df-d920ac065529",
   "metadata": {
    "tags": []
   },
   "outputs": [
    {
     "name": "stdout",
     "output_type": "stream",
     "text": [
      "+---------------------------------------------------------------------+\n",
      "|continuous_features                                                  |\n",
      "+---------------------------------------------------------------------+\n",
      "|[2.5,426.0,30.0,7.0,559.0,0.28169014084507044,0.14788732394366197]   |\n",
      "|[4.375,403.0,18.0,23.0,1439.0,0.17866004962779156,0.5136476426799007]|\n",
      "|[3.75,165.0,6.0,7.0,165.0,0.14545454545454545,0.38181818181818183]   |\n",
      "+---------------------------------------------------------------------+\n",
      "only showing top 3 rows\n",
      "\n"
     ]
    }
   ],
   "source": [
    "from pyspark.ml.feature import VectorAssembler\n",
    " \n",
    "continuous_features = VectorAssembler(\n",
    "    inputCols=CONTINUOUS_COLUMNS, outputCol=\"continuous_features\"\n",
    ")\n",
    " \n",
    "vector_food = food3.select(CONTINUOUS_COLUMNS)\n",
    "for x in CONTINUOUS_COLUMNS:\n",
    "    vector_food = vector_food.where(~F.isnull(F.col(x))) \n",
    " \n",
    "vector_variable = continuous_features.transform(vector_food)\n",
    " \n",
    "vector_variable.select(\"continuous_features\").show(3, False)"
   ]
  },
  {
   "cell_type": "code",
   "execution_count": 44,
   "id": "3145cd6b-cb4d-4212-80e9-5a1583eb3169",
   "metadata": {
    "tags": []
   },
   "outputs": [
    {
     "name": "stderr",
     "output_type": "stream",
     "text": [
      "                                                                                \r"
     ]
    }
   ],
   "source": [
    "from pyspark.ml.stat import Correlation\n",
    " \n",
    "correlation = Correlation.corr(\n",
    "    vector_variable, \"continuous_features\"                \n",
    ")\n",
    " \n",
    "correlation_array = correlation.head()[0].toArray()       \n",
    " \n",
    "correlation_pd = pd.DataFrame(\n",
    "    correlation_array,                                      \n",
    "    index=CONTINUOUS_COLUMNS,                               \n",
    "    columns=CONTINUOUS_COLUMNS,                             \n",
    ")"
   ]
  },
  {
   "cell_type": "code",
   "execution_count": 45,
   "id": "ea319df9-11ea-4b28-95e5-14a9e7be5fe6",
   "metadata": {
    "tags": []
   },
   "outputs": [
    {
     "name": "stdout",
     "output_type": "stream",
     "text": [
      "                 rating  calories   protein       fat\n",
      "rating         1.000000  0.102454  0.113533  0.111841\n",
      "calories       0.102454  1.000000  0.758112  0.917925\n",
      "protein        0.113533  0.758112  1.000000  0.665499\n",
      "fat            0.111841  0.917925  0.665499  1.000000\n",
      "sodium         0.065273  0.516964  0.585346  0.422094\n",
      "protein_ratio  0.094407  0.164541  0.600531  0.125708\n",
      "fat_ratio      0.129939  0.176553  0.109348  0.425424\n"
     ]
    }
   ],
   "source": [
    "print(correlation_pd.iloc[:, :4])"
   ]
  },
  {
   "cell_type": "markdown",
   "id": "39fed27d-51be-4cf3-b8b1-12bfe06d62e9",
   "metadata": {},
   "source": [
    "## Feature preparation with transformers and estimators\n",
    "We explore two relevant examples of transformers and estimators:\n",
    "- Null imputation, where we provide a value to replace null occurrences in a column (e.g., the mean)\n",
    "- Scaling features, where we normalize the values of a column, so they are on a more logical scale (e.g., between zero and one)"
   ]
  },
  {
   "cell_type": "markdown",
   "id": "7601fe48-15d2-4bb9-ba54-f8a6d0095974",
   "metadata": {},
   "source": [
    "[Function Approach and Transformer Approach](https://raw.githubusercontent.com/Suhong88/ISA460_Fall2023/main/images/Figure%2012.2.PNG)"
   ]
  },
  {
   "cell_type": "markdown",
   "id": "a73b1b5d-0fee-432d-9006-38fb3342cdee",
   "metadata": {},
   "source": [
    "### Imputing continuous features using the Imputer estimator\n",
    "\n",
    "At the core, an estimator is a transformer-generating object. We instantiate an estimator object just like a transformer by providing the relevant parameters to its constructor. To apply an estimator, we call the fit() method, which returns a Model object, which is, for all purposes, the same as a transformer. Estimators allow for automatically creating transformers that depend on the data"
   ]
  },
  {
   "cell_type": "markdown",
   "id": "34f4da93-47f8-437e-8940-4392b3d970ce",
   "metadata": {},
   "source": [
    "[Imputer and its companion transformer/model](https://raw.githubusercontent.com/Suhong88/ISA460_Fall2023/main/images/Figure%2012.3.JPG)"
   ]
  },
  {
   "cell_type": "code",
   "execution_count": 46,
   "id": "950df473-d404-44d5-8be5-a51fdde4ec98",
   "metadata": {
    "tags": []
   },
   "outputs": [],
   "source": [
    "# impute the following 5 featurs with mean\n",
    "\n",
    "from pyspark.ml.feature import Imputer\n",
    " \n",
    "OLD_COLS = [\"rating\", \"calories\", \"protein\", \"fat\", \"sodium\"]\n",
    "NEW_COLS = [\"rating_i\", \"calories_i\", \"protein_i\", \"fat_i\", \"sodium_i\"]\n",
    " \n",
    "imputer = Imputer(\n",
    "    strategy=\"mean\",                                            \n",
    "    inputCols=OLD_COLS,                                         \n",
    "    outputCols=NEW_COLS,                                        \n",
    ")\n",
    " \n",
    "imputer_model = imputer.fit(food3)  \n",
    "\n",
    "food_imputed = imputer_model.transform(food3)\n",
    " \n",
    "CONTINUOUS_COLUMNS = (\n",
    "    list(set(CONTINUOUS_COLUMNS) - set(OLD_COLS)) + NEW_COLS    \n",
    ")\n",
    "\n",
    "CONTINUOUS_COLUMNS=set(CONTINUOUS_COLUMNS)"
   ]
  },
  {
   "cell_type": "markdown",
   "id": "cb100236-0da0-495b-aa32-0317ac2c1e2c",
   "metadata": {},
   "source": [
    "### Scaling our features using the MinMaxScaler estimator"
   ]
  },
  {
   "cell_type": "code",
   "execution_count": 47,
   "id": "3dc918d7-8540-45fd-8d93-aa5f4c72dc29",
   "metadata": {
    "tags": []
   },
   "outputs": [
    {
     "name": "stdout",
     "output_type": "stream",
     "text": [
      "+---------------------------------------------------------------------------------------+\n",
      "|continuous_scaled                                                                      |\n",
      "+---------------------------------------------------------------------------------------+\n",
      "|[0.03414634146341464,0.5,0.13379396984924624,0.17543859649122806,0.09895556735705434]  |\n",
      "|[0.11219512195121951,0.875,0.12657035175879397,0.10526315789473684,0.25473535138962644]|\n",
      "|[0.03414634146341464,0.75,0.05182160804020101,0.03508771929824561,0.029208709506107274]|\n",
      "+---------------------------------------------------------------------------------------+\n",
      "only showing top 3 rows\n",
      "\n"
     ]
    }
   ],
   "source": [
    "from pyspark.ml.feature import MinMaxScaler\n",
    " \n",
    "CONTINUOUS_NB = [x for x in CONTINUOUS_COLUMNS if \"ratio\" not in x]\n",
    " \n",
    "continuous_assembler = VectorAssembler(\n",
    "    inputCols=CONTINUOUS_NB, outputCol=\"continuous\"\n",
    ")\n",
    " \n",
    "food_features = continuous_assembler.transform(food_imputed)\n",
    " \n",
    "continuous_scaler = MinMaxScaler(\n",
    "    inputCol=\"continuous\",\n",
    "    outputCol=\"continuous_scaled\",\n",
    ")\n",
    " \n",
    "food_features = continuous_scaler.fit(food_features).transform(food_features)\n",
    "\n",
    "food_features.select(\"continuous_scaled\").show(3, False)"
   ]
  },
  {
   "cell_type": "markdown",
   "id": "954ec36c-18b0-4180-b8a8-38624e6e1ade",
   "metadata": {},
   "source": [
    "# Summary"
   ]
  },
  {
   "cell_type": "markdown",
   "id": "0b989af6-74f7-4908-9b19-606f2d53539d",
   "metadata": {},
   "source": [
    "- big part of creating a machine learning model is data manipulation. For this, everything we’ve learned within pyspark.sql can be leveraged.\n",
    "- The first step in creating an ML model is assessing data quality and addressing potential data problems. Moving from large data sets in PySpark to small summaries in pandas or plain Python speeds up data discovery and assessment.\n",
    "- Feature creation and selection can either be done manually using the PySpark data manipulation API or by leveraging some pyspark.ml-specific constructors, such as the correlation matrix.\n",
    "- Multiple common feature engineering patterns, like imputing and scaling features, are provided through PySpark transformers and estimators."
   ]
  }
 ],
 "metadata": {
  "kernelspec": {
   "display_name": "Big Data Analytics",
   "language": "python",
   "name": "bigdataanalytics"
  },
  "language_info": {
   "codemirror_mode": {
    "name": "ipython",
    "version": 3
   },
   "file_extension": ".py",
   "mimetype": "text/x-python",
   "name": "python",
   "nbconvert_exporter": "python",
   "pygments_lexer": "ipython3",
   "version": "3.10.8"
  },
  "toc-autonumbering": true,
  "toc-showcode": false
 },
 "nbformat": 4,
 "nbformat_minor": 5
}
