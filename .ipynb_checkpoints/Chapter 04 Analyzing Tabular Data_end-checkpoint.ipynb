{
 "cells": [
  {
   "cell_type": "markdown",
   "id": "7766864e-a302-4cd4-9d05-55f6a0fd01b9",
   "metadata": {},
   "source": [
    "# Chapter 4 Analyzing tabular data with pyspark\n",
    "\n",
    "This chapter cover:\n",
    "\n",
    "- Reading delimited data into a PySpark data frame\n",
    "- Understanding how PySpark represents tabular data in a data frame\n",
    "- Ingesting and exploring tabular or relational data\n",
    "- Selecting, manipulating, renaming, and deleting columns in a data frame\n",
    "- Summarizing data frames for quick exploration"
   ]
  },
  {
   "cell_type": "code",
   "execution_count": 1,
   "id": "7e2d7c37-7db4-4dc3-aba9-23dea7e68d7c",
   "metadata": {
    "tags": []
   },
   "outputs": [
    {
     "name": "stderr",
     "output_type": "stream",
     "text": [
      "Setting default log level to \"WARN\".\n",
      "To adjust logging level use sc.setLogLevel(newLevel). For SparkR, use setLogLevel(newLevel).\n",
      "24/09/23 14:19:42 WARN NativeCodeLoader: Unable to load native-hadoop library for your platform... using builtin-java classes where applicable\n",
      "24/09/23 14:19:43 WARN Utils: Service 'SparkUI' could not bind on port 4040. Attempting port 4041.\n",
      "24/09/23 14:19:43 WARN Utils: Service 'SparkUI' could not bind on port 4041. Attempting port 4042.\n"
     ]
    }
   ],
   "source": [
    "from pyspark.sql import SparkSession\n",
    "import pyspark.sql.functions as F\n",
    "\n",
    "# change the account name to your email account\n",
    "account='sli'\n",
    "\n",
    "# define a root path to access the data in the DataAnalysisWithPythonAndPySpark\n",
    "data_path='/net/clusterhn/home/'+account+'/isa460/data/'\n",
    "\n",
    "spark = (SparkSession.builder.appName(\"Analyzing tabluar data\")\n",
    "        .config(\"spark.port.maxRetries\", \"100\")\n",
    "        .getOrCreate())\n",
    "\n",
    "# confiture the log level (defaulty is WWARN)\n",
    "spark.sparkContext.setLogLevel('ERROR')"
   ]
  },
  {
   "cell_type": "code",
   "execution_count": 2,
   "id": "ff4cca5c-fe22-480c-9e06-f491d35d13c2",
   "metadata": {
    "tags": []
   },
   "outputs": [
    {
     "name": "stdout",
     "output_type": "stream",
     "text": [
      "root\n",
      " |-- Item: string (nullable = true)\n",
      " |-- Quantity: long (nullable = true)\n",
      " |-- Price: double (nullable = true)\n",
      "\n"
     ]
    }
   ],
   "source": [
    "# import data from a list of lists\n",
    "\n",
    "my_grocery_list=[\n",
    "    [\"Banana\", 2, 1.74],\n",
    "    [\"Apple\", 4, 2.04],\n",
    "    [\"Carrot\", 1, 1.09],\n",
    "    [\"cake\", 1, 10.99]\n",
    "]\n",
    "\n",
    "# create a Dataframe based on the list\n",
    "\n",
    "df=spark.createDataFrame(my_grocery_list, [\"Item\", \"Quantity\", \"Price\"])\n",
    "\n",
    "df.printSchema()"
   ]
  },
  {
   "cell_type": "markdown",
   "id": "efe242b3-12e7-453e-a4f2-0c8718a6c23d",
   "metadata": {
    "tags": []
   },
   "source": [
    "## import data from a csv file\n",
    "\n",
    "For this exercise, we’ll use some open data from the government of Canada, more specifically the CRTC (Canadian Radio-Television and Telecommunications Commission). Every broadcaster is mandated to provide a complete log of the programs and commercials showcased to the Canadian public. This gives us a lot of potential questions to answer, but we’ll select just one:\n",
    "**What are the channels with the greatest and least proportion of commercials?**\n",
    "\n",
    "You can download the [file](http://mng.bz/y4YJ) on the Canada Open Data portal ; select the BroadcastLogs_2018_Q3_M8 file. The file is 994 MB to download, which might be too large, depending on your computer. The book’s repository contains a sample of the data under the data/broadcast_logs directory, which you can use in place of the original file. You also need to download the Data Dictionary in .doc form, as well as the Reference Tables zip file, unzipping them into a ReferenceTables directory in data/ broadcast_logs. Once again, the examples assume that the data is downloaded under data/broadcast_logs and that PySpark is launched from the root of the repository."
   ]
  },
  {
   "cell_type": "code",
   "execution_count": 3,
   "id": "9db14242-421f-4469-adbb-4bc1e1a9edaf",
   "metadata": {
    "tags": []
   },
   "outputs": [
    {
     "name": "stderr",
     "output_type": "stream",
     "text": [
      "                                                                                \r"
     ]
    }
   ],
   "source": [
    "import os\n",
    "\n",
    "directory=data_path+'/broadcast_logs/'\n",
    "\n",
    "logs=spark.read.csv(os.path.join(directory, \"BroadcastLogs_2018_Q3_M8_sample.CSV\"),\n",
    "                                 sep=\"|\",\n",
    "                                 header=True,\n",
    "                                 inferSchema=True,\n",
    "                                 timestampFormat=\"yyyy-MM-dd\",)"
   ]
  },
  {
   "cell_type": "code",
   "execution_count": 8,
   "id": "f4c2fd48-837b-416e-a91c-d7a43de6ca8b",
   "metadata": {
    "tags": []
   },
   "outputs": [
    {
     "name": "stdout",
     "output_type": "stream",
     "text": [
      "root\n",
      " |-- BroadcastLogID: integer (nullable = true)\n",
      " |-- LogServiceID: integer (nullable = true)\n",
      " |-- LogDate: date (nullable = true)\n",
      " |-- SequenceNO: integer (nullable = true)\n",
      " |-- AudienceTargetAgeID: integer (nullable = true)\n",
      " |-- AudienceTargetEthnicID: integer (nullable = true)\n",
      " |-- CategoryID: integer (nullable = true)\n",
      " |-- ClosedCaptionID: integer (nullable = true)\n",
      " |-- CountryOfOriginID: integer (nullable = true)\n",
      " |-- DubDramaCreditID: integer (nullable = true)\n",
      " |-- EthnicProgramID: integer (nullable = true)\n",
      " |-- ProductionSourceID: integer (nullable = true)\n",
      " |-- ProgramClassID: integer (nullable = true)\n",
      " |-- FilmClassificationID: integer (nullable = true)\n",
      " |-- ExhibitionID: integer (nullable = true)\n",
      " |-- Duration: string (nullable = true)\n",
      " |-- EndTime: string (nullable = true)\n",
      " |-- LogEntryDate: date (nullable = true)\n",
      " |-- ProductionNO: string (nullable = true)\n",
      " |-- ProgramTitle: string (nullable = true)\n",
      " |-- StartTime: string (nullable = true)\n",
      " |-- Subtitle: string (nullable = true)\n",
      " |-- NetworkAffiliationID: integer (nullable = true)\n",
      " |-- SpecialAttentionID: integer (nullable = true)\n",
      " |-- BroadcastOriginPointID: integer (nullable = true)\n",
      " |-- CompositionID: integer (nullable = true)\n",
      " |-- Producer1: string (nullable = true)\n",
      " |-- Producer2: string (nullable = true)\n",
      " |-- Language1: integer (nullable = true)\n",
      " |-- Language2: integer (nullable = true)\n",
      "\n"
     ]
    }
   ],
   "source": [
    "logs.printSchema()"
   ]
  },
  {
   "cell_type": "markdown",
   "id": "c50b891d-dad2-4ee3-8166-f76738859501",
   "metadata": {
    "tags": []
   },
   "source": [
    "## Exploring the shape of our data universe\n",
    "\n",
    "![Figure 4.4](https://raw.githubusercontent.com/Suhong88/ISA460_Fall2023/main/images/Figure%204.4.png)"
   ]
  },
  {
   "cell_type": "markdown",
   "id": "774fc22f-2188-445e-b942-70134370abb2",
   "metadata": {
    "tags": []
   },
   "source": [
    "## The basics of data manipulation: Selecting, dropping, renaming, ordering, diagnosing"
   ]
  },
  {
   "cell_type": "markdown",
   "id": "08167597-7be7-4ec6-8e26-1d4f72049600",
   "metadata": {},
   "source": [
    "### Select columns"
   ]
  },
  {
   "cell_type": "code",
   "execution_count": 16,
   "id": "4b6b3968-4562-4480-834b-bad621eaf3a6",
   "metadata": {
    "tags": []
   },
   "outputs": [
    {
     "name": "stdout",
     "output_type": "stream",
     "text": [
      "+--------------+------------+----------+\n",
      "|BroadcastLogID|LogServiceID|LogDate   |\n",
      "+--------------+------------+----------+\n",
      "|1196192316    |3157        |2018-08-01|\n",
      "|1196192317    |3157        |2018-08-01|\n",
      "|1196192318    |3157        |2018-08-01|\n",
      "|1196192319    |3157        |2018-08-01|\n",
      "|1196192320    |3157        |2018-08-01|\n",
      "+--------------+------------+----------+\n",
      "only showing top 5 rows\n",
      "\n"
     ]
    }
   ],
   "source": [
    "logs.select(\"BroadcastLogID\", \"LogServiceID\", \"LogDate\").show(5, False)"
   ]
  },
  {
   "cell_type": "code",
   "execution_count": 18,
   "id": "54393b70-1fb5-44ed-bb6b-b92e41738f81",
   "metadata": {
    "tags": []
   },
   "outputs": [
    {
     "data": {
      "text/plain": [
       "DataFrame[BroadCastLogID: int, LogServiceID: int, LogDate: date]"
      ]
     },
     "execution_count": 18,
     "metadata": {},
     "output_type": "execute_result"
    }
   ],
   "source": [
    "# four ways of selecting columns\n",
    "# Using the string to column conversion\n",
    "logs.select(\"BroadCastLogID\", \"LogServiceID\", \"LogDate\")\n",
    "\n",
    "# use * to unpack a list\n",
    "logs.select(*[\"BroadCastLogID\", \"LogServiceID\", \"LogDate\"])\n",
    " \n",
    "# Passing the column object explicitly\n",
    "logs.select(\n",
    "    F.col(\"BroadCastLogID\"), F.col(\"LogServiceID\"), F.col(\"LogDate\")\n",
    ")\n",
    "logs.select(\n",
    "    *[F.col(\"BroadCastLogID\"), F.col(\"LogServiceID\"), F.col(\"LogDate\")]\n",
    ")"
   ]
  },
  {
   "cell_type": "code",
   "execution_count": 4,
   "id": "dcc4ccd6-1aa8-464c-846e-6e69b05ff46d",
   "metadata": {
    "tags": []
   },
   "outputs": [
    {
     "name": "stdout",
     "output_type": "stream",
     "text": [
      "+--------------+------------+----------+----------+-------------------+\n",
      "|BroadcastLogID|LogServiceID|   LogDate|SequenceNO|AudienceTargetAgeID|\n",
      "+--------------+------------+----------+----------+-------------------+\n",
      "|    1196192316|        3157|2018-08-01|         1|                  4|\n",
      "|    1196192317|        3157|2018-08-01|         2|               null|\n",
      "|    1196192318|        3157|2018-08-01|         3|               null|\n",
      "|    1196192319|        3157|2018-08-01|         4|               null|\n",
      "|    1196192320|        3157|2018-08-01|         5|               null|\n",
      "+--------------+------------+----------+----------+-------------------+\n",
      "only showing top 5 rows\n",
      "\n",
      "+----------------------+----------+---------------+-----------------+----------------+\n",
      "|AudienceTargetEthnicID|CategoryID|ClosedCaptionID|CountryOfOriginID|DubDramaCreditID|\n",
      "+----------------------+----------+---------------+-----------------+----------------+\n",
      "|                  null|        13|              3|                3|            null|\n",
      "|                  null|      null|              1|             null|            null|\n",
      "|                  null|      null|              1|             null|            null|\n",
      "|                  null|      null|              1|             null|            null|\n",
      "|                  null|      null|              1|             null|            null|\n",
      "+----------------------+----------+---------------+-----------------+----------------+\n",
      "only showing top 5 rows\n",
      "\n",
      "+---------------+------------------+--------------+--------------------+------------+\n",
      "|EthnicProgramID|ProductionSourceID|ProgramClassID|FilmClassificationID|ExhibitionID|\n",
      "+---------------+------------------+--------------+--------------------+------------+\n",
      "|           null|                10|            19|                null|           2|\n",
      "|           null|              null|            20|                null|        null|\n",
      "|           null|              null|             3|                null|        null|\n",
      "|           null|              null|             3|                null|        null|\n",
      "|           null|              null|             3|                null|        null|\n",
      "+---------------+------------------+--------------+--------------------+------------+\n",
      "only showing top 5 rows\n",
      "\n",
      "+----------------+----------------+------------+------------+--------------------+\n",
      "|        Duration|         EndTime|LogEntryDate|ProductionNO|        ProgramTitle|\n",
      "+----------------+----------------+------------+------------+--------------------+\n",
      "|02:00:00.0000000|08:00:00.0000000|  2018-08-01|      A39082|   Newlywed and Dead|\n",
      "|00:00:30.0000000|06:13:45.0000000|  2018-08-01|        null|15-SPECIALTY CHAN...|\n",
      "|00:00:15.0000000|06:14:00.0000000|  2018-08-01|        null|3-PROCTER & GAMBL...|\n",
      "|00:00:15.0000000|06:14:15.0000000|  2018-08-01|        null|12-CREDIT KARMA-B...|\n",
      "|00:00:15.0000000|06:14:30.0000000|  2018-08-01|        null|3-L'OREAL CANADA-...|\n",
      "+----------------+----------------+------------+------------+--------------------+\n",
      "only showing top 5 rows\n",
      "\n",
      "+----------------+--------+--------------------+------------------+----------------------+\n",
      "|       StartTime|Subtitle|NetworkAffiliationID|SpecialAttentionID|BroadcastOriginPointID|\n",
      "+----------------+--------+--------------------+------------------+----------------------+\n",
      "|06:00:00.0000000|    null|                null|              null|                  null|\n",
      "|06:13:15.0000000|    null|                null|              null|                  null|\n",
      "|06:13:45.0000000|    null|                null|              null|                  null|\n",
      "|06:14:00.0000000|    null|                null|              null|                  null|\n",
      "|06:14:15.0000000|    null|                null|              null|                  null|\n",
      "+----------------+--------+--------------------+------------------+----------------------+\n",
      "only showing top 5 rows\n",
      "\n",
      "+-------------+---------+---------+---------+---------+\n",
      "|CompositionID|Producer1|Producer2|Language1|Language2|\n",
      "+-------------+---------+---------+---------+---------+\n",
      "|         null|     null|     null|       94|     null|\n",
      "|         null|     null|     null|     null|     null|\n",
      "|         null|     null|     null|     null|     null|\n",
      "|         null|     null|     null|     null|     null|\n",
      "|         null|     null|     null|     null|     null|\n",
      "+-------------+---------+---------+---------+---------+\n",
      "only showing top 5 rows\n",
      "\n"
     ]
    }
   ],
   "source": [
    "# for a dataframe with a lot of columns, we can slice the columns into groups to display them by small groups\n",
    "\n",
    "import numpy as np\n",
    "\n",
    "total_columns=len(logs.columns)\n",
    "\n",
    "columns_per_row=5\n",
    "\n",
    "group_size=total_columns//columns_per_row\n",
    "\n",
    "column_split=np.array_split(logs.columns, group_size)\n",
    "\n",
    "for columns in column_split:\n",
    "    logs.select(*columns).show(5)"
   ]
  },
  {
   "cell_type": "code",
   "execution_count": 5,
   "id": "57bc55ab-9abc-428a-8a1e-33c03be5d4eb",
   "metadata": {
    "tags": []
   },
   "outputs": [],
   "source": [
    "# create a function to display sample records by a group of columns\n",
    "\n",
    "import numpy as np\n",
    "\n",
    "def displayColumnsByGroup (df, columns_per_row, sample_size=5):\n",
    "    \n",
    "    total_columns=len(df.columns)\n",
    "    group_size=total_columns//columns_per_row\n",
    "\n",
    "    column_split=np.array_split(df.columns, group_size)\n",
    "\n",
    "    for columns in column_split:\n",
    "        df.select(*columns).show(sample_size)    "
   ]
  },
  {
   "cell_type": "code",
   "execution_count": 6,
   "id": "6da95927-af9c-46b1-a773-5882d6b2cbbc",
   "metadata": {
    "tags": []
   },
   "outputs": [
    {
     "name": "stdout",
     "output_type": "stream",
     "text": [
      "+--------------+------------+----------+----------+-------------------+\n",
      "|BroadcastLogID|LogServiceID|   LogDate|SequenceNO|AudienceTargetAgeID|\n",
      "+--------------+------------+----------+----------+-------------------+\n",
      "|    1196192316|        3157|2018-08-01|         1|                  4|\n",
      "|    1196192317|        3157|2018-08-01|         2|               null|\n",
      "|    1196192318|        3157|2018-08-01|         3|               null|\n",
      "|    1196192319|        3157|2018-08-01|         4|               null|\n",
      "|    1196192320|        3157|2018-08-01|         5|               null|\n",
      "+--------------+------------+----------+----------+-------------------+\n",
      "only showing top 5 rows\n",
      "\n",
      "+----------------------+----------+---------------+-----------------+----------------+\n",
      "|AudienceTargetEthnicID|CategoryID|ClosedCaptionID|CountryOfOriginID|DubDramaCreditID|\n",
      "+----------------------+----------+---------------+-----------------+----------------+\n",
      "|                  null|        13|              3|                3|            null|\n",
      "|                  null|      null|              1|             null|            null|\n",
      "|                  null|      null|              1|             null|            null|\n",
      "|                  null|      null|              1|             null|            null|\n",
      "|                  null|      null|              1|             null|            null|\n",
      "+----------------------+----------+---------------+-----------------+----------------+\n",
      "only showing top 5 rows\n",
      "\n",
      "+---------------+------------------+--------------+--------------------+------------+\n",
      "|EthnicProgramID|ProductionSourceID|ProgramClassID|FilmClassificationID|ExhibitionID|\n",
      "+---------------+------------------+--------------+--------------------+------------+\n",
      "|           null|                10|            19|                null|           2|\n",
      "|           null|              null|            20|                null|        null|\n",
      "|           null|              null|             3|                null|        null|\n",
      "|           null|              null|             3|                null|        null|\n",
      "|           null|              null|             3|                null|        null|\n",
      "+---------------+------------------+--------------+--------------------+------------+\n",
      "only showing top 5 rows\n",
      "\n",
      "+----------------+----------------+------------+------------+--------------------+\n",
      "|        Duration|         EndTime|LogEntryDate|ProductionNO|        ProgramTitle|\n",
      "+----------------+----------------+------------+------------+--------------------+\n",
      "|02:00:00.0000000|08:00:00.0000000|  2018-08-01|      A39082|   Newlywed and Dead|\n",
      "|00:00:30.0000000|06:13:45.0000000|  2018-08-01|        null|15-SPECIALTY CHAN...|\n",
      "|00:00:15.0000000|06:14:00.0000000|  2018-08-01|        null|3-PROCTER & GAMBL...|\n",
      "|00:00:15.0000000|06:14:15.0000000|  2018-08-01|        null|12-CREDIT KARMA-B...|\n",
      "|00:00:15.0000000|06:14:30.0000000|  2018-08-01|        null|3-L'OREAL CANADA-...|\n",
      "+----------------+----------------+------------+------------+--------------------+\n",
      "only showing top 5 rows\n",
      "\n",
      "+----------------+--------+--------------------+------------------+----------------------+\n",
      "|       StartTime|Subtitle|NetworkAffiliationID|SpecialAttentionID|BroadcastOriginPointID|\n",
      "+----------------+--------+--------------------+------------------+----------------------+\n",
      "|06:00:00.0000000|    null|                null|              null|                  null|\n",
      "|06:13:15.0000000|    null|                null|              null|                  null|\n",
      "|06:13:45.0000000|    null|                null|              null|                  null|\n",
      "|06:14:00.0000000|    null|                null|              null|                  null|\n",
      "|06:14:15.0000000|    null|                null|              null|                  null|\n",
      "+----------------+--------+--------------------+------------------+----------------------+\n",
      "only showing top 5 rows\n",
      "\n",
      "+-------------+---------+---------+---------+---------+\n",
      "|CompositionID|Producer1|Producer2|Language1|Language2|\n",
      "+-------------+---------+---------+---------+---------+\n",
      "|         null|     null|     null|       94|     null|\n",
      "|         null|     null|     null|     null|     null|\n",
      "|         null|     null|     null|     null|     null|\n",
      "|         null|     null|     null|     null|     null|\n",
      "|         null|     null|     null|     null|     null|\n",
      "+-------------+---------+---------+---------+---------+\n",
      "only showing top 5 rows\n",
      "\n"
     ]
    }
   ],
   "source": [
    "# display logs file by five columns per row\n",
    "\n",
    "displayColumnsByGroup(logs, 5)\n",
    "# displayColumnsByGroup(logs, 5, 10)"
   ]
  },
  {
   "cell_type": "markdown",
   "id": "55cd07e8-ddfe-4021-83ad-9301bb24cb89",
   "metadata": {
    "tags": []
   },
   "source": [
    "### store this function into a python file to be used later"
   ]
  },
  {
   "cell_type": "markdown",
   "id": "490c1736-c8da-4646-bbc5-ba833acd3429",
   "metadata": {},
   "source": [
    "### Drop columns"
   ]
  },
  {
   "cell_type": "code",
   "execution_count": 7,
   "id": "e60771f7-93f8-42a2-8c91-e7f519a52280",
   "metadata": {
    "tags": []
   },
   "outputs": [
    {
     "name": "stdout",
     "output_type": "stream",
     "text": [
      "False\n",
      "False\n"
     ]
    }
   ],
   "source": [
    "logs1 = logs.drop(\"BroadcastLogID\", \"SequenceNO\")\n",
    "\n",
    "# Testing if we effectively got rid of the columns\n",
    " \n",
    "print(\"BroadcastLogID\" in logs1.columns)  # => False\n",
    "print(\"SequenceNO\" in logs1.columns)  # => False"
   ]
  },
  {
   "cell_type": "code",
   "execution_count": 9,
   "id": "447f5325-2b39-4904-9491-c4850f74892f",
   "metadata": {
    "tags": []
   },
   "outputs": [
    {
     "data": {
      "text/plain": [
       "['LogServiceID',\n",
       " 'LogDate',\n",
       " 'AudienceTargetAgeID',\n",
       " 'AudienceTargetEthnicID',\n",
       " 'CategoryID',\n",
       " 'ClosedCaptionID',\n",
       " 'CountryOfOriginID',\n",
       " 'DubDramaCreditID',\n",
       " 'EthnicProgramID',\n",
       " 'ProductionSourceID',\n",
       " 'ProgramClassID',\n",
       " 'FilmClassificationID',\n",
       " 'ExhibitionID',\n",
       " 'Duration',\n",
       " 'EndTime',\n",
       " 'LogEntryDate',\n",
       " 'ProductionNO',\n",
       " 'ProgramTitle',\n",
       " 'StartTime',\n",
       " 'Subtitle',\n",
       " 'NetworkAffiliationID',\n",
       " 'SpecialAttentionID',\n",
       " 'BroadcastOriginPointID',\n",
       " 'CompositionID',\n",
       " 'Producer1',\n",
       " 'Producer2',\n",
       " 'Language1',\n",
       " 'Language2']"
      ]
     },
     "execution_count": 9,
     "metadata": {},
     "output_type": "execute_result"
    }
   ],
   "source": [
    "# instead drop, you can also select the ones you want to keep\n",
    "logs1 = logs.select(\n",
    "    *[c for c in logs.columns if c not in [\"BroadcastLogID\", \"SequenceNO\"]]\n",
    ")\n",
    "\n",
    "logs1.columns"
   ]
  },
  {
   "cell_type": "markdown",
   "id": "66f198b5-d291-4ebe-9fe4-02f3190c8ae7",
   "metadata": {},
   "source": [
    "### Create new columns"
   ]
  },
  {
   "cell_type": "code",
   "execution_count": 6,
   "id": "601c63f1-612b-4bc4-8f58-b59d23e6a818",
   "metadata": {
    "tags": []
   },
   "outputs": [
    {
     "name": "stdout",
     "output_type": "stream",
     "text": [
      "+----------------+\n",
      "|        Duration|\n",
      "+----------------+\n",
      "|02:00:00.0000000|\n",
      "|00:00:30.0000000|\n",
      "|00:00:15.0000000|\n",
      "|00:00:15.0000000|\n",
      "|00:00:15.0000000|\n",
      "+----------------+\n",
      "only showing top 5 rows\n",
      "\n"
     ]
    }
   ],
   "source": [
    "# create a column showing duration in seconds\n",
    "\n",
    "logs.select(\"Duration\").show(5)"
   ]
  },
  {
   "cell_type": "code",
   "execution_count": 10,
   "id": "71e380b6-466c-4e94-9ad7-07aeefb78dee",
   "metadata": {
    "tags": []
   },
   "outputs": [
    {
     "data": {
      "text/plain": [
       "[('Duration', 'string')]"
      ]
     },
     "execution_count": 10,
     "metadata": {},
     "output_type": "execute_result"
    }
   ],
   "source": [
    "logs.select(F.col(\"Duration\")).dtypes"
   ]
  },
  {
   "cell_type": "code",
   "execution_count": 11,
   "id": "180cd7db-7cf7-4f98-bdb6-5be9a2511ff2",
   "metadata": {
    "tags": []
   },
   "outputs": [
    {
     "name": "stdout",
     "output_type": "stream",
     "text": [
      "+---------+-----------+-----------+\n",
      "|dur_hours|dur_minutes|dur_seconds|\n",
      "+---------+-----------+-----------+\n",
      "|        2|          0|          0|\n",
      "|        0|          0|         30|\n",
      "|        0|          0|         15|\n",
      "|        0|          0|         15|\n",
      "|        0|          0|         15|\n",
      "|        0|          0|         15|\n",
      "|        0|          0|         30|\n",
      "|        0|          0|         15|\n",
      "|        0|          0|         15|\n",
      "|        0|          0|         15|\n",
      "|        0|          0|         15|\n",
      "|        0|          0|         30|\n",
      "|        0|          0|         30|\n",
      "|        0|          0|         15|\n",
      "|        0|          0|         15|\n",
      "|        0|          0|         15|\n",
      "|        0|          0|         15|\n",
      "|        0|          0|         15|\n",
      "|        0|          1|          0|\n",
      "|        0|          0|         15|\n",
      "+---------+-----------+-----------+\n",
      "only showing top 20 rows\n",
      "\n"
     ]
    }
   ],
   "source": [
    "# step 1: extract hours, minutes and seconds\n",
    "\n",
    "logs.select(F.col(\"Duration\").substr(1,2).cast(\"int\").alias(\"dur_hours\"), \n",
    "            F.col(\"Duration\").substr(4,2).cast(\"int\").alias(\"dur_minutes\"),\n",
    "            F.col(\"Duration\").substr(7,2).cast(\"int\").alias(\"dur_seconds\")).show()"
   ]
  },
  {
   "cell_type": "code",
   "execution_count": 12,
   "id": "42fd5ddf-1715-4e4e-b36f-b6c5eb14cf93",
   "metadata": {
    "tags": []
   },
   "outputs": [
    {
     "name": "stdout",
     "output_type": "stream",
     "text": [
      "+----------------+----------------+\n",
      "|        Duration|Duration_seconds|\n",
      "+----------------+----------------+\n",
      "|02:00:00.0000000|            7200|\n",
      "|00:00:30.0000000|              30|\n",
      "|00:00:15.0000000|              15|\n",
      "|00:00:15.0000000|              15|\n",
      "|00:00:15.0000000|              15|\n",
      "+----------------+----------------+\n",
      "only showing top 5 rows\n",
      "\n"
     ]
    }
   ],
   "source": [
    "# step 2. merge all fields into one\n",
    "\n",
    "logs.select(F.col(\"Duration\"), (F.col(\"Duration\").substr(1,2).cast(\"int\").alias(\"dur_hours\")*60*60+ \n",
    "            F.col(\"Duration\").substr(4,2).cast(\"int\").alias(\"dur_minutes\")*60+\n",
    "            F.col(\"Duration\").substr(7,2).cast(\"int\").alias(\"dur_seconds\")).alias(\"Duration_seconds\")).show(5)"
   ]
  },
  {
   "cell_type": "code",
   "execution_count": 13,
   "id": "dd078607-df1c-4dc8-b69f-77eeb27eefd7",
   "metadata": {
    "tags": []
   },
   "outputs": [
    {
     "name": "stdout",
     "output_type": "stream",
     "text": [
      "+----------------+----------------+\n",
      "|        Duration|Duration_seconds|\n",
      "+----------------+----------------+\n",
      "|02:00:00.0000000|            7200|\n",
      "|00:00:30.0000000|              30|\n",
      "|00:00:15.0000000|              15|\n",
      "|00:00:15.0000000|              15|\n",
      "|00:00:15.0000000|              15|\n",
      "+----------------+----------------+\n",
      "only showing top 5 rows\n",
      "\n"
     ]
    }
   ],
   "source": [
    "# create a new column for duration in seconds\n",
    "\n",
    "logs.withColumn(\"Duration_seconds\", F.col(\"Duration\").substr(1,2).cast(\"int\").alias(\"dur_hours\")*60*60+ \n",
    "            F.col(\"Duration\").substr(4,2).cast(\"int\").alias(\"dur_minutes\")*60+\n",
    "            F.col(\"Duration\").substr(7,2).cast(\"int\").alias(\"dur_seconds\")).select(\"Duration\", \"Duration_seconds\").show(5)"
   ]
  },
  {
   "cell_type": "code",
   "execution_count": 42,
   "id": "f158a873-3eab-46ae-afbb-50df7fb90035",
   "metadata": {
    "tags": []
   },
   "outputs": [
    {
     "name": "stdout",
     "output_type": "stream",
     "text": [
      "root\n",
      " |-- BroadcastLogID: integer (nullable = true)\n",
      " |-- LogServiceID: integer (nullable = true)\n",
      " |-- LogDate: date (nullable = true)\n",
      " |-- SequenceNO: integer (nullable = true)\n",
      " |-- AudienceTargetAgeID: integer (nullable = true)\n",
      " |-- AudienceTargetEthnicID: integer (nullable = true)\n",
      " |-- CategoryID: integer (nullable = true)\n",
      " |-- ClosedCaptionID: integer (nullable = true)\n",
      " |-- CountryOfOriginID: integer (nullable = true)\n",
      " |-- DubDramaCreditID: integer (nullable = true)\n",
      " |-- EthnicProgramID: integer (nullable = true)\n",
      " |-- ProductionSourceID: integer (nullable = true)\n",
      " |-- ProgramClassID: integer (nullable = true)\n",
      " |-- FilmClassificationID: integer (nullable = true)\n",
      " |-- ExhibitionID: integer (nullable = true)\n",
      " |-- Duration: string (nullable = true)\n",
      " |-- EndTime: string (nullable = true)\n",
      " |-- LogEntryDate: date (nullable = true)\n",
      " |-- ProductionNO: string (nullable = true)\n",
      " |-- ProgramTitle: string (nullable = true)\n",
      " |-- StartTime: string (nullable = true)\n",
      " |-- Subtitle: string (nullable = true)\n",
      " |-- NetworkAffiliationID: integer (nullable = true)\n",
      " |-- SpecialAttentionID: integer (nullable = true)\n",
      " |-- BroadcastOriginPointID: integer (nullable = true)\n",
      " |-- CompositionID: integer (nullable = true)\n",
      " |-- Producer1: string (nullable = true)\n",
      " |-- Producer2: string (nullable = true)\n",
      " |-- Language1: integer (nullable = true)\n",
      " |-- Language2: integer (nullable = true)\n",
      "\n"
     ]
    }
   ],
   "source": [
    "# print Schema. Why I do not see the new column?\n",
    "logs.printSchema()"
   ]
  },
  {
   "cell_type": "code",
   "execution_count": 43,
   "id": "8c6aa13d-3872-456b-876b-5fee93f4ff52",
   "metadata": {
    "tags": []
   },
   "outputs": [],
   "source": [
    "logs1=logs.withColumn(\"Duration_seconds\", F.col(\"Duration\").substr(1,2).cast(\"int\").alias(\"dur_hours\")*60*60+ \n",
    "            F.col(\"Duration\").substr(4,2).cast(\"int\").alias(\"dur_minutes\")*60+\n",
    "            F.col(\"Duration\").substr(7,2).cast(\"int\").alias(\"dur_seconds\"))"
   ]
  },
  {
   "cell_type": "markdown",
   "id": "b4474557-ecad-4d4a-9cc2-87f36dd27666",
   "metadata": {},
   "source": [
    "![Warning](https://raw.githubusercontent.com/Suhong88/ISA460_Fall2023/main/images/Figure%204.5.png)"
   ]
  },
  {
   "cell_type": "markdown",
   "id": "634efaf1-1c8a-4d6d-9a40-8df15c47519b",
   "metadata": {},
   "source": [
    "### Rename and Reordering columns"
   ]
  },
  {
   "cell_type": "code",
   "execution_count": 14,
   "id": "e2ba2fc0-0895-4ce9-ae73-3b189efa2bb0",
   "metadata": {
    "tags": []
   },
   "outputs": [
    {
     "data": {
      "text/plain": [
       "['LogServiceID',\n",
       " 'LogDate',\n",
       " 'AudienceTargetAgeID',\n",
       " 'AudienceTargetEthnicID',\n",
       " 'CategoryID',\n",
       " 'ClosedCaptionID',\n",
       " 'CountryOfOriginID',\n",
       " 'DubDramaCreditID',\n",
       " 'EthnicProgramID',\n",
       " 'ProductionSourceID',\n",
       " 'ProgramClassID',\n",
       " 'FilmClassificationID',\n",
       " 'ExhibitionID',\n",
       " 'Duration',\n",
       " 'EndTime',\n",
       " 'LogEntryDate',\n",
       " 'ProductionNO',\n",
       " 'ProgramTitle',\n",
       " 'StartTime',\n",
       " 'Subtitle',\n",
       " 'NetworkAffiliationID',\n",
       " 'SpecialAttentionID',\n",
       " 'BroadcastOriginPointID',\n",
       " 'CompositionID',\n",
       " 'Producer1',\n",
       " 'Producer2',\n",
       " 'Language1',\n",
       " 'Language2']"
      ]
     },
     "execution_count": 14,
     "metadata": {},
     "output_type": "execute_result"
    }
   ],
   "source": [
    "logs2=logs1.withColumnRenamed(\"Duration_seconds\", \"duration_seconds\")\n",
    "logs2.columns"
   ]
  },
  {
   "cell_type": "code",
   "execution_count": 15,
   "id": "79192791-87a3-4da4-9814-04d2f536c811",
   "metadata": {
    "tags": []
   },
   "outputs": [
    {
     "data": {
      "text/plain": [
       "DataFrame[broadcastlogid: int, logserviceid: int, logdate: date, sequenceno: int, audiencetargetageid: int, audiencetargetethnicid: int, categoryid: int, closedcaptionid: int, countryoforiginid: int, dubdramacreditid: int, ethnicprogramid: int, productionsourceid: int, programclassid: int, filmclassificationid: int, exhibitionid: int, duration: string, endtime: string, logentrydate: date, productionno: string, programtitle: string, starttime: string, subtitle: string, networkaffiliationid: int, specialattentionid: int, broadcastoriginpointid: int, compositionid: int, producer1: string, producer2: string, language1: int, language2: int]"
      ]
     },
     "execution_count": 15,
     "metadata": {},
     "output_type": "execute_result"
    }
   ],
   "source": [
    "# change all columns to lower case\n",
    "\n",
    "logs.toDF(*[x.lower() for x in logs.columns])"
   ]
  },
  {
   "cell_type": "code",
   "execution_count": 16,
   "id": "afa2733f-5654-409d-8405-4cc9fe4c4ed0",
   "metadata": {
    "tags": []
   },
   "outputs": [],
   "source": [
    "# create a function to change all column names to lower caose\n",
    "\n",
    "def columnLowerCase(df):\n",
    "    return df.toDF(*[x.lower() for x in df.columns])\n",
    "\n",
    "# add this function our helper functions"
   ]
  },
  {
   "cell_type": "code",
   "execution_count": 21,
   "id": "3dc8322b-1718-40e3-905d-d908c141523b",
   "metadata": {
    "tags": []
   },
   "outputs": [],
   "source": [
    "#logs.columns"
   ]
  },
  {
   "cell_type": "code",
   "execution_count": 22,
   "id": "3283ce15-82b7-4d59-accd-26464565b268",
   "metadata": {
    "tags": []
   },
   "outputs": [],
   "source": [
    "#columnLowerCase(logs)"
   ]
  },
  {
   "cell_type": "code",
   "execution_count": 23,
   "id": "5af1a0d7-6d48-4f64-b7ca-7b6c429a9021",
   "metadata": {
    "tags": []
   },
   "outputs": [
    {
     "name": "stdout",
     "output_type": "stream",
     "text": [
      "root\n",
      " |-- AudienceTargetAgeID: integer (nullable = true)\n",
      " |-- AudienceTargetEthnicID: integer (nullable = true)\n",
      " |-- BroadcastLogID: integer (nullable = true)\n",
      " |-- BroadcastOriginPointID: integer (nullable = true)\n",
      " |-- CategoryID: integer (nullable = true)\n",
      " |-- ClosedCaptionID: integer (nullable = true)\n",
      " |-- CompositionID: integer (nullable = true)\n",
      " |-- CountryOfOriginID: integer (nullable = true)\n",
      " |-- DubDramaCreditID: integer (nullable = true)\n",
      " |-- Duration: string (nullable = true)\n",
      " |-- EndTime: string (nullable = true)\n",
      " |-- EthnicProgramID: integer (nullable = true)\n",
      " |-- ExhibitionID: integer (nullable = true)\n",
      " |-- FilmClassificationID: integer (nullable = true)\n",
      " |-- Language1: integer (nullable = true)\n",
      " |-- Language2: integer (nullable = true)\n",
      " |-- LogDate: date (nullable = true)\n",
      " |-- LogEntryDate: date (nullable = true)\n",
      " |-- LogServiceID: integer (nullable = true)\n",
      " |-- NetworkAffiliationID: integer (nullable = true)\n",
      " |-- Producer1: string (nullable = true)\n",
      " |-- Producer2: string (nullable = true)\n",
      " |-- ProductionNO: string (nullable = true)\n",
      " |-- ProductionSourceID: integer (nullable = true)\n",
      " |-- ProgramClassID: integer (nullable = true)\n",
      " |-- ProgramTitle: string (nullable = true)\n",
      " |-- SequenceNO: integer (nullable = true)\n",
      " |-- SpecialAttentionID: integer (nullable = true)\n",
      " |-- StartTime: string (nullable = true)\n",
      " |-- Subtitle: string (nullable = true)\n",
      "\n"
     ]
    }
   ],
   "source": [
    "# order all columns in alphabetical order\n",
    "\n",
    "logs.select(sorted(logs.columns)).printSchema()\n",
    "\n",
    "# store the result into a new dataframe\n",
    "\n",
    "#logs1=logs.select(sorted(logs.columns))"
   ]
  },
  {
   "cell_type": "markdown",
   "id": "36377169-1c00-4313-8a24-6d01ed170906",
   "metadata": {},
   "source": [
    "### Diagnosing a data frame with describe() and summary()"
   ]
  },
  {
   "cell_type": "code",
   "execution_count": 25,
   "id": "04278d2e-6f13-4c1a-a382-e425c4d62d53",
   "metadata": {
    "tags": []
   },
   "outputs": [],
   "source": [
    "#logs.describe().show()"
   ]
  },
  {
   "cell_type": "code",
   "execution_count": null,
   "id": "6355bb40-31d8-4442-a4fa-9ae6101a9c76",
   "metadata": {
    "tags": []
   },
   "outputs": [],
   "source": [
    "# for a dataframe with a lot of column, we can describe it one by one\n",
    "\n",
    "for i in logs.columns:\n",
    "    logs.select(i).describe().show()"
   ]
  },
  {
   "cell_type": "code",
   "execution_count": null,
   "id": "553a62f3-219e-40f1-afea-76318d952df6",
   "metadata": {
    "tags": []
   },
   "outputs": [],
   "source": [
    "# return numerical columns\n",
    "\n",
    "numColumns=[item for item, type in logs.dtypes if type=='int']\n",
    "\n",
    "numColumns"
   ]
  },
  {
   "cell_type": "code",
   "execution_count": null,
   "id": "273caf61-f8af-461c-8ef1-26ab7a0077d9",
   "metadata": {
    "tags": []
   },
   "outputs": [],
   "source": [
    "# apply describe to numerical columns\n",
    "for i in numColumns:\n",
    "   logs.select(i).describe().show()"
   ]
  },
  {
   "cell_type": "markdown",
   "id": "7f658cfd-fe07-4dec-894c-9fa876aa92f2",
   "metadata": {},
   "source": [
    "## In class exercise"
   ]
  },
  {
   "cell_type": "markdown",
   "id": "15dd5491-59ba-4695-954c-938bf5f517d9",
   "metadata": {},
   "source": [
    "### 1. Create a new data frame, logs_clean, that contains only the columns that do not end with ID."
   ]
  },
  {
   "cell_type": "code",
   "execution_count": 26,
   "id": "9b6b3c64-8777-4b93-b633-c2972648f521",
   "metadata": {
    "tags": []
   },
   "outputs": [
    {
     "data": {
      "text/plain": [
       "['BroadcastLogID',\n",
       " 'LogServiceID',\n",
       " 'LogDate',\n",
       " 'SequenceNO',\n",
       " 'AudienceTargetAgeID',\n",
       " 'AudienceTargetEthnicID',\n",
       " 'CategoryID',\n",
       " 'ClosedCaptionID',\n",
       " 'CountryOfOriginID',\n",
       " 'DubDramaCreditID',\n",
       " 'EthnicProgramID',\n",
       " 'ProductionSourceID',\n",
       " 'ProgramClassID',\n",
       " 'FilmClassificationID',\n",
       " 'ExhibitionID',\n",
       " 'Duration',\n",
       " 'EndTime',\n",
       " 'LogEntryDate',\n",
       " 'ProductionNO',\n",
       " 'ProgramTitle',\n",
       " 'StartTime',\n",
       " 'Subtitle',\n",
       " 'NetworkAffiliationID',\n",
       " 'SpecialAttentionID',\n",
       " 'BroadcastOriginPointID',\n",
       " 'CompositionID',\n",
       " 'Producer1',\n",
       " 'Producer2',\n",
       " 'Language1',\n",
       " 'Language2']"
      ]
     },
     "execution_count": 26,
     "metadata": {},
     "output_type": "execute_result"
    }
   ],
   "source": [
    "import os\n",
    "\n",
    "directory=data_path+'/broadcast_logs/'\n",
    "\n",
    "logs=spark.read.csv(os.path.join(directory, \"BroadcastLogs_2018_Q3_M8_sample.CSV\"),\n",
    "                                 sep=\"|\",\n",
    "                                 header=True,\n",
    "                                 inferSchema=True,\n",
    "                                 timestampFormat=\"yyyy-MM-dd\",)\n",
    "logs.columns"
   ]
  },
  {
   "cell_type": "code",
   "execution_count": null,
   "id": "81431def-48a5-4b85-9783-ab9250c678ad",
   "metadata": {},
   "outputs": [],
   "source": [
    "selected_columns=[column for column in logs.columns if not column.endswith('ID')]\n",
    "\n",
    "logs_clean=logs.select(selected_columns)\n",
    "\n",
    "logs_clean.columns"
   ]
  },
  {
   "cell_type": "markdown",
   "id": "1ea33429-101b-4e5f-bb60-ae0770f36d71",
   "metadata": {},
   "source": [
    "### 2. Display a list of program title that includes word apple, remove duplidate."
   ]
  },
  {
   "cell_type": "code",
   "execution_count": null,
   "id": "35943410-5545-4493-9280-6f2e44af50f1",
   "metadata": {},
   "outputs": [],
   "source": [
    "logs.filter(F.lower(F.col('ProgramTitle')).contains('apple')).select('ProgramTitle').distinct().show(5, False)"
   ]
  },
  {
   "cell_type": "markdown",
   "id": "2317f664-811b-4348-8324-9cebad9f80ec",
   "metadata": {},
   "source": [
    "### 3. Display top 5 program title based on number of times it has been broadcasted."
   ]
  },
  {
   "cell_type": "code",
   "execution_count": null,
   "id": "7700f4b9-9b9d-416a-8b31-9437574c5781",
   "metadata": {},
   "outputs": [],
   "source": [
    "logs.groupBy('ProgramTitle').count().orderBy(F.desc('count')).show(5, False)"
   ]
  }
 ],
 "metadata": {
  "kernelspec": {
   "display_name": "Big Data Analytics",
   "language": "python",
   "name": "bigdataanalytics"
  },
  "language_info": {
   "codemirror_mode": {
    "name": "ipython",
    "version": 3
   },
   "file_extension": ".py",
   "mimetype": "text/x-python",
   "name": "python",
   "nbconvert_exporter": "python",
   "pygments_lexer": "ipython3",
   "version": "3.10.8"
  }
 },
 "nbformat": 4,
 "nbformat_minor": 5
}
