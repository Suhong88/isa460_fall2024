{
 "cells": [
  {
   "cell_type": "markdown",
   "id": "8667eff2-7df3-412e-87d2-13ac0ec350f0",
   "metadata": {},
   "source": [
    "# Multidimensional data frames: Using PySpark with JSON data\n",
    "This chapter covers\n",
    "- Drawing parallels between JSON documents and Python data structures\n",
    "- Ingesting JSON data within a data frame\n",
    "- Representing hierarchical data in a data frame through complex column types\n",
    "- Reducing duplication and reliance on auxiliary tables with a document/hierarchical data model\n",
    "- Creating and unpacking data from complex data types"
   ]
  },
  {
   "cell_type": "markdown",
   "id": "6964d236-c8da-49f5-937d-4dca943dfcef",
   "metadata": {
    "tags": []
   },
   "source": [
    "## Start a spark session"
   ]
  },
  {
   "cell_type": "code",
   "execution_count": 1,
   "id": "9e484c4b-5911-4b2a-8ad6-24dd6645bb59",
   "metadata": {
    "tags": []
   },
   "outputs": [
    {
     "name": "stderr",
     "output_type": "stream",
     "text": [
      "Setting default log level to \"WARN\".\n",
      "To adjust logging level use sc.setLogLevel(newLevel). For SparkR, use setLogLevel(newLevel).\n",
      "24/09/30 07:22:59 WARN NativeCodeLoader: Unable to load native-hadoop library for your platform... using builtin-java classes where applicable\n"
     ]
    }
   ],
   "source": [
    "from pyspark.sql import SparkSession\n",
    "import pyspark.sql.functions as F\n",
    "import os\n",
    "\n",
    "# change the account name to your email account\n",
    "account='sli'\n",
    "\n",
    "# define a root path to access the data in the DataAnalysisWithPythonAndPySpark\n",
    "data_path='/net/clusterhn/home/'+account+'/isa460/data/'\n",
    "\n",
    "# check if the Spark session is active. If it is activate, close it\n",
    "\n",
    "try:\n",
    "    if spark:\n",
    "        spark.stop()\n",
    "except:\n",
    "    pass    \n",
    "\n",
    "spark = (SparkSession.builder.appName(\"Multidimensional Data Frame\")\n",
    "        .config(\"spark.port.maxRetries\", \"100\")\n",
    "        .getOrCreate())\n",
    "\n",
    "# confiture the log level (defaulty is WWARN)\n",
    "spark.sparkContext.setLogLevel('ERROR')"
   ]
  },
  {
   "cell_type": "markdown",
   "id": "65f5473d-32ee-41f7-8b3a-a137ea0ed61b",
   "metadata": {},
   "source": [
    "![json data as a limited python dictionary](https://raw.githubusercontent.com/Suhong88/ISA460_Fall2023/main/images/Figure%206.1.png)"
   ]
  },
  {
   "cell_type": "code",
   "execution_count": 2,
   "id": "c23e91a8-e298-4b3f-831c-d45e27c59755",
   "metadata": {
    "tags": []
   },
   "outputs": [
    {
     "name": "stdout",
     "output_type": "stream",
     "text": [
      "{'id': 143, 'name': 'Silicon Valley', 'type': 'Scripted', 'language': 'English', 'genres': ['Comedy'], 'network': {'id': 8, 'name': 'HBO', 'country': {'name': 'United States', 'code': 'US', 'timezone': 'America/New_York'}}}\n",
      "<class 'dict'>\n"
     ]
    }
   ],
   "source": [
    "# load a json documnet as dictionary in python\n",
    "import json                        \n",
    " \n",
    "sample_json = \"\"\"{\n",
    "  \"id\": 143,\n",
    "  \"name\": \"Silicon Valley\",\n",
    "  \"type\": \"Scripted\",\n",
    "  \"language\": \"English\",\n",
    "  \"genres\": [\n",
    "    \"Comedy\"\n",
    "  ],\n",
    "  \"network\": {\n",
    "    \"id\": 8,\n",
    "    \"name\": \"HBO\",\n",
    "    \"country\": {\n",
    "      \"name\": \"United States\",\n",
    "      \"code\": \"US\",\n",
    "      \"timezone\": \"America/New_York\"\n",
    "    }\n",
    "  }\n",
    "}\"\"\"\n",
    "\n",
    "document=json.loads(sample_json)\n",
    "print(document)\n",
    "\n",
    "print(type(document))"
   ]
  },
  {
   "cell_type": "markdown",
   "id": "8dd734c3-a347-4e18-9906-67255b1c93d8",
   "metadata": {},
   "source": [
    "## Reading JSON data in PySpark"
   ]
  },
  {
   "cell_type": "code",
   "execution_count": 3,
   "id": "ae3e238c-1326-4b30-80a3-d391ceffc3d5",
   "metadata": {
    "tags": []
   },
   "outputs": [],
   "source": [
    "shows=spark.read.json(data_path+'shows/shows-silicon-valley.json')"
   ]
  },
  {
   "cell_type": "code",
   "execution_count": 4,
   "id": "a203b283-6d95-4df1-b28b-5e2423ab631b",
   "metadata": {
    "tags": []
   },
   "outputs": [
    {
     "data": {
      "text/plain": [
       "1"
      ]
     },
     "execution_count": 4,
     "metadata": {},
     "output_type": "execute_result"
    }
   ],
   "source": [
    "shows.count()"
   ]
  },
  {
   "cell_type": "code",
   "execution_count": 14,
   "id": "33895527-0265-464f-a9d9-0a087c7b5bfc",
   "metadata": {
    "tags": []
   },
   "outputs": [
    {
     "name": "stdout",
     "output_type": "stream",
     "text": [
      "root\n",
      " |-- _embedded: struct (nullable = true)\n",
      " |    |-- episodes: array (nullable = true)\n",
      " |    |    |-- element: struct (containsNull = true)\n",
      " |    |    |    |-- _links: struct (nullable = true)\n",
      " |    |    |    |    |-- self: struct (nullable = true)\n",
      " |    |    |    |    |    |-- href: string (nullable = true)\n",
      " |    |    |    |-- airdate: string (nullable = true)\n",
      " |    |    |    |-- airstamp: string (nullable = true)\n",
      " |    |    |    |-- airtime: string (nullable = true)\n",
      " |    |    |    |-- id: long (nullable = true)\n",
      " |    |    |    |-- image: struct (nullable = true)\n",
      " |    |    |    |    |-- medium: string (nullable = true)\n",
      " |    |    |    |    |-- original: string (nullable = true)\n",
      " |    |    |    |-- name: string (nullable = true)\n",
      " |    |    |    |-- number: long (nullable = true)\n",
      " |    |    |    |-- runtime: long (nullable = true)\n",
      " |    |    |    |-- season: long (nullable = true)\n",
      " |    |    |    |-- summary: string (nullable = true)\n",
      " |    |    |    |-- url: string (nullable = true)\n",
      " |-- _links: struct (nullable = true)\n",
      " |    |-- previousepisode: struct (nullable = true)\n",
      " |    |    |-- href: string (nullable = true)\n",
      " |    |-- self: struct (nullable = true)\n",
      " |    |    |-- href: string (nullable = true)\n",
      " |-- externals: struct (nullable = true)\n",
      " |    |-- imdb: string (nullable = true)\n",
      " |    |-- thetvdb: long (nullable = true)\n",
      " |    |-- tvrage: long (nullable = true)\n",
      " |-- genres: array (nullable = true)\n",
      " |    |-- element: string (containsNull = true)\n",
      " |-- id: long (nullable = true)\n",
      " |-- image: struct (nullable = true)\n",
      " |    |-- medium: string (nullable = true)\n",
      " |    |-- original: string (nullable = true)\n",
      " |-- language: string (nullable = true)\n",
      " |-- name: string (nullable = true)\n",
      " |-- network: struct (nullable = true)\n",
      " |    |-- country: struct (nullable = true)\n",
      " |    |    |-- code: string (nullable = true)\n",
      " |    |    |-- name: string (nullable = true)\n",
      " |    |    |-- timezone: string (nullable = true)\n",
      " |    |-- id: long (nullable = true)\n",
      " |    |-- name: string (nullable = true)\n",
      " |-- officialSite: string (nullable = true)\n",
      " |-- premiered: string (nullable = true)\n",
      " |-- rating: struct (nullable = true)\n",
      " |    |-- average: double (nullable = true)\n",
      " |-- runtime: long (nullable = true)\n",
      " |-- schedule: struct (nullable = true)\n",
      " |    |-- days: array (nullable = true)\n",
      " |    |    |-- element: string (containsNull = true)\n",
      " |    |-- time: string (nullable = true)\n",
      " |-- status: string (nullable = true)\n",
      " |-- summary: string (nullable = true)\n",
      " |-- type: string (nullable = true)\n",
      " |-- updated: long (nullable = true)\n",
      " |-- url: string (nullable = true)\n",
      " |-- webChannel: string (nullable = true)\n",
      " |-- weight: long (nullable = true)\n",
      "\n"
     ]
    }
   ],
   "source": [
    "shows.printSchema()"
   ]
  },
  {
   "cell_type": "code",
   "execution_count": 6,
   "id": "e88c40da-02f8-4278-a483-3d21c4584309",
   "metadata": {},
   "outputs": [],
   "source": [
    "# read multiple json files\n",
    "\n",
    "three_shows=spark.read.json(data_path+'shows/shows-*.json', multiLine=True)"
   ]
  },
  {
   "cell_type": "code",
   "execution_count": 18,
   "id": "e0832077-83c3-46d7-b440-30db0b1c4fe0",
   "metadata": {
    "tags": []
   },
   "outputs": [
    {
     "data": {
      "text/plain": [
       "3"
      ]
     },
     "execution_count": 18,
     "metadata": {},
     "output_type": "execute_result"
    }
   ],
   "source": [
    "three_shows.count()"
   ]
  },
  {
   "cell_type": "code",
   "execution_count": 7,
   "id": "7e9a7f3e-d7bd-41bc-9624-da713adbe2d0",
   "metadata": {
    "tags": []
   },
   "outputs": [],
   "source": [
    "assert three_shows.count()==3"
   ]
  },
  {
   "cell_type": "code",
   "execution_count": 8,
   "id": "4cb9dc3f-4c39-41a5-b05c-6c6744cc8639",
   "metadata": {
    "tags": []
   },
   "outputs": [
    {
     "name": "stdout",
     "output_type": "stream",
     "text": [
      "['_embedded', '_links', 'externals', 'genres', 'id', 'image', 'language', 'name', 'network', 'officialSite', 'premiered', 'rating', 'runtime', 'schedule', 'status', 'summary', 'type', 'updated', 'url', 'webChannel', 'weight']\n"
     ]
    }
   ],
   "source": [
    "# look at the top columns of a json file\n",
    "print(shows.columns)"
   ]
  },
  {
   "cell_type": "markdown",
   "id": "bf97c926-cbcd-4d6d-ad34-b8ee2679df72",
   "metadata": {},
   "source": [
    "### Work with array"
   ]
  },
  {
   "cell_type": "code",
   "execution_count": 10,
   "id": "e2b079cd-e2b6-45d6-adc7-7656d4b2ceac",
   "metadata": {
    "tags": []
   },
   "outputs": [
    {
     "name": "stdout",
     "output_type": "stream",
     "text": [
      "+----------------+------------------------+\n",
      "|name            |genres                  |\n",
      "+----------------+------------------------+\n",
      "|The Golden Girls|[Drama, Comedy]         |\n",
      "|Breaking Bad    |[Drama, Crime, Thriller]|\n",
      "|Silicon Valley  |[Comedy]                |\n",
      "+----------------+------------------------+\n",
      "\n"
     ]
    }
   ],
   "source": [
    "# Genres is stored as an array\n",
    "three_shows.select(F.col('name'), F.col('genres')).show(5, False)"
   ]
  },
  {
   "cell_type": "code",
   "execution_count": 11,
   "id": "360cd15d-f7c6-4f97-8ec4-6b75d6cae0e5",
   "metadata": {
    "tags": []
   },
   "outputs": [
    {
     "name": "stdout",
     "output_type": "stream",
     "text": [
      "+---------+---------+\n",
      "|genres[0]|genres[0]|\n",
      "+---------+---------+\n",
      "|Drama    |Drama    |\n",
      "|Drama    |Drama    |\n",
      "|Comedy   |Comedy   |\n",
      "+---------+---------+\n",
      "\n"
     ]
    }
   ],
   "source": [
    "# extract element of an array\n",
    "\n",
    "three_shows.select(F.col('genres')[0], F.col('genres').getItem(0)).show(5, False)"
   ]
  },
  {
   "cell_type": "code",
   "execution_count": 12,
   "id": "735db154-39a4-4f3e-b6bb-64fd23869f33",
   "metadata": {
    "tags": []
   },
   "outputs": [
    {
     "name": "stdout",
     "output_type": "stream",
     "text": [
      "+------+------+--------+\n",
      "|genre1|genre2|  genre3|\n",
      "+------+------+--------+\n",
      "| Drama|Comedy|    null|\n",
      "| Drama| Crime|Thriller|\n",
      "|Comedy|  null|    null|\n",
      "+------+------+--------+\n",
      "\n"
     ]
    }
   ],
   "source": [
    "# extract element of an array and store it at a new column\n",
    "\n",
    "three_shows1=(three_shows.withColumn('genre1', F.col('genres')[0]).withColumn('genre2', F.col('genres')[1]).\n",
    "              withColumn('genre3', F.col('genres')[2]))\n",
    "\n",
    "three_shows1.select('genre1', 'genre2', 'genre3').show()"
   ]
  },
  {
   "cell_type": "code",
   "execution_count": 13,
   "id": "5bf015d7-981b-41a6-976b-283d82afbe73",
   "metadata": {
    "tags": []
   },
   "outputs": [
    {
     "name": "stdout",
     "output_type": "stream",
     "text": [
      "+------------------------+------------------------------------------------------------------------------+--------------------------+----------+---------------+\n",
      "|combined_genres         |repeated_genres                                                               |genres_norepeat           |array_size|comedy_position|\n",
      "+------------------------+------------------------------------------------------------------------------+--------------------------+----------+---------------+\n",
      "|[Drama, Comedy, null]   |[[Drama, Comedy, null], [Drama, Comedy, null], [Drama, Comedy, null]]         |[[Drama, Comedy, null]]   |3         |2              |\n",
      "|[Drama, Crime, Thriller]|[[Drama, Crime, Thriller], [Drama, Crime, Thriller], [Drama, Crime, Thriller]]|[[Drama, Crime, Thriller]]|3         |0              |\n",
      "|[Comedy, null, null]    |[[Comedy, null, null], [Comedy, null, null], [Comedy, null, null]]            |[[Comedy, null, null]]    |3         |1              |\n",
      "+------------------------+------------------------------------------------------------------------------+--------------------------+----------+---------------+\n",
      "\n"
     ]
    }
   ],
   "source": [
    "# array function: size(), array(), array_distinct(), array_intersect(), array_repeat(), array_position()\n",
    "\n",
    "three_shows2=three_shows1.select('genre1', 'genre2', 'genre3')\n",
    "\n",
    "(three_shows2.select(F.array('genre1', 'genre2', 'genre3').alias('combined_genres'),\n",
    "                     F.array_repeat('combined_genres', 3).alias('repeated_genres'),\n",
    "                     F.array_distinct('repeated_genres').alias('genres_norepeat'),\n",
    "                     F.size(F.col('genres_norepeat')[0]).alias('array_size'),\n",
    "                     F.array_position('combined_genres','Comedy').alias('comedy_position')\n",
    "                    )                                                                 \n",
    "                                                                 .show(5, False))\n"
   ]
  },
  {
   "cell_type": "markdown",
   "id": "297159d3-9650-466a-9e87-a72db7a8614d",
   "metadata": {},
   "source": [
    "#### In class: display number of episodes for each show"
   ]
  },
  {
   "cell_type": "code",
   "execution_count": 83,
   "id": "2e7e8724-44ce-4321-a7af-0e3e2816a683",
   "metadata": {
    "tags": []
   },
   "outputs": [
    {
     "name": "stdout",
     "output_type": "stream",
     "text": [
      "+----------------+--------------------+\n",
      "|            name|            episodes|\n",
      "+----------------+--------------------+\n",
      "|The Golden Girls|[{{{http://api.tv...|\n",
      "|    Breaking Bad|[{{{http://api.tv...|\n",
      "|  Silicon Valley|[{{{http://api.tv...|\n",
      "+----------------+--------------------+\n",
      "\n"
     ]
    }
   ],
   "source": [
    "three_shows.select('name', '_embedded.episodes').show()"
   ]
  },
  {
   "cell_type": "code",
   "execution_count": null,
   "id": "48c54b10-f3d5-4653-b9e6-04856620f0a3",
   "metadata": {
    "tags": []
   },
   "outputs": [],
   "source": []
  },
  {
   "cell_type": "markdown",
   "id": "4d23d172-fb62-4067-99cc-d557eea36533",
   "metadata": {},
   "source": [
    "### The Map Type: Keys and Values within a column"
   ]
  },
  {
   "cell_type": "code",
   "execution_count": 14,
   "id": "c4f02b46-789a-43bc-a3f7-5a39e4c58137",
   "metadata": {
    "tags": []
   },
   "outputs": [
    {
     "data": {
      "text/plain": [
       "['_embedded',\n",
       " '_links',\n",
       " 'externals',\n",
       " 'genres',\n",
       " 'id',\n",
       " 'image',\n",
       " 'language',\n",
       " 'name',\n",
       " 'network',\n",
       " 'officialSite',\n",
       " 'premiered',\n",
       " 'rating',\n",
       " 'runtime',\n",
       " 'schedule',\n",
       " 'status',\n",
       " 'summary',\n",
       " 'type',\n",
       " 'updated',\n",
       " 'url',\n",
       " 'webChannel',\n",
       " 'weight']"
      ]
     },
     "execution_count": 14,
     "metadata": {},
     "output_type": "execute_result"
    }
   ],
   "source": [
    "three_shows.columns"
   ]
  },
  {
   "cell_type": "code",
   "execution_count": 15,
   "id": "6c6ea012-4711-4975-9d64-03d6d13de484",
   "metadata": {
    "tags": []
   },
   "outputs": [
    {
     "name": "stdout",
     "output_type": "stream",
     "text": [
      "+----+--------+----+-------------------------------------+\n",
      "|name|language|type|values                               |\n",
      "+----+--------+----+-------------------------------------+\n",
      "|name|language|type|[The Golden Girls, English, Scripted]|\n",
      "|name|language|type|[Breaking Bad, English, Scripted]    |\n",
      "|name|language|type|[Silicon Valley, English, Scripted]  |\n",
      "+----+--------+----+-------------------------------------+\n",
      "\n"
     ]
    }
   ],
   "source": [
    "columns=['name','language', 'type']\n",
    "\n",
    "shows_map1=three_shows.select(*[F.lit(column) for column in columns], F.array(*columns).alias('values'))\n",
    "\n",
    "shows_map1.show(3, False)"
   ]
  },
  {
   "cell_type": "code",
   "execution_count": 16,
   "id": "777956ef-953d-404d-9be4-79a50e15e3b5",
   "metadata": {
    "tags": []
   },
   "outputs": [
    {
     "name": "stdout",
     "output_type": "stream",
     "text": [
      "+----------------------+-------------------------------------+\n",
      "|keys                  |values                               |\n",
      "+----------------------+-------------------------------------+\n",
      "|[name, language, type]|[The Golden Girls, English, Scripted]|\n",
      "|[name, language, type]|[Breaking Bad, English, Scripted]    |\n",
      "|[name, language, type]|[Silicon Valley, English, Scripted]  |\n",
      "+----------------------+-------------------------------------+\n",
      "\n"
     ]
    }
   ],
   "source": [
    "shows_map2=shows_map1.select(F.array(*columns).alias('keys'), 'values')\n",
    "\n",
    "shows_map2.show(3, False)"
   ]
  },
  {
   "cell_type": "code",
   "execution_count": 17,
   "id": "411ef164-91d9-44f0-8aa2-e2ec6f25a7a0",
   "metadata": {
    "tags": []
   },
   "outputs": [
    {
     "name": "stdout",
     "output_type": "stream",
     "text": [
      "+-----------------------------------------------------------------+\n",
      "|mapped                                                           |\n",
      "+-----------------------------------------------------------------+\n",
      "|{name -> The Golden Girls, language -> English, type -> Scripted}|\n",
      "|{name -> Breaking Bad, language -> English, type -> Scripted}    |\n",
      "|{name -> Silicon Valley, language -> English, type -> Scripted}  |\n",
      "+-----------------------------------------------------------------+\n",
      "\n"
     ]
    }
   ],
   "source": [
    "# create a map based on two arrays\n",
    "\n",
    "shows_map3=shows_map2.select(F.map_from_arrays(\"keys\", \"values\").alias(\"mapped\"))\n",
    "\n",
    "shows_map3.show(3, False)"
   ]
  },
  {
   "cell_type": "code",
   "execution_count": 18,
   "id": "2a691306-15fa-42cd-841c-00f4cf068ea9",
   "metadata": {
    "tags": []
   },
   "outputs": [
    {
     "name": "stdout",
     "output_type": "stream",
     "text": [
      "root\n",
      " |-- mapped: map (nullable = false)\n",
      " |    |-- key: string\n",
      " |    |-- value: string (valueContainsNull = true)\n",
      "\n"
     ]
    }
   ],
   "source": [
    "shows_map3.printSchema()"
   ]
  },
  {
   "cell_type": "code",
   "execution_count": 98,
   "id": "625e0360-ddeb-40e6-babb-c48b5e2c7f84",
   "metadata": {
    "tags": []
   },
   "outputs": [
    {
     "name": "stdout",
     "output_type": "stream",
     "text": [
      "+----------------+----------------+----------------+\n",
      "|            name|    mapped[name]|    mapped[name]|\n",
      "+----------------+----------------+----------------+\n",
      "|The Golden Girls|The Golden Girls|The Golden Girls|\n",
      "|    Breaking Bad|    Breaking Bad|    Breaking Bad|\n",
      "|  Silicon Valley|  Silicon Valley|  Silicon Valley|\n",
      "+----------------+----------------+----------------+\n",
      "\n"
     ]
    }
   ],
   "source": [
    "# Three ways to access map value. Functions associated with map include map_value(), create_map()\n",
    "\n",
    "shows_map3.select(F.col('mapped.name'), F.col('mapped')[\"name\"], shows_map3.mapped['name']).show()"
   ]
  },
  {
   "cell_type": "markdown",
   "id": "dab7f1d8-88ee-4e76-a94a-53da25990a5a",
   "metadata": {},
   "source": [
    "### the Struct: Nesting columns within columns\n",
    "\n",
    "The struct is very different from the array and the map in that the number of fields and their names are known ahead of time. In our case, the schedule struct column is fixed: we know that each record of our data frame will contain that schedule struct (or a null value, if we want to be pedantic), and within that struct there will be an array of strings, days, and a string, time. "
   ]
  },
  {
   "cell_type": "code",
   "execution_count": 99,
   "id": "2e32069a-2f28-411c-94fd-6f1c4db1d17b",
   "metadata": {
    "tags": []
   },
   "outputs": [
    {
     "name": "stdout",
     "output_type": "stream",
     "text": [
      "root\n",
      " |-- schedule: struct (nullable = true)\n",
      " |    |-- days: array (nullable = true)\n",
      " |    |    |-- element: string (containsNull = true)\n",
      " |    |-- time: string (nullable = true)\n",
      "\n"
     ]
    }
   ],
   "source": [
    "# The schedule column is a struct. It includes two columns: days and time\n",
    "\n",
    "three_shows.select(\"schedule\").printSchema()"
   ]
  },
  {
   "cell_type": "code",
   "execution_count": 20,
   "id": "d8ef6e10-8f39-4a81-939f-a074165f5a47",
   "metadata": {
    "tags": []
   },
   "outputs": [
    {
     "name": "stdout",
     "output_type": "stream",
     "text": [
      "+-------------------+\n",
      "|schedule           |\n",
      "+-------------------+\n",
      "|{[Saturday], 21:00}|\n",
      "|{[Sunday], 22:00}  |\n",
      "|{[Sunday], 22:00}  |\n",
      "+-------------------+\n",
      "\n"
     ]
    }
   ],
   "source": [
    "three_shows.select(\"schedule\").show(5, False)"
   ]
  },
  {
   "cell_type": "code",
   "execution_count": 21,
   "id": "769ba096-fdb9-4517-920e-3e5af6d43527",
   "metadata": {
    "tags": []
   },
   "outputs": [
    {
     "name": "stdout",
     "output_type": "stream",
     "text": [
      "root\n",
      " |-- _embedded: struct (nullable = true)\n",
      " |    |-- episodes: array (nullable = true)\n",
      " |    |    |-- element: struct (containsNull = true)\n",
      " |    |    |    |-- _links: struct (nullable = true)\n",
      " |    |    |    |    |-- self: struct (nullable = true)\n",
      " |    |    |    |    |    |-- href: string (nullable = true)\n",
      " |    |    |    |-- airdate: string (nullable = true)\n",
      " |    |    |    |-- airstamp: string (nullable = true)\n",
      " |    |    |    |-- airtime: string (nullable = true)\n",
      " |    |    |    |-- id: long (nullable = true)\n",
      " |    |    |    |-- image: struct (nullable = true)\n",
      " |    |    |    |    |-- medium: string (nullable = true)\n",
      " |    |    |    |    |-- original: string (nullable = true)\n",
      " |    |    |    |-- name: string (nullable = true)\n",
      " |    |    |    |-- number: long (nullable = true)\n",
      " |    |    |    |-- runtime: long (nullable = true)\n",
      " |    |    |    |-- season: long (nullable = true)\n",
      " |    |    |    |-- summary: string (nullable = true)\n",
      " |    |    |    |-- url: string (nullable = true)\n",
      "\n"
     ]
    }
   ],
   "source": [
    "# look at three _embedded column\n",
    "# major content is under episode\n",
    "\n",
    "three_shows.select(F.col(\"_embedded\")).printSchema()"
   ]
  },
  {
   "cell_type": "code",
   "execution_count": 22,
   "id": "120e8b34-8647-4a24-a216-f45aeb59954b",
   "metadata": {
    "tags": []
   },
   "outputs": [
    {
     "name": "stdout",
     "output_type": "stream",
     "text": [
      "root\n",
      " |-- _links: struct (nullable = true)\n",
      " |    |-- previousepisode: struct (nullable = true)\n",
      " |    |    |-- href: string (nullable = true)\n",
      " |    |-- self: struct (nullable = true)\n",
      " |    |    |-- href: string (nullable = true)\n",
      " |-- externals: struct (nullable = true)\n",
      " |    |-- imdb: string (nullable = true)\n",
      " |    |-- thetvdb: long (nullable = true)\n",
      " |    |-- tvrage: long (nullable = true)\n",
      " |-- genres: array (nullable = true)\n",
      " |    |-- element: string (containsNull = true)\n",
      " |-- id: long (nullable = true)\n",
      " |-- image: struct (nullable = true)\n",
      " |    |-- medium: string (nullable = true)\n",
      " |    |-- original: string (nullable = true)\n",
      " |-- language: string (nullable = true)\n",
      " |-- name: string (nullable = true)\n",
      " |-- network: struct (nullable = true)\n",
      " |    |-- country: struct (nullable = true)\n",
      " |    |    |-- code: string (nullable = true)\n",
      " |    |    |-- name: string (nullable = true)\n",
      " |    |    |-- timezone: string (nullable = true)\n",
      " |    |-- id: long (nullable = true)\n",
      " |    |-- name: string (nullable = true)\n",
      " |-- officialSite: string (nullable = true)\n",
      " |-- premiered: string (nullable = true)\n",
      " |-- rating: struct (nullable = true)\n",
      " |    |-- average: double (nullable = true)\n",
      " |-- runtime: long (nullable = true)\n",
      " |-- schedule: struct (nullable = true)\n",
      " |    |-- days: array (nullable = true)\n",
      " |    |    |-- element: string (containsNull = true)\n",
      " |    |-- time: string (nullable = true)\n",
      " |-- status: string (nullable = true)\n",
      " |-- summary: string (nullable = true)\n",
      " |-- type: string (nullable = true)\n",
      " |-- updated: long (nullable = true)\n",
      " |-- url: string (nullable = true)\n",
      " |-- webChannel: struct (nullable = true)\n",
      " |    |-- country: string (nullable = true)\n",
      " |    |-- id: long (nullable = true)\n",
      " |    |-- name: string (nullable = true)\n",
      " |-- weight: long (nullable = true)\n",
      " |-- episodes: array (nullable = true)\n",
      " |    |-- element: struct (containsNull = true)\n",
      " |    |    |-- _links: struct (nullable = true)\n",
      " |    |    |    |-- self: struct (nullable = true)\n",
      " |    |    |    |    |-- href: string (nullable = true)\n",
      " |    |    |-- airdate: string (nullable = true)\n",
      " |    |    |-- airstamp: string (nullable = true)\n",
      " |    |    |-- airtime: string (nullable = true)\n",
      " |    |    |-- id: long (nullable = true)\n",
      " |    |    |-- image: struct (nullable = true)\n",
      " |    |    |    |-- medium: string (nullable = true)\n",
      " |    |    |    |-- original: string (nullable = true)\n",
      " |    |    |-- name: string (nullable = true)\n",
      " |    |    |-- number: long (nullable = true)\n",
      " |    |    |-- runtime: long (nullable = true)\n",
      " |    |    |-- season: long (nullable = true)\n",
      " |    |    |-- summary: string (nullable = true)\n",
      " |    |    |-- url: string (nullable = true)\n",
      "\n"
     ]
    }
   ],
   "source": [
    "# extract episodes\n",
    "\n",
    "shows_clean=three_shows.withColumn(\"episodes\", F.col('_embedded.episodes')).drop('_embedded')\n",
    "\n",
    "shows_clean.printSchema()"
   ]
  },
  {
   "cell_type": "code",
   "execution_count": 24,
   "id": "7a073b39-dca2-46ad-8cae-6d40259f863d",
   "metadata": {
    "tags": []
   },
   "outputs": [
    {
     "name": "stdout",
     "output_type": "stream",
     "text": [
      "+--------------------+\n",
      "|                name|\n",
      "+--------------------+\n",
      "|[The Engagement, ...|\n",
      "|[Pilot, Cat's in ...|\n",
      "|[Minimum Viable P...|\n",
      "+--------------------+\n",
      "\n"
     ]
    }
   ],
   "source": [
    "# extract an field from a stuct\n",
    "\n",
    "shows_clean.select(F.col('episodes.name')).show(3)\n"
   ]
  },
  {
   "cell_type": "code",
   "execution_count": 119,
   "id": "227a623e-ad16-49a3-8ffc-569114b6c4a3",
   "metadata": {
    "tags": []
   },
   "outputs": [
    {
     "name": "stdout",
     "output_type": "stream",
     "text": [
      "+----------------------------------+\n",
      "|col                               |\n",
      "+----------------------------------+\n",
      "|The Engagement                    |\n",
      "|Guess Who's Coming to the Wedding?|\n",
      "|Rose the Prude                    |\n",
      "|Transplant                        |\n",
      "|The Triangle                      |\n",
      "|On Golden Girls                   |\n",
      "|The Competition                   |\n",
      "|Break-In                          |\n",
      "|Blanche and the Younger Man       |\n",
      "|Heart Attack                      |\n",
      "+----------------------------------+\n",
      "only showing top 10 rows\n",
      "\n"
     ]
    }
   ],
   "source": [
    "# explode an array\n",
    "\n",
    "shows_clean.select(F.explode(F.col('episodes.name'))).show(10, False)"
   ]
  },
  {
   "cell_type": "markdown",
   "id": "84cc4b09-43ef-4380-98e8-f4230182dea8",
   "metadata": {},
   "source": [
    "### Building and Using the data frame schema"
   ]
  },
  {
   "cell_type": "code",
   "execution_count": 25,
   "id": "ef9326a0-adb0-4e81-b3fe-2edfe4259ebb",
   "metadata": {
    "tags": []
   },
   "outputs": [],
   "source": [
    "import pyspark.sql.types as T\n",
    " \n",
    "episode_links_schema = T.StructType(\n",
    "    [\n",
    "        T.StructField(\n",
    "            \"self\", T.StructType([T.StructField(\"href\", T.StringType())]) \n",
    "        )\n",
    "    ]\n",
    ")  \n",
    "  \n",
    "episode_image_schema = T.StructType(\n",
    "    [\n",
    "        T.StructField(\"medium\", T.StringType()),                        \n",
    "        T.StructField(\"original\", T.StringType()),                       \n",
    "    ]\n",
    ")  \n",
    "  \n",
    "episode_schema = T.StructType(\n",
    "    [\n",
    "        T.StructField(\"_links\", episode_links_schema),                    \n",
    "        T.StructField(\"airdate\", T.DateType()),\n",
    "        T.StructField(\"airstamp\", T.TimestampType()),\n",
    "        T.StructField(\"airtime\", T.StringType()),\n",
    "        T.StructField(\"id\", T.StringType()),\n",
    "        T.StructField(\"image\", episode_image_schema),                    \n",
    "        T.StructField(\"name\", T.StringType()),\n",
    "        T.StructField(\"number\", T.LongType()),\n",
    "        T.StructField(\"runtime\", T.LongType()),\n",
    "        T.StructField(\"season\", T.LongType()),\n",
    "        T.StructField(\"summary\", T.StringType()),\n",
    "        T.StructField(\"url\", T.StringType()),\n",
    "    ]\n",
    ")\n",
    " \n",
    "embedded_schema = T.StructType(\n",
    "    [\n",
    "        T.StructField(\n",
    "            \"_embedded\",\n",
    "            T.StructType(\n",
    "                [\n",
    "                    T.StructField(\n",
    "                        \"episodes\", T.ArrayType(episode_schema)          \n",
    "                    )\n",
    "                ]\n",
    "            ),\n",
    "        )\n",
    "    ]\n",
    ")"
   ]
  },
  {
   "cell_type": "code",
   "execution_count": 27,
   "id": "b3f0f58f-c39c-477d-9922-efce0d31c4c6",
   "metadata": {
    "tags": []
   },
   "outputs": [
    {
     "name": "stdout",
     "output_type": "stream",
     "text": [
      "root\n",
      " |-- _embedded: struct (nullable = true)\n",
      " |    |-- episodes: array (nullable = true)\n",
      " |    |    |-- element: struct (containsNull = true)\n",
      " |    |    |    |-- _links: struct (nullable = true)\n",
      " |    |    |    |    |-- self: struct (nullable = true)\n",
      " |    |    |    |    |    |-- href: string (nullable = true)\n",
      " |    |    |    |-- airdate: date (nullable = true)\n",
      " |    |    |    |-- airstamp: timestamp (nullable = true)\n",
      " |    |    |    |-- airtime: string (nullable = true)\n",
      " |    |    |    |-- id: string (nullable = true)\n",
      " |    |    |    |-- image: struct (nullable = true)\n",
      " |    |    |    |    |-- medium: string (nullable = true)\n",
      " |    |    |    |    |-- original: string (nullable = true)\n",
      " |    |    |    |-- name: string (nullable = true)\n",
      " |    |    |    |-- number: long (nullable = true)\n",
      " |    |    |    |-- runtime: long (nullable = true)\n",
      " |    |    |    |-- season: long (nullable = true)\n",
      " |    |    |    |-- summary: string (nullable = true)\n",
      " |    |    |    |-- url: string (nullable = true)\n",
      "\n"
     ]
    }
   ],
   "source": [
    "# read the show data with defined schema\n",
    "\n",
    "shows_with_schema=spark.read.json(data_path+'shows/shows-*.json', multiLine=True,\n",
    "                  schema=embedded_schema,\n",
    "                  mode=\"FAILFAST\")\n",
    "\n",
    "shows_with_schema.printSchema()"
   ]
  },
  {
   "cell_type": "code",
   "execution_count": 28,
   "id": "501b4b1a-681d-4af5-8a39-b1c7c19efb99",
   "metadata": {
    "tags": []
   },
   "outputs": [
    {
     "name": "stdout",
     "output_type": "stream",
     "text": [
      "+----------+\n",
      "|col       |\n",
      "+----------+\n",
      "|1985-09-14|\n",
      "|1985-09-21|\n",
      "|1985-09-28|\n",
      "|1985-10-05|\n",
      "|1985-10-19|\n",
      "+----------+\n",
      "only showing top 5 rows\n",
      "\n",
      "+-------------------+\n",
      "|col                |\n",
      "+-------------------+\n",
      "|1985-09-14 18:00:00|\n",
      "|1985-09-21 18:00:00|\n",
      "|1985-09-28 18:00:00|\n",
      "|1985-10-05 18:00:00|\n",
      "|1985-10-19 18:00:00|\n",
      "+-------------------+\n",
      "only showing top 5 rows\n",
      "\n"
     ]
    }
   ],
   "source": [
    "# verify the date type for the airdate and airstamp\n",
    "\n",
    "for column in ['airdate', 'airstamp']:\n",
    "    shows_with_schema.select(f\"_embedded.episodes.{column}\").select(F.explode(column)).show(5, False)\n"
   ]
  },
  {
   "cell_type": "markdown",
   "id": "04cd45ac-a2f1-46f1-8997-f822e0ccb6ff",
   "metadata": {},
   "source": [
    "### Getting to the \"just right\" data frame: Explode and collect"
   ]
  },
  {
   "cell_type": "code",
   "execution_count": 29,
   "id": "483b2310-9afd-494c-baef-b8d365c54cba",
   "metadata": {
    "tags": []
   },
   "outputs": [
    {
     "name": "stdout",
     "output_type": "stream",
     "text": [
      "+---+----------------------------------------------------------------------+\n",
      "| id|                                                              episodes|\n",
      "+---+----------------------------------------------------------------------+\n",
      "|143|{{{http://api.tvmaze.com/episodes/10897}}, 2014-04-06, 2014-04-07T0...|\n",
      "|143|{{{http://api.tvmaze.com/episodes/10898}}, 2014-04-13, 2014-04-14T0...|\n",
      "|143|{{{http://api.tvmaze.com/episodes/10899}}, 2014-04-20, 2014-04-21T0...|\n",
      "|143|{{{http://api.tvmaze.com/episodes/10900}}, 2014-04-27, 2014-04-28T0...|\n",
      "|143|{{{http://api.tvmaze.com/episodes/10901}}, 2014-05-04, 2014-05-05T0...|\n",
      "+---+----------------------------------------------------------------------+\n",
      "only showing top 5 rows\n",
      "\n"
     ]
    }
   ],
   "source": [
    "## Explode\n",
    "episodes = shows.select(\n",
    "    \"id\", F.explode(\"_embedded.episodes\").alias(\"episodes\")\n",
    ")                                                              \n",
    "episodes.show(5, truncate=70)"
   ]
  },
  {
   "cell_type": "code",
   "execution_count": 46,
   "id": "56272edf-89b8-40f0-b5c8-018bb8e92afa",
   "metadata": {
    "tags": []
   },
   "outputs": [
    {
     "name": "stdout",
     "output_type": "stream",
     "text": [
      "root\n",
      " |-- episodes: struct (nullable = true)\n",
      " |    |-- _links: struct (nullable = true)\n",
      " |    |    |-- self: struct (nullable = true)\n",
      " |    |    |    |-- href: string (nullable = true)\n",
      " |    |-- airdate: string (nullable = true)\n",
      " |    |-- airstamp: string (nullable = true)\n",
      " |    |-- airtime: string (nullable = true)\n",
      " |    |-- id: long (nullable = true)\n",
      " |    |-- image: struct (nullable = true)\n",
      " |    |    |-- medium: string (nullable = true)\n",
      " |    |    |-- original: string (nullable = true)\n",
      " |    |-- name: string (nullable = true)\n",
      " |    |-- number: long (nullable = true)\n",
      " |    |-- runtime: long (nullable = true)\n",
      " |    |-- season: long (nullable = true)\n",
      " |    |-- summary: string (nullable = true)\n",
      " |    |-- url: string (nullable = true)\n",
      "\n"
     ]
    }
   ],
   "source": [
    "episodes.select('episodes').printSchema()"
   ]
  },
  {
   "cell_type": "code",
   "execution_count": 56,
   "id": "22814af9-7075-4389-9a5c-e757383dd41c",
   "metadata": {
    "tags": []
   },
   "outputs": [
    {
     "name": "stdout",
     "output_type": "stream",
     "text": [
      "+-------------------------+\n",
      "|name                     |\n",
      "+-------------------------+\n",
      "|Minimum Viable Product   |\n",
      "|The Cap Table            |\n",
      "|Articles of Incorporation|\n",
      "|Fiduciary Duties         |\n",
      "|Signaling Risk           |\n",
      "+-------------------------+\n",
      "only showing top 5 rows\n",
      "\n"
     ]
    }
   ],
   "source": [
    "# extract the name from the above episodes dataframe\n",
    "\n",
    "e2=episodes.select('episodes')\n",
    "e2.select('episodes.name').show(5, False)"
   ]
  },
  {
   "cell_type": "code",
   "execution_count": 30,
   "id": "44929cc3-670f-4fa4-8bb7-ac053af07b86",
   "metadata": {
    "tags": []
   },
   "outputs": [
    {
     "name": "stdout",
     "output_type": "stream",
     "text": [
      "+--------+-----+--------------------+\n",
      "|position|   id|                name|\n",
      "+--------+-----+--------------------+\n",
      "|       0|10897|Minimum Viable Pr...|\n",
      "|       1|10898|       The Cap Table|\n",
      "|       2|10899|Articles of Incor...|\n",
      "|       3|10900|    Fiduciary Duties|\n",
      "|       4|10901|      Signaling Risk|\n",
      "+--------+-----+--------------------+\n",
      "only showing top 5 rows\n",
      "\n"
     ]
    }
   ],
   "source": [
    "#posexplode: used to explode an array or a map column in a DataFrame into multiple rows, \n",
    "#while also preserving the position (index) of each element in the array or key in the map\n",
    "\n",
    "episode_name_id = shows.select(\n",
    "    F.map_from_arrays(                                         \n",
    "        F.col(\"_embedded.episodes.id\"), F.col(\"_embedded.episodes.name\")\n",
    "    ).alias(\"name_id\")\n",
    ")\n",
    " \n",
    "episode_name_id = episode_name_id.select(\n",
    "    F.posexplode(\"name_id\").alias(\"position\", \"id\", \"name\") \n",
    ")\n",
    " \n",
    "episode_name_id.show(5)"
   ]
  },
  {
   "cell_type": "markdown",
   "id": "d91cd455-5d89-4ddf-8fc1-63e12eb29892",
   "metadata": {},
   "source": [
    "#### Note:\n",
    "Both explode() and posexplode() will skip any null values in the array or the map. If you want to have null as records, you can use explode_outer() or posexplode_outer() the same way."
   ]
  },
  {
   "cell_type": "markdown",
   "id": "acc9b14c-8b5a-4fd5-9d18-a5b50dd67938",
   "metadata": {
    "tags": []
   },
   "source": [
    "#### In Calss 2  Display name of episode for each show\n",
    "collect_list(), collect_set()"
   ]
  },
  {
   "cell_type": "code",
   "execution_count": 102,
   "id": "53ba4a29-f68c-4e78-94e7-0a9876bc978b",
   "metadata": {
    "tags": []
   },
   "outputs": [
    {
     "name": "stdout",
     "output_type": "stream",
     "text": [
      "+----------------+--------------------+\n",
      "|            name|            episodes|\n",
      "+----------------+--------------------+\n",
      "|The Golden Girls|[{{{http://api.tv...|\n",
      "|    Breaking Bad|[{{{http://api.tv...|\n",
      "|  Silicon Valley|[{{{http://api.tv...|\n",
      "+----------------+--------------------+\n",
      "\n"
     ]
    }
   ],
   "source": [
    "three_shows.select('name', '_embedded.episodes').show()"
   ]
  },
  {
   "cell_type": "code",
   "execution_count": 103,
   "id": "a13fd7fe-2ddd-4b83-aba5-19897311bfa0",
   "metadata": {
    "tags": []
   },
   "outputs": [
    {
     "name": "stdout",
     "output_type": "stream",
     "text": [
      "+----------------+--------------------+\n",
      "|            show|        episode_name|\n",
      "+----------------+--------------------+\n",
      "|The Golden Girls|      The Engagement|\n",
      "|The Golden Girls|Guess Who's Comin...|\n",
      "|The Golden Girls|      Rose the Prude|\n",
      "|The Golden Girls|          Transplant|\n",
      "|The Golden Girls|        The Triangle|\n",
      "|The Golden Girls|     On Golden Girls|\n",
      "|The Golden Girls|     The Competition|\n",
      "|The Golden Girls|            Break-In|\n",
      "|The Golden Girls|Blanche and the Y...|\n",
      "|The Golden Girls|        Heart Attack|\n",
      "|The Golden Girls|The Return of Dor...|\n",
      "|The Golden Girls|  The Custody Battle|\n",
      "|The Golden Girls|    A Little Romance|\n",
      "|The Golden Girls|    That Was No Lady|\n",
      "|The Golden Girls|  In a Bed of Rose's|\n",
      "|The Golden Girls|  The Truth Will Out|\n",
      "|The Golden Girls|       Nice and Easy|\n",
      "|The Golden Girls|       The Operation|\n",
      "|The Golden Girls|   Second Motherhood|\n",
      "|The Golden Girls|     Adult Education|\n",
      "+----------------+--------------------+\n",
      "only showing top 20 rows\n",
      "\n"
     ]
    }
   ],
   "source": [
    "result2=result.select(F.col('name').alias('show'), F.col('col.name').alias('episode_name'))\n",
    "result2.show()"
   ]
  },
  {
   "cell_type": "code",
   "execution_count": null,
   "id": "439fd57e-e369-45e5-84ec-7ffc07d4f2ac",
   "metadata": {
    "tags": []
   },
   "outputs": [],
   "source": []
  },
  {
   "cell_type": "markdown",
   "id": "7653e565-7880-4812-92ab-0dbb5db9c022",
   "metadata": {},
   "source": [
    "### In class exercise"
   ]
  },
  {
   "cell_type": "markdown",
   "id": "28bc4ce5-5fcb-4164-8591-e800fd1da1bc",
   "metadata": {
    "tags": []
   },
   "source": [
    "#### Exercise 6.6\n",
    "Using three_shows, compute the time between the first and last episodes for each show (identifed by name). Which show had the longest tenure?"
   ]
  },
  {
   "cell_type": "code",
   "execution_count": 64,
   "id": "3e3663c2-0e77-46a0-a719-8a97c69214ba",
   "metadata": {
    "tags": []
   },
   "outputs": [
    {
     "name": "stdout",
     "output_type": "stream",
     "text": [
      "root\n",
      " |-- _embedded: struct (nullable = true)\n",
      " |    |-- episodes: array (nullable = true)\n",
      " |    |    |-- element: struct (containsNull = true)\n",
      " |    |    |    |-- _links: struct (nullable = true)\n",
      " |    |    |    |    |-- self: struct (nullable = true)\n",
      " |    |    |    |    |    |-- href: string (nullable = true)\n",
      " |    |    |    |-- airdate: string (nullable = true)\n",
      " |    |    |    |-- airstamp: string (nullable = true)\n",
      " |    |    |    |-- airtime: string (nullable = true)\n",
      " |    |    |    |-- id: long (nullable = true)\n",
      " |    |    |    |-- image: struct (nullable = true)\n",
      " |    |    |    |    |-- medium: string (nullable = true)\n",
      " |    |    |    |    |-- original: string (nullable = true)\n",
      " |    |    |    |-- name: string (nullable = true)\n",
      " |    |    |    |-- number: long (nullable = true)\n",
      " |    |    |    |-- runtime: long (nullable = true)\n",
      " |    |    |    |-- season: long (nullable = true)\n",
      " |    |    |    |-- summary: string (nullable = true)\n",
      " |    |    |    |-- url: string (nullable = true)\n",
      " |-- _links: struct (nullable = true)\n",
      " |    |-- previousepisode: struct (nullable = true)\n",
      " |    |    |-- href: string (nullable = true)\n",
      " |    |-- self: struct (nullable = true)\n",
      " |    |    |-- href: string (nullable = true)\n",
      " |-- externals: struct (nullable = true)\n",
      " |    |-- imdb: string (nullable = true)\n",
      " |    |-- thetvdb: long (nullable = true)\n",
      " |    |-- tvrage: long (nullable = true)\n",
      " |-- genres: array (nullable = true)\n",
      " |    |-- element: string (containsNull = true)\n",
      " |-- id: long (nullable = true)\n",
      " |-- image: struct (nullable = true)\n",
      " |    |-- medium: string (nullable = true)\n",
      " |    |-- original: string (nullable = true)\n",
      " |-- language: string (nullable = true)\n",
      " |-- name: string (nullable = true)\n",
      " |-- network: struct (nullable = true)\n",
      " |    |-- country: struct (nullable = true)\n",
      " |    |    |-- code: string (nullable = true)\n",
      " |    |    |-- name: string (nullable = true)\n",
      " |    |    |-- timezone: string (nullable = true)\n",
      " |    |-- id: long (nullable = true)\n",
      " |    |-- name: string (nullable = true)\n",
      " |-- officialSite: string (nullable = true)\n",
      " |-- premiered: string (nullable = true)\n",
      " |-- rating: struct (nullable = true)\n",
      " |    |-- average: double (nullable = true)\n",
      " |-- runtime: long (nullable = true)\n",
      " |-- schedule: struct (nullable = true)\n",
      " |    |-- days: array (nullable = true)\n",
      " |    |    |-- element: string (containsNull = true)\n",
      " |    |-- time: string (nullable = true)\n",
      " |-- status: string (nullable = true)\n",
      " |-- summary: string (nullable = true)\n",
      " |-- type: string (nullable = true)\n",
      " |-- updated: long (nullable = true)\n",
      " |-- url: string (nullable = true)\n",
      " |-- webChannel: struct (nullable = true)\n",
      " |    |-- country: string (nullable = true)\n",
      " |    |-- id: long (nullable = true)\n",
      " |    |-- name: string (nullable = true)\n",
      " |-- weight: long (nullable = true)\n",
      "\n"
     ]
    }
   ],
   "source": [
    "three_shows=spark.read.json(data_path+'shows/shows-*.json', multiLine=True)\n",
    "three_shows.printSchema()"
   ]
  },
  {
   "cell_type": "code",
   "execution_count": 68,
   "id": "e7f9ad25-7330-46a6-a299-4ac5253c5ed5",
   "metadata": {
    "tags": []
   },
   "outputs": [
    {
     "name": "stdout",
     "output_type": "stream",
     "text": [
      "+--------------------------------------------------------------------------------------------------------------------------------------------------------------------------------------------------------------------------------------------------------------------------------------------------------------------------------------------------------------------------------------------------------------------------------------------------------------------------------------------------------------------+\n",
      "|                                                                                                                                                                                                                                                                                                                                                                                                                                                                                                             airdate|\n",
      "+--------------------------------------------------------------------------------------------------------------------------------------------------------------------------------------------------------------------------------------------------------------------------------------------------------------------------------------------------------------------------------------------------------------------------------------------------------------------------------------------------------------------+\n",
      "|[1985-09-14, 1985-09-21, 1985-09-28, 1985-10-05, 1985-10-19, 1985-10-26, 1985-11-02, 1985-11-09, 1985-11-16, 1985-11-23, 1985-11-30, 1985-12-07, 1985-12-14, 1985-12-21, 1986-01-11, 1986-01-18, 1986-02-01, 1986-02-08, 1986-02-15, 1986-02-22, 1986-03-01, 1986-03-08, 1986-03-29, 1986-05-03, 1986-05-10, 1986-09-27, 1986-10-04, 1986-10-11, 1986-11-01, 1986-11-08, 1986-11-15, 1986-11-22, 1986-11-29, 1986-12-06, 1986-12-13, 1986-12-20, 1987-01-03, 1987-01-10, 1987-01-17, 1987-01-24, 1987-01-31, 1987...|\n",
      "|[2008-01-20, 2008-01-27, 2008-02-10, 2008-02-17, 2008-02-24, 2008-03-02, 2008-03-09, 2009-03-08, 2009-03-15, 2009-03-22, 2009-03-29, 2009-04-05, 2009-04-12, 2009-04-19, 2009-04-26, 2009-05-03, 2009-05-10, 2009-05-17, 2009-05-24, 2009-05-31, 2010-03-21, 2010-03-28, 2010-04-04, 2010-04-11, 2010-04-18, 2010-04-25, 2010-05-02, 2010-05-09, 2010-05-16, 2010-05-23, 2010-05-30, 2010-06-06, 2010-06-13, 2011-07-17, 2011-07-24, 2011-07-31, 2011-08-07, 2011-08-14, 2011-08-21, 2011-08-28, 2011-09-04, 2011...|\n",
      "|[2014-04-06, 2014-04-13, 2014-04-20, 2014-04-27, 2014-05-04, 2014-05-11, 2014-05-18, 2014-06-01, 2015-04-12, 2015-04-19, 2015-04-26, 2015-05-03, 2015-05-10, 2015-05-17, 2015-05-24, 2015-05-31, 2015-06-07, 2015-06-14, 2016-04-24, 2016-05-01, 2016-05-08, 2016-05-15, 2016-05-22, 2016-05-29, 2016-06-05, 2016-06-12, 2016-06-19, 2016-06-26, 2017-04-23, 2017-04-30, 2017-05-07, 2017-05-14, 2017-05-21, 2017-05-28, 2017-06-04, 2017-06-11, 2017-06-18, 2017-06-25, 2018-03-25, 2018-04-01, 2018-04-08, 2018...|\n",
      "+--------------------------------------------------------------------------------------------------------------------------------------------------------------------------------------------------------------------------------------------------------------------------------------------------------------------------------------------------------------------------------------------------------------------------------------------------------------------------------------------------------------------+\n",
      "\n"
     ]
    }
   ],
   "source": [
    "three_shows.select('_embedded.episodes.airdate').show(5, truncate=500)"
   ]
  },
  {
   "cell_type": "code",
   "execution_count": null,
   "id": "4689120f-19a3-4e6d-a047-b01f472e77c3",
   "metadata": {
    "tags": []
   },
   "outputs": [],
   "source": [
    "\n"
   ]
  },
  {
   "cell_type": "markdown",
   "id": "df9ef764-44ea-4163-9633-2d4ccd67de2f",
   "metadata": {},
   "source": [
    "### exercise 6.7\n",
    "Take the shows data frame and extract the air date and name of each episode in two array columns."
   ]
  },
  {
   "cell_type": "code",
   "execution_count": 70,
   "id": "b65e5300-17d6-42a3-9b16-f1ab77bca5b8",
   "metadata": {
    "tags": []
   },
   "outputs": [],
   "source": [
    "three_shows=spark.read.json(data_path+'shows/shows-*.json', multiLine=True)\n",
    "#three_shows.printSchema()"
   ]
  },
  {
   "cell_type": "code",
   "execution_count": null,
   "id": "9808bddb-dfb5-4779-854f-fa5b5dd97164",
   "metadata": {
    "tags": []
   },
   "outputs": [],
   "source": []
  },
  {
   "cell_type": "markdown",
   "id": "1fd31f7b-3a28-408c-91f9-4b2d0907c252",
   "metadata": {},
   "source": [
    "#### Exercise 6.8\n",
    "\n",
    "Given the following data frame, create a new data frame that contains a single map from one to square:"
   ]
  },
  {
   "cell_type": "code",
   "execution_count": 80,
   "id": "c390b06f-1e4b-41b4-9ee7-d682e20300a4",
   "metadata": {
    "tags": []
   },
   "outputs": [
    {
     "name": "stdout",
     "output_type": "stream",
     "text": [
      "+---+------+\n",
      "|one|square|\n",
      "+---+------+\n",
      "|  1|     2|\n",
      "|  2|     4|\n",
      "|  3|     9|\n",
      "|  4|    16|\n",
      "+---+------+\n",
      "\n"
     ]
    }
   ],
   "source": [
    "exo6_8 = spark.createDataFrame([[1, 2], [2, 4], [3, 9], [4, 16]], [\"one\", \"square\"])\n",
    "\n",
    "exo6_8.show()"
   ]
  },
  {
   "cell_type": "code",
   "execution_count": null,
   "id": "33edfaeb-5e2b-414d-9ee9-519ceb7287ea",
   "metadata": {
    "tags": []
   },
   "outputs": [],
   "source": []
  },
  {
   "cell_type": "code",
   "execution_count": null,
   "id": "858a9e05-1cb7-42dc-8a56-5c0b2754ee24",
   "metadata": {},
   "outputs": [],
   "source": []
  }
 ],
 "metadata": {
  "kernelspec": {
   "display_name": "Big Data Analytics",
   "language": "python",
   "name": "bigdataanalytics"
  },
  "language_info": {
   "codemirror_mode": {
    "name": "ipython",
    "version": 3
   },
   "file_extension": ".py",
   "mimetype": "text/x-python",
   "name": "python",
   "nbconvert_exporter": "python",
   "pygments_lexer": "ipython3",
   "version": "3.10.8"
  }
 },
 "nbformat": 4,
 "nbformat_minor": 5
}
