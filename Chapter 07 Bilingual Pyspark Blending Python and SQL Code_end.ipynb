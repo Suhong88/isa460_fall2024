{
 "cells": [
  {
   "cell_type": "markdown",
   "id": "79b13537-88ff-433c-89f7-ce03bbf2458b",
   "metadata": {},
   "source": [
    "# Chapter 7 Bilingual PySpark: Blending Python and SQL code\n",
    "\n",
    "This chapter covers\n",
    "\n",
    "- Drawing a parallel between PySpark’s instruction set and the SQL vocabulary\n",
    "- Registering data frames as temporary views or tables to query them using Spark SQL\n",
    "- Using the catalog to create, reference, and delete registered tables for SQL querying\n",
    "- Translating common data manipulations instructions from Python to SQL, and vice versa\n",
    "- Using SQL-style clauses inside certain PySpark methods"
   ]
  },
  {
   "cell_type": "markdown",
   "id": "8c09a8f6-24c9-4a9a-af83-ae75b0c54ad3",
   "metadata": {},
   "source": [
    "# Start a pyspark session"
   ]
  },
  {
   "cell_type": "code",
   "execution_count": 47,
   "id": "c07b2616-6954-47b0-a518-7a5e4c3f6a93",
   "metadata": {
    "tags": []
   },
   "outputs": [],
   "source": [
    "from pyspark.sql import SparkSession\n",
    "from pyspark.sql.utils import AnalysisException\n",
    "import pyspark.sql.functions as F\n",
    "import pyspark.sql.types as T\n",
    "import helper_functions\n",
    "import os\n",
    "import pandas as pd\n",
    "import seaborn as sns\n",
    "import matplotlib.pyplot as plt\n",
    "import warnings\n",
    "import numpy as np\n",
    "warnings.filterwarnings(\"ignore\")\n",
    "\n",
    "# change the account name to your email account\n",
    "account='sli'\n",
    "\n",
    "# define a root path to access the data in the DataAnalysisWithPythonAndPySpark\n",
    "root_path='/net/clusterhn/home/'+account+'/isa460/data/'\n",
    "\n",
    "# check if the Spark session is active. If it is activate, close it\n",
    "\n",
    "try:\n",
    "    if spark:\n",
    "        spark.stop()\n",
    "except:\n",
    "    pass    \n",
    "\n",
    "spark = (SparkSession.builder.appName(\"Bilingual PySpark: Blending Python and SQL code\")\n",
    "        .config(\"spark.port.maxRetries\", \"100\")\n",
    "        .getOrCreate())\n",
    "\n",
    "# confiture the log level (defaulty is WARN)\n",
    "spark.sparkContext.setLogLevel('ERROR')"
   ]
  },
  {
   "cell_type": "code",
   "execution_count": 3,
   "id": "16b3184c-00af-48ff-ae7f-abb8f0a19787",
   "metadata": {
    "tags": []
   },
   "outputs": [
    {
     "name": "stdout",
     "output_type": "stream",
     "text": [
      "+------------+---------+------+----------+----------------+---------------+\n",
      "|AtomicNumber|Element  |Symbol|AtomicMass|NumberofNeutrons|NumberofProtons|\n",
      "+------------+---------+------+----------+----------------+---------------+\n",
      "|1           |Hydrogen |H     |1.007     |0               |1              |\n",
      "|2           |Helium   |He    |4.002     |2               |2              |\n",
      "|3           |Lithium  |Li    |6.941     |4               |3              |\n",
      "|4           |Beryllium|Be    |9.012     |5               |4              |\n",
      "|5           |Boron    |B     |10.811    |6               |5              |\n",
      "+------------+---------+------+----------+----------------+---------------+\n",
      "only showing top 5 rows\n",
      "\n",
      "+-----------------+------+-----+-----+-----------+-------+\n",
      "|NumberofElectrons|Period|Group|Phase|Radioactive|Natural|\n",
      "+-----------------+------+-----+-----+-----------+-------+\n",
      "|1                |1     |1    |gas  |null       |yes    |\n",
      "|2                |1     |18   |gas  |null       |yes    |\n",
      "|3                |2     |1    |solid|null       |yes    |\n",
      "|4                |2     |2    |solid|null       |yes    |\n",
      "|5                |2     |13   |solid|null       |yes    |\n",
      "+-----------------+------+-----+-----+-----------+-------+\n",
      "only showing top 5 rows\n",
      "\n",
      "+-----+--------+---------+--------------------+------------+-----------------+\n",
      "|Metal|Nonmetal|Metalloid|Type                |AtomicRadius|Electronegativity|\n",
      "+-----+--------+---------+--------------------+------------+-----------------+\n",
      "|null |yes     |null     |Nonmetal            |0.79        |2.2              |\n",
      "|null |yes     |null     |Noble Gas           |0.49        |null             |\n",
      "|yes  |null    |null     |Alkali Metal        |2.1         |0.98             |\n",
      "|yes  |null    |null     |Alkaline Earth Metal|1.4         |1.57             |\n",
      "|null |null    |yes      |Metalloid           |1.2         |2.04             |\n",
      "+-----+--------+---------+--------------------+------------+-----------------+\n",
      "only showing top 5 rows\n",
      "\n",
      "+---------------+-------+------------+------------+----------------+\n",
      "|FirstIonization|Density|MeltingPoint|BoilingPoint|NumberOfIsotopes|\n",
      "+---------------+-------+------------+------------+----------------+\n",
      "|13.5984        |8.99E-5|14.175      |20.28       |3               |\n",
      "|24.5874        |1.79E-4|null        |4.22        |5               |\n",
      "|5.3917         |0.534  |453.85      |1615.0      |5               |\n",
      "|9.3227         |1.85   |1560.15     |2742.0      |6               |\n",
      "|8.298          |2.34   |2573.15     |4200.0      |6               |\n",
      "+---------------+-------+------------+------------+----------------+\n",
      "only showing top 5 rows\n",
      "\n",
      "+----------+----+------------+--------------+---------------+\n",
      "|Discoverer|Year|SpecificHeat|NumberofShells|NumberofValence|\n",
      "+----------+----+------------+--------------+---------------+\n",
      "|Cavendish |1766|14.304      |1             |1              |\n",
      "|Janssen   |1868|5.193       |1             |null           |\n",
      "|Arfvedson |1817|3.582       |2             |1              |\n",
      "|Vaulquelin|1798|1.825       |2             |2              |\n",
      "|Gay-Lussac|1808|1.026       |2             |3              |\n",
      "+----------+----+------------+--------------+---------------+\n",
      "only showing top 5 rows\n",
      "\n"
     ]
    }
   ],
   "source": [
    "from helper_functions import displayByGroup\n",
    "\n",
    "elements = spark.read.csv(\n",
    "    root_path+\"elements/Periodic_Table_Of_Elements.csv\",\n",
    "    header=True,\n",
    "    inferSchema=True)\n",
    "\n",
    "displayByGroup(elements, 5)"
   ]
  },
  {
   "cell_type": "markdown",
   "id": "31a6bc73-d199-4634-b322-76309246ff86",
   "metadata": {},
   "source": [
    "# Register a data frame as a SQL table"
   ]
  },
  {
   "cell_type": "code",
   "execution_count": 4,
   "id": "a6bdebbe-ccde-47d6-9116-7ae68c934e04",
   "metadata": {
    "tags": []
   },
   "outputs": [],
   "source": [
    "elements.createOrReplaceTempView(\"elements_t\")"
   ]
  },
  {
   "cell_type": "code",
   "execution_count": 6,
   "id": "ee242f81-e8ef-4da6-b77c-9d029b3ea842",
   "metadata": {
    "tags": []
   },
   "outputs": [
    {
     "name": "stdout",
     "output_type": "stream",
     "text": [
      "+------+--------+\n",
      "|period|count(1)|\n",
      "+------+--------+\n",
      "|     6|       1|\n",
      "|     4|       1|\n",
      "+------+--------+\n",
      "\n"
     ]
    }
   ],
   "source": [
    "query=\"select period, count(*) from elements_t where phase='liq' group by period\"\n",
    "spark.sql(query).show(5)"
   ]
  },
  {
   "cell_type": "markdown",
   "id": "d214ffae-251b-4ea3-a8d6-85ae0dab70d9",
   "metadata": {},
   "source": [
    "## Using the Spark catalog to manage SQL table/view"
   ]
  },
  {
   "cell_type": "code",
   "execution_count": 7,
   "id": "b81adb2d-a9bd-4953-9047-9099c40cf8c5",
   "metadata": {
    "tags": []
   },
   "outputs": [
    {
     "data": {
      "text/plain": [
       "<pyspark.sql.catalog.Catalog at 0x7f6c98552a70>"
      ]
     },
     "execution_count": 7,
     "metadata": {},
     "output_type": "execute_result"
    }
   ],
   "source": [
    "spark.catalog"
   ]
  },
  {
   "cell_type": "code",
   "execution_count": 8,
   "id": "9b63446b-fad6-42aa-9742-fda0c27a1173",
   "metadata": {
    "tags": []
   },
   "outputs": [
    {
     "data": {
      "text/plain": [
       "[Table(name='elements_t', catalog=None, namespace=[], description=None, tableType='TEMPORARY', isTemporary=True)]"
      ]
     },
     "execution_count": 8,
     "metadata": {},
     "output_type": "execute_result"
    }
   ],
   "source": [
    "# list all sql tables\n",
    "spark.catalog.listTables()"
   ]
  },
  {
   "cell_type": "code",
   "execution_count": 9,
   "id": "db336755-9cde-4c8b-a256-089a86436858",
   "metadata": {
    "tags": []
   },
   "outputs": [
    {
     "data": {
      "text/plain": [
       "True"
      ]
     },
     "execution_count": 9,
     "metadata": {},
     "output_type": "execute_result"
    }
   ],
   "source": [
    "# drop sql table/view\n",
    "spark.catalog.dropTempView(\"elements_t\")"
   ]
  },
  {
   "cell_type": "markdown",
   "id": "aab763d4-9433-44e4-8f54-7922026595f5",
   "metadata": {},
   "source": [
    "# Using SQL-style expressions in PySpark\n",
    "\n",
    "we will use a public data set provided by Backblaze, which provided hard-drive data and statistics. Backblaze is a company that provides cloud storage and backup. Since 2013, they have provided data on the drives in their data center, and over time have moved to a focus on failures and diagnosis. To get the files, you can download them from the website (http://mng.bz/4jZa). We will use the latest data in June 2024."
   ]
  },
  {
   "cell_type": "code",
   "execution_count": 10,
   "id": "55b8098a-d008-4add-b1ec-bda3ec2ddc82",
   "metadata": {},
   "outputs": [
    {
     "name": "stderr",
     "output_type": "stream",
     "text": [
      "                                                                                \r"
     ]
    }
   ],
   "source": [
    "df=spark.read.csv('/opt/shared/backblaze/', header=True, inferSchema=True)"
   ]
  },
  {
   "cell_type": "code",
   "execution_count": 11,
   "id": "28a4e1ac-a5ee-4ac9-8c36-535756da7e0e",
   "metadata": {
    "tags": []
   },
   "outputs": [
    {
     "data": {
      "text/plain": [
       "1202433"
      ]
     },
     "execution_count": 11,
     "metadata": {},
     "output_type": "execute_result"
    }
   ],
   "source": [
    "df.count()"
   ]
  },
  {
   "cell_type": "markdown",
   "id": "82658b6a-7265-47f3-b5f9-3e2091ca2c97",
   "metadata": {},
   "source": [
    "## Identify the model having the highest failure rate."
   ]
  },
  {
   "cell_type": "code",
   "execution_count": 12,
   "id": "01e32c19-4c53-4d2d-b274-e7b7cc6d96e0",
   "metadata": {
    "tags": []
   },
   "outputs": [
    {
     "name": "stdout",
     "output_type": "stream",
     "text": [
      "+----------+--------------+--------------------+--------------+-------+\n",
      "|date      |serial_number |model               |capacity_bytes|failure|\n",
      "+----------+--------------+--------------------+--------------+-------+\n",
      "|2024-06-29|PL1331LAGXN3AH|HGST HDS5C4040ALE630|4000787030016 |0      |\n",
      "|2024-06-29|PL2331LAGSTSYJ|HGST HMS5C4040ALE640|4000787030016 |0      |\n",
      "|2024-06-29|S2ZYJ9FG405079|ST500LM012 HN       |500107862016  |0      |\n",
      "|2024-06-29|Z3056CGY      |ST4000DM000         |4000787030016 |0      |\n",
      "|2024-06-29|Z305FT10      |ST4000DM000         |4000787030016 |0      |\n",
      "|2024-06-29|Z305FX0R      |ST4000DM000         |4000787030016 |0      |\n",
      "|2024-06-29|Z305G7YZ      |ST4000DM000         |4000787030016 |0      |\n",
      "|2024-06-29|Z305G8KA      |ST4000DM000         |4000787030016 |0      |\n",
      "|2024-06-29|Z305G8M6      |ST4000DM000         |4000787030016 |0      |\n",
      "|2024-06-29|Z305GBZ7      |ST4000DM000         |4000787030016 |0      |\n",
      "+----------+--------------+--------------------+--------------+-------+\n",
      "only showing top 10 rows\n",
      "\n"
     ]
    }
   ],
   "source": [
    "# select only the useful columns for our query\n",
    "selected_columns=['date',\n",
    " 'serial_number',\n",
    " 'model',\n",
    " 'capacity_bytes',\n",
    " 'failure']\n",
    "\n",
    "\n",
    "df1=df.select(selected_columns)\n",
    "\n",
    "df1.show(10, False)"
   ]
  },
  {
   "cell_type": "code",
   "execution_count": 13,
   "id": "62cc8340-ceba-4b23-957d-db66d96d362e",
   "metadata": {
    "tags": []
   },
   "outputs": [
    {
     "name": "stdout",
     "output_type": "stream",
     "text": [
      "+--------------------+-----------------+----------+-------+\n",
      "|               model|      capacity_GB|      date|failure|\n",
      "+--------------------+-----------------+----------+-------+\n",
      "|HGST HDS5C4040ALE630|3726.023277282715|2024-06-29|      0|\n",
      "|HGST HMS5C4040ALE640|3726.023277282715|2024-06-29|      0|\n",
      "|       ST500LM012 HN|465.7617416381836|2024-06-29|      0|\n",
      "|         ST4000DM000|3726.023277282715|2024-06-29|      0|\n",
      "|         ST4000DM000|3726.023277282715|2024-06-29|      0|\n",
      "|         ST4000DM000|3726.023277282715|2024-06-29|      0|\n",
      "|         ST4000DM000|3726.023277282715|2024-06-29|      0|\n",
      "|         ST4000DM000|3726.023277282715|2024-06-29|      0|\n",
      "|         ST4000DM000|3726.023277282715|2024-06-29|      0|\n",
      "|         ST4000DM000|3726.023277282715|2024-06-29|      0|\n",
      "|         ST4000DM000|3726.023277282715|2024-06-29|      0|\n",
      "|         ST4000DM000|3726.023277282715|2024-06-29|      0|\n",
      "|         ST4000DM000|3726.023277282715|2024-06-29|      0|\n",
      "|         ST4000DM000|3726.023277282715|2024-06-29|      0|\n",
      "|         ST4000DM000|3726.023277282715|2024-06-29|      0|\n",
      "|         ST4000DM000|3726.023277282715|2024-06-29|      0|\n",
      "|         ST4000DM000|3726.023277282715|2024-06-29|      0|\n",
      "|         ST4000DM000|3726.023277282715|2024-06-29|      0|\n",
      "|         ST4000DM000|3726.023277282715|2024-06-29|      0|\n",
      "|         ST4000DM000|3726.023277282715|2024-06-29|      0|\n",
      "+--------------------+-----------------+----------+-------+\n",
      "only showing top 20 rows\n",
      "\n"
     ]
    }
   ],
   "source": [
    "# get driver capacity in gigabytes\n",
    "\n",
    "df2=df1.selectExpr(\"model\", \"capacity_bytes/power(1024,3) capacity_GB\", \"date\", \"failure\")\n",
    "\n",
    "df2.show()"
   ]
  },
  {
   "cell_type": "code",
   "execution_count": 19,
   "id": "721a2c55-b738-4dd2-8077-b11296ec6eee",
   "metadata": {
    "tags": []
   },
   "outputs": [
    {
     "name": "stderr",
     "output_type": "stream",
     "text": [
      "                                                                                \r"
     ]
    },
    {
     "name": "stdout",
     "output_type": "stream",
     "text": [
      "+--------------------+--------------------+-------+------+\n",
      "|               model|         capacity_GB|failure| count|\n",
      "+--------------------+--------------------+-------+------+\n",
      "|      CT250MX500SSD1|  232.88591766357422|      0|  1817|\n",
      "|         DELLBOSS VD|  447.06915283203125|      0|   140|\n",
      "|HGST HDS5C4040ALE630|   3726.023277282715|      0|   120|\n",
      "|HGST HDS724040ALE640|   3726.023277282715|      0|    30|\n",
      "|HGST HMS5C4040ALE640|-9.31322574615478...|      0|     2|\n",
      "|HGST HMS5C4040ALE640|   3726.023277282715|      0| 22747|\n",
      "|HGST HMS5C4040BLE640|   3726.023277282715|      0|287823|\n",
      "|HGST HMS5C4040BLE640|   3726.023277282715|      1|     2|\n",
      "|HGST HMS5C4040BLE641|   3726.023277282715|      0|    30|\n",
      "|HGST HUH721010ALE600|              9314.0|      0|    20|\n",
      "|HGST HUH721212ALE600|             11176.0|      0|  3640|\n",
      "|HGST HUH721212ALE604|-9.31322574615478...|      0|    40|\n",
      "|HGST HUH721212ALE604|             11176.0|      1|    14|\n",
      "|HGST HUH721212ALE604|             11176.0|      0| 72047|\n",
      "|HGST HUH721212ALN604|             11176.0|      0|    10|\n",
      "|HGST HUH728080ALE600|   7452.036460876465|      0|  3953|\n",
      "|HGST HUH728080ALE600|   7452.036460876465|      1|     1|\n",
      "|HGST HUH728080ALE604|-9.31322574615478...|      0|     2|\n",
      "|HGST HUH728080ALE604|   7452.036460876465|      0|  2173|\n",
      "|HGST HUS726040ALE610|   3726.023277282715|      0|   450|\n",
      "+--------------------+--------------------+-------+------+\n",
      "only showing top 20 rows\n",
      "\n",
      "+--------------------+--------------------+-----+----+\n",
      "|               model|         capacity_GB|    0|   1|\n",
      "+--------------------+--------------------+-----+----+\n",
      "|HGST HUS726040ALN610|   3726.023277282715|   30|null|\n",
      "|       ST12000NM0117|             11176.0|    1|null|\n",
      "|      WDC WD5000LPCX|   465.7617416381836| 1530|null|\n",
      "|         ST4000DM005|   3726.023277282715|  120|null|\n",
      "|HGST HMS5C4040BLE641|   3726.023277282715|   30|null|\n",
      "|       ST500LM012 HN|   465.7617416381836| 3784|   1|\n",
      "|       ST12000NM0008|             11176.0|12018|   2|\n",
      "|Seagate FireCuda ...|   465.7617416381836|   13|null|\n",
      "|     WUH721816ALE6L4|             14902.0|  921|   1|\n",
      "|         ST4000DM004|   3726.023277282715|   90|null|\n",
      "|HGST HUH728080ALE604|-9.31322574615478...|    2|null|\n",
      "|     WDC WDS250G2B0A|  232.88591766357422|  691|null|\n",
      "|       ST14000NM000J|             13039.0|   67|null|\n",
      "| TOSHIBA MG08ACA16TA|             14902.0| 3216|  13|\n",
      "|      WDC WD5000BPKT|   465.7617416381836|   31|null|\n",
      "|HGST HMS5C4040ALE640|-9.31322574615478...|    2|null|\n",
      "|       ST14000NM001G|             13039.0| 4716|null|\n",
      "|Seagate BarraCuda...|   465.7617416381836|  211|null|\n",
      "|Seagate IronWolf ...|  232.88591766357422|   93|null|\n",
      "|       ST12000NM0007|             11176.0|   12|null|\n",
      "+--------------------+--------------------+-----+----+\n",
      "only showing top 20 rows\n",
      "\n"
     ]
    }
   ],
   "source": [
    "# calcualte failure rate by model\n",
    "\n",
    "df3=df2.filter(F.col('failure').isNotNull()).groupBy('model', 'capacity_GB', 'failure').count().orderBy('model', 'capacity_GB')\n",
    "\n",
    "df4=df3.groupBy('model', 'capacity_GB').pivot('failure').sum('count')\n",
    "\n",
    "df3.show()\n",
    "\n",
    "df4.show()"
   ]
  },
  {
   "cell_type": "code",
   "execution_count": 20,
   "id": "4b858752-5c0a-4bea-b965-067a7246909e",
   "metadata": {
    "tags": []
   },
   "outputs": [
    {
     "name": "stdout",
     "output_type": "stream",
     "text": [
      "+--------------------+--------------------+------+---+--------------------+\n",
      "|               model|         capacity_GB|     0|  1|        failure_rate|\n",
      "+--------------------+--------------------+------+---+--------------------+\n",
      "|Micron 5300 MTFDD...|  447.13167572021484|    11|  1| 0.08333333333333333|\n",
      "|         ST4000DM000|-9.31322574615478...|    18|  1| 0.05263157894736842|\n",
      "| WDC WUH721816ALE6L4|             14902.0|    86|  2|0.022727272727272728|\n",
      "| TOSHIBA MG08ACA16TA|             14902.0|  3216| 13|0.004026014245896562|\n",
      "|     WUH721816ALE6L4|             14902.0|   921|  1|0.001084598698481...|\n",
      "| TOSHIBA MQ01ABF050M|   465.7617416381836|  2148|  2|9.302325581395349E-4|\n",
      "|       ST16000NM001G|             14902.0| 24918| 22|8.821170809943865E-4|\n",
      "|  TOSHIBA MQ01ABF050|   465.7617416381836|  3690|  2|5.417118093174431E-4|\n",
      "|         ST4000DM000|   3726.023277282715| 77579| 22|2.835015012693135E-4|\n",
      "|       ST500LM012 HN|   465.7617416381836|  3784|  1|2.642007926023778E-4|\n",
      "|HGST HUH728080ALE600|   7452.036460876465|  3953|  1|2.529084471421345...|\n",
      "|HGST HUH721212ALE604|             11176.0| 72047| 14|1.942798462413788...|\n",
      "|       ST12000NM0008|             11176.0| 12018|  2|1.663893510815307...|\n",
      "|        ST8000NM0055|   7452.036460876465|311153| 35|1.124722032983276...|\n",
      "|         ST8000DM002|   7452.036460876465|273696|  8|2.922865577412094...|\n",
      "| TOSHIBA MG07ACA14TA|             13039.0| 59953|  1|1.667945424825699...|\n",
      "|HGST HMS5C4040BLE640|   3726.023277282715|287823|  2|6.948666724572222...|\n",
      "|HGST HUS726040ALN610|   3726.023277282715|    30|  0|                 0.0|\n",
      "|       ST12000NM0117|             11176.0|     1|  0|                 0.0|\n",
      "|      WDC WD5000LPCX|   465.7617416381836|  1530|  0|                 0.0|\n",
      "+--------------------+--------------------+------+---+--------------------+\n",
      "only showing top 20 rows\n",
      "\n"
     ]
    }
   ],
   "source": [
    "df5=df4.fillna(0).withColumn('failure_rate', F.col('1')/(F.col('0')+F.col('1'))).orderBy(F.desc('failure_rate'))\n",
    "\n",
    "df5.show()"
   ]
  },
  {
   "cell_type": "code",
   "execution_count": 21,
   "id": "6bb3eae2-7ce1-4d36-8c40-7f6ca86a1791",
   "metadata": {
    "tags": []
   },
   "outputs": [
    {
     "name": "stdout",
     "output_type": "stream",
     "text": [
      "+-------------------------------+\n",
      "|corr(capacity_GB, failure_rate)|\n",
      "+-------------------------------+\n",
      "|           -0.09440025284627401|\n",
      "+-------------------------------+\n",
      "\n"
     ]
    }
   ],
   "source": [
    "# is there a correlation between capacity and failure_rate\n",
    "\n",
    "df5.select(F.corr('capacity_GB', 'failure_rate')).show()"
   ]
  },
  {
   "cell_type": "markdown",
   "id": "fec07a0b-ed0c-468a-b7a4-e9e07d901ba8",
   "metadata": {},
   "source": [
    "## SQL and Pyspark code comparison"
   ]
  },
  {
   "cell_type": "code",
   "execution_count": 22,
   "id": "bde8f1c0-9d90-496d-bae7-4ca2e62654e6",
   "metadata": {
    "tags": []
   },
   "outputs": [
    {
     "name": "stderr",
     "output_type": "stream",
     "text": [
      "                                                                                \r"
     ]
    }
   ],
   "source": [
    "df=spark.read.csv('/opt/shared/backblaze/', header=True, inferSchema=True)\n",
    "\n",
    "selected_columns=['date',\n",
    " 'serial_number',\n",
    " 'model',\n",
    " 'capacity_bytes',\n",
    " 'failure']\n",
    "\n",
    "\n",
    "backblaze=df.select(selected_columns)\n",
    "\n",
    "backblaze.createOrReplaceTempView(\"backblaze_t\")"
   ]
  },
  {
   "cell_type": "markdown",
   "id": "212178b9-4e4f-4c54-9408-7f0ce2f47fd4",
   "metadata": {
    "tags": []
   },
   "source": [
    "### display the top 3 models that have the highest max capacity\n"
   ]
  },
  {
   "cell_type": "code",
   "execution_count": 23,
   "id": "529b7d25-f0c6-4041-aade-a78cb96d4fc9",
   "metadata": {
    "tags": []
   },
   "outputs": [
    {
     "name": "stdout",
     "output_type": "stream",
     "text": [
      "+-------------------+--------------------+-------+\n",
      "|              model|              min_GB| max_GB|\n",
      "+-------------------+--------------------+-------+\n",
      "|    WUH721816ALE6L4|-9.31322574615478...|14902.0|\n",
      "|TOSHIBA MG08ACA16TE|             14902.0|14902.0|\n",
      "|      ST16000NM001G|-9.31322574615478...|14902.0|\n",
      "|WDC WUH721816ALE6L4|             14902.0|14902.0|\n",
      "|TOSHIBA MG08ACA16TA|-9.31322574615478...|14902.0|\n",
      "+-------------------+--------------------+-------+\n",
      "only showing top 5 rows\n",
      "\n"
     ]
    },
    {
     "name": "stderr",
     "output_type": "stream",
     "text": [
      "                                                                                \r"
     ]
    }
   ],
   "source": [
    "# SQL way\n",
    "spark.sql(\n",
    "    \"\"\"SELECT\n",
    "           model,\n",
    "           min(capacity_bytes / pow(1024, 3)) min_GB,\n",
    "           max(capacity_bytes/ pow(1024, 3)) max_GB\n",
    "        FROM backblaze_t\n",
    "        GROUP BY 1\n",
    "        ORDER BY 3 DESC\"\"\"\n",
    ").show(5)"
   ]
  },
  {
   "cell_type": "code",
   "execution_count": 24,
   "id": "705813e9-38a0-4fd2-90fe-01863d142123",
   "metadata": {
    "tags": []
   },
   "outputs": [
    {
     "name": "stdout",
     "output_type": "stream",
     "text": [
      "+-------------------+--------------------+-------+\n",
      "|              model|              min_GB| max_GB|\n",
      "+-------------------+--------------------+-------+\n",
      "|    WUH721816ALE6L4|-9.31322574615478...|14902.0|\n",
      "|TOSHIBA MG08ACA16TE|             14902.0|14902.0|\n",
      "|      ST16000NM001G|-9.31322574615478...|14902.0|\n",
      "|WDC WUH721816ALE6L4|             14902.0|14902.0|\n",
      "|TOSHIBA MG08ACA16TA|-9.31322574615478...|14902.0|\n",
      "+-------------------+--------------------+-------+\n",
      "only showing top 5 rows\n",
      "\n"
     ]
    }
   ],
   "source": [
    "#Pyspark way\n",
    "\n",
    "backblaze.groupby(F.col(\"model\")).agg(\n",
    "    F.min(F.col(\"capacity_bytes\") / F.pow(F.lit(1024), 3)).alias(\"min_GB\"),\n",
    "    F.max(F.col(\"capacity_bytes\") / F.pow(F.lit(1024), 3)).alias(\"max_GB\"),\n",
    ").orderBy(F.col(\"max_GB\"), ascending=False).show(5) "
   ]
  },
  {
   "cell_type": "markdown",
   "id": "65d39ee8-4db8-4687-8240-09c7927c963c",
   "metadata": {},
   "source": [
    "### display the top 3 models that have the highest max capacity, remove model that min capacity is equal to max capacity\n",
    "\n",
    "filtering after grouping using having"
   ]
  },
  {
   "cell_type": "code",
   "execution_count": 25,
   "id": "c42e489a-89ad-43de-b6a5-e58f53883f87",
   "metadata": {
    "tags": []
   },
   "outputs": [
    {
     "name": "stdout",
     "output_type": "stream",
     "text": [
      "+-------------------+--------------------+-------+\n",
      "|              model|              min_GB| max_GB|\n",
      "+-------------------+--------------------+-------+\n",
      "|      ST16000NM001G|-9.31322574615478...|14902.0|\n",
      "|    WUH721816ALE6L4|-9.31322574615478...|14902.0|\n",
      "|TOSHIBA MG08ACA16TA|-9.31322574615478...|14902.0|\n",
      "|      ST16000NM000J|-9.31322574615478...|14902.0|\n",
      "|TOSHIBA MG07ACA14TA|  0.1303899995982647|13039.0|\n",
      "+-------------------+--------------------+-------+\n",
      "only showing top 5 rows\n",
      "\n"
     ]
    }
   ],
   "source": [
    "# SQL way\n",
    "spark.sql(\n",
    "    \"\"\"SELECT\n",
    "           model,\n",
    "           min(capacity_bytes / pow(1024, 3)) min_GB,\n",
    "           max(capacity_bytes/ pow(1024, 3)) max_GB\n",
    "        FROM backblaze_t\n",
    "        GROUP BY 1\n",
    "        HAVING min_GB!=max_GB\n",
    "        ORDER BY 3 DESC\"\"\"\n",
    ").show(5)"
   ]
  },
  {
   "cell_type": "code",
   "execution_count": 26,
   "id": "27aff5b2-b5a2-4056-8fa7-575d588432d2",
   "metadata": {
    "tags": []
   },
   "outputs": [
    {
     "name": "stdout",
     "output_type": "stream",
     "text": [
      "+-------------------+--------------------+-------+\n",
      "|              model|              min_GB| max_GB|\n",
      "+-------------------+--------------------+-------+\n",
      "|      ST16000NM001G|-9.31322574615478...|14902.0|\n",
      "|    WUH721816ALE6L4|-9.31322574615478...|14902.0|\n",
      "|TOSHIBA MG08ACA16TA|-9.31322574615478...|14902.0|\n",
      "|      ST16000NM000J|-9.31322574615478...|14902.0|\n",
      "|TOSHIBA MG07ACA14TA|  0.1303899995982647|13039.0|\n",
      "+-------------------+--------------------+-------+\n",
      "only showing top 5 rows\n",
      "\n"
     ]
    }
   ],
   "source": [
    "#Pyspark way\n",
    "\n",
    "backblaze.groupby(F.col(\"model\")).agg(\n",
    "    F.min(F.col(\"capacity_bytes\") / F.pow(F.lit(1024), 3)).alias(\"min_GB\"),\n",
    "    F.max(F.col(\"capacity_bytes\") / F.pow(F.lit(1024), 3)).alias(\"max_GB\"),\n",
    ").where(F.col(\"min_GB\") != F.col(\"max_GB\")).orderBy(F.col(\"max_GB\"), ascending=False).show(5) "
   ]
  },
  {
   "cell_type": "markdown",
   "id": "f1ae4b6a-1e1d-4b31-ba13-f7d402f64401",
   "metadata": {},
   "source": [
    "## Creating new tables/views using the CREATE keyword"
   ]
  },
  {
   "cell_type": "code",
   "execution_count": 27,
   "id": "128310bf-5730-46ca-a20d-09bb5592b909",
   "metadata": {
    "tags": []
   },
   "outputs": [
    {
     "data": {
      "text/plain": [
       "DataFrame[]"
      ]
     },
     "execution_count": 27,
     "metadata": {},
     "output_type": "execute_result"
    }
   ],
   "source": [
    "spark.sql(\n",
    "    \"\"\"\n",
    "    CREATE OR REPLACE TEMP VIEW drive_days AS\n",
    "        SELECT model, count(*) AS drive_days\n",
    "        FROM backblaze_t\n",
    "        GROUP BY model\"\"\"\n",
    ")\n",
    " \n",
    "spark.sql(\n",
    "    \"\"\"CREATE OR REPLACE TEMP VIEW failures AS\n",
    "           SELECT model, count(*) AS failures\n",
    "           FROM backblaze_t\n",
    "           WHERE failure = 1\n",
    "           GROUP BY model\"\"\"\n",
    ")"
   ]
  },
  {
   "cell_type": "code",
   "execution_count": 28,
   "id": "bdccea13-be82-4d36-8e06-6cbc16b364d7",
   "metadata": {
    "tags": []
   },
   "outputs": [
    {
     "data": {
      "text/plain": [
       "[Table(name='backblaze_t', catalog=None, namespace=[], description=None, tableType='TEMPORARY', isTemporary=True),\n",
       " Table(name='drive_days', catalog=None, namespace=[], description=None, tableType='TEMPORARY', isTemporary=True),\n",
       " Table(name='failures', catalog=None, namespace=[], description=None, tableType='TEMPORARY', isTemporary=True)]"
      ]
     },
     "execution_count": 28,
     "metadata": {},
     "output_type": "execute_result"
    }
   ],
   "source": [
    "spark.catalog.listTables()"
   ]
  },
  {
   "cell_type": "markdown",
   "id": "914334c1-6ee8-4044-a4e9-7ac0211d9633",
   "metadata": {},
   "source": [
    "### Adding data to our table using UNION and JOIN"
   ]
  },
  {
   "cell_type": "code",
   "execution_count": 29,
   "id": "db648050-c224-4f3c-a01c-81cc75ba585c",
   "metadata": {
    "tags": []
   },
   "outputs": [],
   "source": [
    "backblaze_failure=backblaze.filter(F.col('failure')==1)\n",
    "backblaze_working=backblaze.filter(F.col('failure')==0)\n",
    "\n",
    "backblaze_failure.createOrReplaceTempView('backblaze_failure_t')\n",
    "backblaze_working.createOrReplaceTempView('backblaze_working_t')"
   ]
  },
  {
   "cell_type": "code",
   "execution_count": 30,
   "id": "afe6ff0e-ef75-4f79-a196-e03fef512ed7",
   "metadata": {
    "tags": []
   },
   "outputs": [],
   "source": [
    "# sql way\n",
    "spark.sql(\"\"\"\n",
    "        create or replace temp view backblaze_complete as\n",
    "        select * from backblaze_failure_t union all\n",
    "        select * from backblaze_working_t\n",
    "\"\"\")\n",
    "\n",
    "#pyspark way\n",
    "\n",
    "backblaze_complet=backblaze_failure.union(backblaze_working)"
   ]
  },
  {
   "cell_type": "code",
   "execution_count": 31,
   "id": "a154854a-87c1-402b-8a63-5b091829e7b6",
   "metadata": {
    "tags": []
   },
   "outputs": [
    {
     "name": "stderr",
     "output_type": "stream",
     "text": [
      "[Stage 160:===========>                                          (13 + 49) / 62]\r"
     ]
    },
    {
     "name": "stdout",
     "output_type": "stream",
     "text": [
      "+--------------------+----------+--------+\n",
      "|               model|drive_days|failures|\n",
      "+--------------------+----------+--------+\n",
      "|         ST4000DM000|     77620|      23|\n",
      "|         ST8000DM005|       683|    null|\n",
      "| TOSHIBA MQ01ABF050M|      2150|       2|\n",
      "|        ST8000NM0055|    311236|      35|\n",
      "|Seagate BarraCuda...|        30|    null|\n",
      "+--------------------+----------+--------+\n",
      "only showing top 5 rows\n",
      "\n"
     ]
    },
    {
     "name": "stderr",
     "output_type": "stream",
     "text": [
      "                                                                                \r"
     ]
    }
   ],
   "source": [
    "# left join\n",
    "spark.sql(\n",
    "    \"\"\"select\n",
    "           drive_days.model,\n",
    "           drive_days,\n",
    "           failures\n",
    "    from drive_days\n",
    "    left join failures on drive_days.model = failures.model\"\"\"\n",
    ").show(5)"
   ]
  },
  {
   "cell_type": "markdown",
   "id": "70204ae7-2a68-4218-8d84-937c5d521438",
   "metadata": {},
   "source": [
    "### Organizing your SQL code better through subqueries and common table expressions"
   ]
  },
  {
   "cell_type": "code",
   "execution_count": 32,
   "id": "394bbc15-6e0f-4aa7-96a0-d3e717dbb2e7",
   "metadata": {
    "tags": []
   },
   "outputs": [
    {
     "name": "stdout",
     "output_type": "stream",
     "text": [
      "+----------+--------------+--------------------+--------------+-------+\n",
      "|      date| serial_number|               model|capacity_bytes|failure|\n",
      "+----------+--------------+--------------------+--------------+-------+\n",
      "|2024-06-29|PL1331LAGXN3AH|HGST HDS5C4040ALE630| 4000787030016|      0|\n",
      "|2024-06-29|PL2331LAGSTSYJ|HGST HMS5C4040ALE640| 4000787030016|      0|\n",
      "|2024-06-29|S2ZYJ9FG405079|       ST500LM012 HN|  500107862016|      0|\n",
      "|2024-06-29|      Z3056CGY|         ST4000DM000| 4000787030016|      0|\n",
      "|2024-06-29|      Z305FT10|         ST4000DM000| 4000787030016|      0|\n",
      "|2024-06-29|      Z305FX0R|         ST4000DM000| 4000787030016|      0|\n",
      "|2024-06-29|      Z305G7YZ|         ST4000DM000| 4000787030016|      0|\n",
      "|2024-06-29|      Z305G8KA|         ST4000DM000| 4000787030016|      0|\n",
      "|2024-06-29|      Z305G8M6|         ST4000DM000| 4000787030016|      0|\n",
      "|2024-06-29|      Z305GBZ7|         ST4000DM000| 4000787030016|      0|\n",
      "|2024-06-29|      Z305GC1B|         ST4000DM000| 4000787030016|      0|\n",
      "|2024-06-29|      Z305GC2C|         ST4000DM000| 4000787030016|      0|\n",
      "|2024-06-29|      Z305GVP7|         ST4000DM000| 4000787030016|      0|\n",
      "|2024-06-29|      Z305GVWZ|         ST4000DM000| 4000787030016|      0|\n",
      "|2024-06-29|      Z305GVXG|         ST4000DM000| 4000787030016|      0|\n",
      "|2024-06-29|      Z305GVXN|         ST4000DM000| 4000787030016|      0|\n",
      "|2024-06-29|      Z305GW45|         ST4000DM000| 4000787030016|      0|\n",
      "|2024-06-29|      Z305GW6C|         ST4000DM000| 4000787030016|      0|\n",
      "|2024-06-29|      Z305GWA5|         ST4000DM000| 4000787030016|      0|\n",
      "|2024-06-29|      Z305GWBB|         ST4000DM000| 4000787030016|      0|\n",
      "+----------+--------------+--------------------+--------------+-------+\n",
      "only showing top 20 rows\n",
      "\n"
     ]
    }
   ],
   "source": [
    "spark.sql(\"select * from backblaze_t\").show()"
   ]
  },
  {
   "cell_type": "code",
   "execution_count": 33,
   "id": "4edfb44c-a3a8-436c-83e3-e8cc7baee747",
   "metadata": {
    "tags": []
   },
   "outputs": [
    {
     "name": "stdout",
     "output_type": "stream",
     "text": [
      "+--------------------+--------------------+\n",
      "|               model|        failure_rate|\n",
      "+--------------------+--------------------+\n",
      "|Micron 5300 MTFDD...| 0.08333333333333333|\n",
      "| WDC WUH721816ALE6L4|0.022727272727272728|\n",
      "| TOSHIBA MG08ACA16TA|0.004024767801857585|\n",
      "|     WUH721816ALE6L4|0.001082251082251...|\n",
      "| TOSHIBA MQ01ABF050M|9.302325581395349E-4|\n",
      "+--------------------+--------------------+\n",
      "only showing top 5 rows\n",
      "\n"
     ]
    },
    {
     "name": "stderr",
     "output_type": "stream",
     "text": [
      "                                                                                \r"
     ]
    }
   ],
   "source": [
    "# Finding drive models with highest failure rates using subqueries\n",
    "\n",
    "spark.sql(\n",
    "    \"\"\"\n",
    "    SELECT\n",
    "        failures.model,\n",
    "        failures / drive_days failure_rate\n",
    "    FROM (\n",
    "        SELECT\n",
    "            model,\n",
    "            count(*) AS drive_days\n",
    "        FROM backblaze_t\n",
    "        GROUP BY model) drive_days\n",
    "    INNER JOIN (\n",
    "        SELECT\n",
    "            model,\n",
    "            count(*) AS failures\n",
    "        FROM backblaze_t\n",
    "        WHERE failure = 1\n",
    "        GROUP BY model) failures\n",
    "    ON\n",
    "        drive_days.model = failures.model\n",
    "    ORDER BY 2 desc\n",
    "    \"\"\"\n",
    ").show(5)"
   ]
  },
  {
   "cell_type": "code",
   "execution_count": 34,
   "id": "215d62f5-42df-416f-8624-dd9f54b4f76a",
   "metadata": {
    "tags": []
   },
   "outputs": [
    {
     "name": "stderr",
     "output_type": "stream",
     "text": [
      "[Stage 173:===================================================>   (58 + 4) / 62]\r"
     ]
    },
    {
     "name": "stdout",
     "output_type": "stream",
     "text": [
      "+--------------------+--------------------+\n",
      "|               model|        failure_rate|\n",
      "+--------------------+--------------------+\n",
      "|Micron 5300 MTFDD...| 0.08333333333333333|\n",
      "| WDC WUH721816ALE6L4|0.022727272727272728|\n",
      "| TOSHIBA MG08ACA16TA|0.004024767801857585|\n",
      "|     WUH721816ALE6L4|0.001082251082251...|\n",
      "| TOSHIBA MQ01ABF050M|9.302325581395349E-4|\n",
      "+--------------------+--------------------+\n",
      "only showing top 5 rows\n",
      "\n"
     ]
    },
    {
     "name": "stderr",
     "output_type": "stream",
     "text": [
      "                                                                                \r"
     ]
    }
   ],
   "source": [
    "# Finding highest failure rates using common table expressions/CTE\n",
    "spark.sql(\n",
    "    \"\"\"\n",
    "    WITH drive_days as (            \n",
    "        SELECT                       \n",
    "            model,                   \n",
    "            count(*) AS drive_days   \n",
    "        FROM backblaze_t            \n",
    "        GROUP BY model),             \n",
    "    failures as (                    \n",
    "        SELECT                      \n",
    "            model,                   \n",
    "            count(*) AS failures    \n",
    "        FROM backblaze_t            \n",
    "        WHERE failure = 1           \n",
    "        GROUP BY model)              \n",
    "    SELECT\n",
    "        failures.model,\n",
    "        failures / drive_days failure_rate\n",
    "    FROM drive_days\n",
    "    INNER JOIN failures\n",
    "    ON\n",
    "        drive_days.model = failures.model\n",
    "    ORDER BY 2 desc\n",
    "    \"\"\"\n",
    ").show(5)\n"
   ]
  },
  {
   "cell_type": "code",
   "execution_count": 35,
   "id": "b2dc0540-856a-4eed-85be-9ba1171f7321",
   "metadata": {
    "tags": []
   },
   "outputs": [],
   "source": [
    "# Finding the highest failure rate using Python scope rules\n",
    "\n",
    "def failure_rate(df):\n",
    "    drive_days = df.groupby(F.col(\"model\")).agg(   \n",
    "        F.count(F.col(\"*\")).alias(\"drive_days\")\n",
    "    )\n",
    "    failures = (\n",
    "       df.where(F.col(\"failure\") == 1)\n",
    "        .groupby(F.col(\"model\"))\n",
    "        .agg(F.count(F.col(\"*\")).alias(\"failures\"))\n",
    "    )\n",
    "    answer = (                                               \n",
    "        drive_days.join(failures, on=\"model\", how=\"inner\")\n",
    "        .withColumn(\"failure_rate\", F.col(\"failures\") / F.col(\"drive_days\"))\n",
    "        .orderBy(F.col(\"failure_rate\").desc())\n",
    "    )\n",
    "    return answer"
   ]
  },
  {
   "cell_type": "code",
   "execution_count": 36,
   "id": "45df5c27-72e6-4927-a59a-8d51096cbe11",
   "metadata": {
    "tags": []
   },
   "outputs": [
    {
     "name": "stdout",
     "output_type": "stream",
     "text": [
      "+--------------------+----------+--------+--------------------+\n",
      "|               model|drive_days|failures|        failure_rate|\n",
      "+--------------------+----------+--------+--------------------+\n",
      "|Micron 5300 MTFDD...|        12|       1| 0.08333333333333333|\n",
      "| WDC WUH721816ALE6L4|        88|       2|0.022727272727272728|\n",
      "| TOSHIBA MG08ACA16TA|      3230|      13|0.004024767801857585|\n",
      "|     WUH721816ALE6L4|       924|       1|0.001082251082251...|\n",
      "| TOSHIBA MQ01ABF050M|      2150|       2|9.302325581395349E-4|\n",
      "|       ST16000NM001G|     24947|      22|8.818695634745661E-4|\n",
      "|  TOSHIBA MQ01ABF050|      3692|       2|5.417118093174431E-4|\n",
      "|         ST4000DM000|     77620|      23|2.963153826333419E-4|\n",
      "|       ST500LM012 HN|      3785|       1|2.642007926023778E-4|\n",
      "|HGST HUH728080ALE600|      3954|       1|2.529084471421345...|\n",
      "|HGST HUH721212ALE604|     72101|      14|1.941720641877366...|\n",
      "|       ST12000NM0008|     12020|       2|1.663893510815307...|\n",
      "|        ST8000NM0055|    311236|      35|1.124548574072408E-4|\n",
      "|         ST8000DM002|    273794|       8|2.921904789732426...|\n",
      "| TOSHIBA MG07ACA14TA|     59955|       1|1.667917604870319...|\n",
      "|HGST HMS5C4040BLE640|    287825|       2|6.948666724572222...|\n",
      "+--------------------+----------+--------+--------------------+\n",
      "\n"
     ]
    },
    {
     "name": "stderr",
     "output_type": "stream",
     "text": [
      "                                                                                \r"
     ]
    }
   ],
   "source": [
    "failure_rate(backblaze).show()"
   ]
  },
  {
   "cell_type": "code",
   "execution_count": 37,
   "id": "988802ff-f73b-48c5-9404-16e1a8b10fb4",
   "metadata": {
    "tags": []
   },
   "outputs": [],
   "source": [
    "def most_reliable_drive_for_capacity(data, capacity_GB=2048, precision=0.25, top_n=3):\n",
    "    \"\"\"Returns the top 3 drives for a given approximate capacity.\n",
    " \n",
    "    Given a capacity in GB and a precision as a decimal number, we keep the N\n",
    "    drives where:\n",
    " \n",
    "    - the capacity is between (capacity * 1/(1+precision)), capacity * (1+precision)\n",
    "    - the failure rate is the lowest\n",
    " \n",
    "    \"\"\"\n",
    "    capacity_min = capacity_GB / (1 + precision)\n",
    "    capacity_max = capacity_GB * (1 + precision)\n",
    " \n",
    "    answer = (\n",
    "        data.where(f\"capacity_GB between {capacity_min} and {capacity_max}\")\n",
    "        .orderBy(\"failure_rate\", \"capacity_GB\", ascending=[True, False])\n",
    "        .limit(top_n)                                                     \n",
    "     )\n",
    " \n",
    "    return answer"
   ]
  },
  {
   "cell_type": "code",
   "execution_count": 38,
   "id": "b6cdffe4-4af2-4eac-ab9d-5024f001b3cc",
   "metadata": {
    "tags": []
   },
   "outputs": [
    {
     "name": "stdout",
     "output_type": "stream",
     "text": [
      "+-------------------+-----------+----+---+------------+\n",
      "|              model|capacity_GB|   0|  1|failure_rate|\n",
      "+-------------------+-----------+----+---+------------+\n",
      "|      ST14000NM001G|    13039.0|4716|  0|         0.0|\n",
      "|      ST14000NM000J|    13039.0|  67|  0|         0.0|\n",
      "|WDC WUH721414ALE6L4|    13039.0|3605|  0|         0.0|\n",
      "+-------------------+-----------+----+---+------------+\n",
      "\n"
     ]
    },
    {
     "name": "stderr",
     "output_type": "stream",
     "text": [
      "                                                                                \r"
     ]
    }
   ],
   "source": [
    "backblaze1=backblaze.withColumn('capacity_GB', F.col(\"capacity_bytes\") / F.pow(F.lit(1024), 3))\n",
    "\n",
    "most_reliable_drive_for_capacity(df5, capacity_GB=11176.0).show()"
   ]
  },
  {
   "cell_type": "markdown",
   "id": "45b87e86-1c5f-437e-ada2-41b9e3999986",
   "metadata": {},
   "source": [
    "#Summary\n",
    "\n",
    "- Spark provides a SQL API for data manipulation. This API supports ANSI SQL.\n",
    "- Spark (and PySpark, by extension) borrows a lot of vocabulary and expected functionality from the way SQL manipulates tables. This is especially evident since the data manipulation module is called pyspark.sql.\n",
    "- PySpark’s data frames need to be registered as views or tables before they can be queried with Spark SQL. You can give them a different name than the data frame you’re registering.\n",
    "- PySpark’s own data frame manipulation methods and functions borrow SQL functionality, for the most part. Some exceptions, such as union(), are present and documented in the API.\n",
    "- Spark SQL queries can be inserted in a PySpark program through the spark.sql function, where spark is the running SparkSession.\n",
    "- Spark SQL table references are kept in a Catalog, which contains the metadata for all tables accessible to Spark SQL.\n",
    "- PySpark will accept SQL-style clauses in where(), expr(), and selectExpr(), which can simplify the syntax for complex filtering and selection.\n",
    "- When using Spark SQL queries with user-provided input, be careful with sanitizing the inputs to avoid potential SQL injection attacks."
   ]
  },
  {
   "cell_type": "markdown",
   "id": "8c2ea7a1-9045-47cb-bdca-5c7c9dbcd9c3",
   "metadata": {},
   "source": [
    "## In class exercise\n",
    "\n",
    "display average failure rate of driver by day, order by day, and visualize the result.\n",
    "\n",
    "Use both SQL and pyspark to get the answer. Which one you prefer?"
   ]
  },
  {
   "cell_type": "code",
   "execution_count": 52,
   "id": "6b9ddb4d-fe9c-4246-9b18-1ca4659abf87",
   "metadata": {
    "tags": []
   },
   "outputs": [
    {
     "name": "stderr",
     "output_type": "stream",
     "text": [
      "                                                                                \r"
     ]
    }
   ],
   "source": [
    "df=spark.read.csv('/opt/shared/backblaze/', header=True, inferSchema=True)\n",
    "\n",
    "selected_columns=['date',\n",
    " 'serial_number',\n",
    " 'model',\n",
    " 'capacity_bytes',\n",
    " 'failure']\n",
    "\n",
    "\n",
    "backblaze=df.select(selected_columns)\n",
    "\n",
    "backblaze.createOrReplaceTempView(\"backblaze_t\")"
   ]
  },
  {
   "cell_type": "markdown",
   "id": "19e0ec48-8113-4103-ac71-7a3109708c24",
   "metadata": {},
   "source": [
    "## PySpark way"
   ]
  },
  {
   "cell_type": "code",
   "execution_count": 53,
   "id": "def454e5-cbb5-41d6-8e50-e53161375b8e",
   "metadata": {
    "tags": []
   },
   "outputs": [
    {
     "name": "stdout",
     "output_type": "stream",
     "text": [
      "+----------+----+-----+----+--------------------+\n",
      "|      date|null|    0|   1|        failure_rate|\n",
      "+----------+----+-----+----+--------------------+\n",
      "|       202|   1| null|null|                null|\n",
      "|2024-06-01|null|84747|   4|4.719708322025699E-5|\n",
      "|2024-06-02|null|50439|   4| 7.92974248161291E-5|\n",
      "|2024-06-03|null|42675|   4|9.372290822184213E-5|\n",
      "|2024-06-04|null|42679|   1|2.343017806935332...|\n",
      "|2024-06-05|null|45246|   2| 4.42008486562942E-5|\n",
      "|2024-06-06|null|37098|   3|8.086035416835126E-5|\n",
      "|2024-06-07|null|45242|   7|1.546995513713010...|\n",
      "|2024-06-08|null|37087|  13|3.504043126684636E-4|\n",
      "|2024-06-09|null|39918|   4|1.001953809929362...|\n",
      "|2024-06-10|null|39915|   6|1.502968362515969E-4|\n",
      "|2024-06-11|null|42670|   9|2.108765434991447...|\n",
      "|2024-06-12|null|39909|  12|3.005936725031938E-4|\n",
      "|2024-06-13|null|37100|   7|1.886436521411054...|\n",
      "|2024-06-14|null|34334|   3|8.736931007368145E-5|\n",
      "|2024-06-15|null|37101|   1|2.695272492048946...|\n",
      "|2024-06-16|null|39919|   2|5.009894541719897E-5|\n",
      "|2024-06-17|null|34335|   3|8.736676568233443E-5|\n",
      "|2024-06-18|null|37099|   2|5.390690277890084E-5|\n",
      "|2024-06-19|null|37095|   5|1.347708894878706...|\n",
      "+----------+----+-----+----+--------------------+\n",
      "only showing top 20 rows\n",
      "\n"
     ]
    }
   ],
   "source": [
    "df=backblaze.groupBy('date', 'failure').count()\n",
    "df1=df.groupBy('date').pivot('failure').sum('count')\n",
    "df2=df1.withColumn('failure_rate', F.col('1')/(F.col('1')+F.col('0'))).orderBy('date')\n",
    "df2.show()"
   ]
  },
  {
   "cell_type": "markdown",
   "id": "2127749c-4221-4018-a286-a1ad7f870d7f",
   "metadata": {},
   "source": [
    "### SQL way"
   ]
  },
  {
   "cell_type": "code",
   "execution_count": 54,
   "id": "cb1c30dc-fd5b-47ad-a641-8aa8e7956327",
   "metadata": {
    "tags": []
   },
   "outputs": [
    {
     "name": "stdout",
     "output_type": "stream",
     "text": [
      "+----------+--------------+--------------------+--------------+-------+\n",
      "|      date| serial_number|               model|capacity_bytes|failure|\n",
      "+----------+--------------+--------------------+--------------+-------+\n",
      "|2024-06-29|PL1331LAGXN3AH|HGST HDS5C4040ALE630| 4000787030016|      0|\n",
      "|2024-06-29|PL2331LAGSTSYJ|HGST HMS5C4040ALE640| 4000787030016|      0|\n",
      "|2024-06-29|S2ZYJ9FG405079|       ST500LM012 HN|  500107862016|      0|\n",
      "|2024-06-29|      Z3056CGY|         ST4000DM000| 4000787030016|      0|\n",
      "|2024-06-29|      Z305FT10|         ST4000DM000| 4000787030016|      0|\n",
      "|2024-06-29|      Z305FX0R|         ST4000DM000| 4000787030016|      0|\n",
      "|2024-06-29|      Z305G7YZ|         ST4000DM000| 4000787030016|      0|\n",
      "|2024-06-29|      Z305G8KA|         ST4000DM000| 4000787030016|      0|\n",
      "|2024-06-29|      Z305G8M6|         ST4000DM000| 4000787030016|      0|\n",
      "|2024-06-29|      Z305GBZ7|         ST4000DM000| 4000787030016|      0|\n",
      "|2024-06-29|      Z305GC1B|         ST4000DM000| 4000787030016|      0|\n",
      "|2024-06-29|      Z305GC2C|         ST4000DM000| 4000787030016|      0|\n",
      "|2024-06-29|      Z305GVP7|         ST4000DM000| 4000787030016|      0|\n",
      "|2024-06-29|      Z305GVWZ|         ST4000DM000| 4000787030016|      0|\n",
      "|2024-06-29|      Z305GVXG|         ST4000DM000| 4000787030016|      0|\n",
      "|2024-06-29|      Z305GVXN|         ST4000DM000| 4000787030016|      0|\n",
      "|2024-06-29|      Z305GW45|         ST4000DM000| 4000787030016|      0|\n",
      "|2024-06-29|      Z305GW6C|         ST4000DM000| 4000787030016|      0|\n",
      "|2024-06-29|      Z305GWA5|         ST4000DM000| 4000787030016|      0|\n",
      "|2024-06-29|      Z305GWBB|         ST4000DM000| 4000787030016|      0|\n",
      "+----------+--------------+--------------------+--------------+-------+\n",
      "only showing top 20 rows\n",
      "\n"
     ]
    }
   ],
   "source": [
    "spark.sql('select * from backblaze_t').show()"
   ]
  },
  {
   "cell_type": "code",
   "execution_count": 56,
   "id": "6e601734-6259-4cea-b7ff-6fc343b5f348",
   "metadata": {
    "tags": []
   },
   "outputs": [
    {
     "name": "stdout",
     "output_type": "stream",
     "text": [
      "+----------+-------------+-------------+--------------------+\n",
      "|      date|total_working|total_failure|        failure_rate|\n",
      "+----------+-------------+-------------+--------------------+\n",
      "|2024-06-01|        84747|            4|4.719708322025699E-5|\n",
      "|2024-06-02|        50439|            4| 7.92974248161291E-5|\n",
      "|2024-06-03|        42675|            4|9.372290822184213E-5|\n",
      "|2024-06-04|        42679|            1|2.343017806935332...|\n",
      "|2024-06-05|        45246|            2| 4.42008486562942E-5|\n",
      "|2024-06-06|        37098|            3|8.086035416835126E-5|\n",
      "|2024-06-07|        45242|            7|1.546995513713010...|\n",
      "|2024-06-08|        37087|           13|3.504043126684636E-4|\n",
      "|2024-06-09|        39918|            4|1.001953809929362...|\n",
      "|2024-06-10|        39915|            6|1.502968362515969E-4|\n",
      "|2024-06-11|        42670|            9|2.108765434991447...|\n",
      "|2024-06-12|        39909|           12|3.005936725031938E-4|\n",
      "|2024-06-13|        37100|            7|1.886436521411054...|\n",
      "|2024-06-14|        34334|            3|8.736931007368145E-5|\n",
      "|2024-06-15|        37101|            1|2.695272492048946...|\n",
      "|2024-06-16|        39919|            2|5.009894541719897E-5|\n",
      "|2024-06-17|        34335|            3|8.736676568233443E-5|\n",
      "|2024-06-18|        37099|            2|5.390690277890084E-5|\n",
      "|2024-06-19|        37095|            5|1.347708894878706...|\n",
      "|2024-06-20|        39916|            3|7.515218317092111E-5|\n",
      "+----------+-------------+-------------+--------------------+\n",
      "only showing top 20 rows\n",
      "\n"
     ]
    }
   ],
   "source": [
    "sql=\"\"\"\n",
    "    select date, total_working, total_failure, total_failure/(total_working+total_failure) as failure_rate\n",
    "    from\n",
    "    (select date, sum(case when failure=0 then 1 else 0 end) as total_working,\n",
    "                 sum(case when failure=1 then 1 else 0 end) as total_failure\n",
    "    from backblaze_t\n",
    "    group by date) t\n",
    "    where total_failure/(total_working+total_failure) is not null\n",
    "    order by date\n",
    "\"\"\"\n",
    "\n",
    "spark.sql(sql).show()\n",
    "\n",
    "# store results into a data frame\n",
    "df2=spark.sql(sql)"
   ]
  },
  {
   "cell_type": "code",
   "execution_count": 63,
   "id": "1e39d762-ea5e-49f0-aa09-3b18243af97f",
   "metadata": {
    "tags": []
   },
   "outputs": [
    {
     "data": {
      "text/html": [
       "<div>\n",
       "<style scoped>\n",
       "    .dataframe tbody tr th:only-of-type {\n",
       "        vertical-align: middle;\n",
       "    }\n",
       "\n",
       "    .dataframe tbody tr th {\n",
       "        vertical-align: top;\n",
       "    }\n",
       "\n",
       "    .dataframe thead th {\n",
       "        text-align: right;\n",
       "    }\n",
       "</style>\n",
       "<table border=\"1\" class=\"dataframe\">\n",
       "  <thead>\n",
       "    <tr style=\"text-align: right;\">\n",
       "      <th></th>\n",
       "      <th>date</th>\n",
       "      <th>total_working</th>\n",
       "      <th>total_failure</th>\n",
       "      <th>failure_rate</th>\n",
       "      <th>day</th>\n",
       "    </tr>\n",
       "  </thead>\n",
       "  <tbody>\n",
       "    <tr>\n",
       "      <th>0</th>\n",
       "      <td>2024-06-01</td>\n",
       "      <td>84747</td>\n",
       "      <td>4</td>\n",
       "      <td>0.000047</td>\n",
       "      <td>06-01</td>\n",
       "    </tr>\n",
       "    <tr>\n",
       "      <th>1</th>\n",
       "      <td>2024-06-02</td>\n",
       "      <td>50439</td>\n",
       "      <td>4</td>\n",
       "      <td>0.000079</td>\n",
       "      <td>06-02</td>\n",
       "    </tr>\n",
       "    <tr>\n",
       "      <th>2</th>\n",
       "      <td>2024-06-03</td>\n",
       "      <td>42675</td>\n",
       "      <td>4</td>\n",
       "      <td>0.000094</td>\n",
       "      <td>06-03</td>\n",
       "    </tr>\n",
       "    <tr>\n",
       "      <th>3</th>\n",
       "      <td>2024-06-04</td>\n",
       "      <td>42679</td>\n",
       "      <td>1</td>\n",
       "      <td>0.000023</td>\n",
       "      <td>06-04</td>\n",
       "    </tr>\n",
       "    <tr>\n",
       "      <th>4</th>\n",
       "      <td>2024-06-05</td>\n",
       "      <td>45246</td>\n",
       "      <td>2</td>\n",
       "      <td>0.000044</td>\n",
       "      <td>06-05</td>\n",
       "    </tr>\n",
       "  </tbody>\n",
       "</table>\n",
       "</div>"
      ],
      "text/plain": [
       "         date  total_working  total_failure  failure_rate    day\n",
       "0  2024-06-01          84747              4      0.000047  06-01\n",
       "1  2024-06-02          50439              4      0.000079  06-02\n",
       "2  2024-06-03          42675              4      0.000094  06-03\n",
       "3  2024-06-04          42679              1      0.000023  06-04\n",
       "4  2024-06-05          45246              2      0.000044  06-05"
      ]
     },
     "execution_count": 63,
     "metadata": {},
     "output_type": "execute_result"
    }
   ],
   "source": [
    "# visualize the result\n",
    "\n",
    "pd_df=df2.toPandas()\n",
    "\n",
    "pd_df['day']=pd_df['date'].str[5:]\n",
    "\n",
    "pd_df.head()"
   ]
  },
  {
   "cell_type": "code",
   "execution_count": 67,
   "id": "127343b3-a11f-4668-aec5-50a22ba8c356",
   "metadata": {
    "tags": []
   },
   "outputs": [
    {
     "data": {
      "image/png": "[encoded data removed]",
      "text/plain": [
       "<Figure size 1200x600 with 1 Axes>"
      ]
     },
     "metadata": {},
     "output_type": "display_data"
    }
   ],
   "source": [
    "# set the fiture size\n",
    "plt.figure(figsize=(12,6))\n",
    "\n",
    "sns.lineplot(data=pd_df, y='failure_rate',x=\"day\")\n",
    "\n",
    "plt.xticks(ticks=np.arange(0, len(pd_df['date']), 2)); # Suppress output with ;"
   ]
  },
  {
   "cell_type": "code",
   "execution_count": null,
   "id": "1dbe2dce-0640-46c1-98a3-f6b3452c4c9c",
   "metadata": {},
   "outputs": [],
   "source": []
  }
 ],
 "metadata": {
  "kernelspec": {
   "display_name": "Big Data Analytics",
   "language": "python",
   "name": "bigdataanalytics"
  },
  "language_info": {
   "codemirror_mode": {
    "name": "ipython",
    "version": 3
   },
   "file_extension": ".py",
   "mimetype": "text/x-python",
   "name": "python",
   "nbconvert_exporter": "python",
   "pygments_lexer": "ipython3",
   "version": "3.10.8"
  }
 },
 "nbformat": 4,
 "nbformat_minor": 5
}
