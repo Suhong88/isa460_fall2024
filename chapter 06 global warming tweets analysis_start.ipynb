{
 "cells": [
  {
   "cell_type": "markdown",
   "id": "0e9954ae-938e-4ed4-bfb5-254897867c07",
   "metadata": {
    "tags": []
   },
   "source": [
    "# Analysis of Global Warming Tweets on January 2023.\n",
    "This proejct is based on global warming tweets tweeted on January 2023 and stored in parquet format. I have added emotion (anger, joy, opotimism and sadness) and gender at the end of each tweets. Emotion analysis was performed using a pre-trained model from Hugging Face (Twitter-roBERTa-base for Emotion Recognition). This is a roBERTa-base model trained on ~58M tweets and finetuned for emotion recognition with the TweetEval benchmark. Each tweet is classified into four emotions (joy, optimism, anger, and sadness) with a confidence score. In addition, gender is extracted based on first name of user account if a user account has a real first name and the gender can be identified by python package gender guesser. "
   ]
  },
  {
   "cell_type": "markdown",
   "id": "63ff41ee-70b1-4c95-a0d1-5c96345127d7",
   "metadata": {
    "tags": []
   },
   "source": [
    "# Read tweets into a data frame"
   ]
  },
  {
   "cell_type": "code",
   "execution_count": 4,
   "id": "646d1f62-9544-4477-9e06-6c04918cb5d7",
   "metadata": {
    "tags": []
   },
   "outputs": [],
   "source": [
    "from pyspark.sql import SparkSession\n",
    "import pyspark.sql.functions as F\n",
    "from helper_functions import displayByGroup\n",
    "import os\n",
    "import pandas as pd\n",
    "import seaborn as sns\n",
    "import matplotlib.pyplot as plt\n",
    "from pyspark.sql.functions import col, explode, desc\n",
    "\n",
    "# check if the Spark session is active. If it is activate, close it\n",
    "\n",
    "try:\n",
    "    if spark:\n",
    "        spark.stop()\n",
    "except:\n",
    "    pass    \n",
    "\n",
    "spark = (SparkSession.builder.appName(\"Global Warming Tweets Analysis\")\n",
    "        .config(\"spark.port.maxRetries\", \"100\")\n",
    "        .config(\"spark.sql.mapKeyDedupPolicy\", \"LAST_WIN\")  # This configuration allow the duplicate keys in the map data type.\n",
    "#        .config(\"spark.driver.memory\", \"16g\")\n",
    "        .getOrCreate())\n",
    "\n",
    "# confiture the log level (defaulty is WWARN)\n",
    "spark.sparkContext.setLogLevel('ERROR')\n",
    "\n",
    "# read the global warming tweets\n",
    "\n",
    "df=spark.read.parquet('/opt/shared/globalwarming_202301')"
   ]
  },
  {
   "cell_type": "markdown",
   "id": "15c361b6-f253-4b3f-8ea2-2a9dd25153a8",
   "metadata": {},
   "source": [
    "# In class exercise"
   ]
  },
  {
   "cell_type": "markdown",
   "id": "675df85d-1aa1-4e0c-b5b1-8685c447bab9",
   "metadata": {},
   "source": [
    "## Extract mentions of each Twitter account given."
   ]
  },
  {
   "cell_type": "code",
   "execution_count": 2,
   "id": "96be4cbc-2d4e-471f-9eea-7891909dc044",
   "metadata": {
    "tags": []
   },
   "outputs": [
    {
     "name": "stdout",
     "output_type": "stream",
     "text": [
      "root\n",
      " |-- author: struct (nullable = true)\n",
      " |    |-- created_at: string (nullable = true)\n",
      " |    |-- description: string (nullable = true)\n",
      " |    |-- entities: struct (nullable = true)\n",
      " |    |    |-- description: struct (nullable = true)\n",
      " |    |    |    |-- cashtags: array (nullable = true)\n",
      " |    |    |    |    |-- element: struct (containsNull = true)\n",
      " |    |    |    |    |    |-- end: long (nullable = true)\n",
      " |    |    |    |    |    |-- start: long (nullable = true)\n",
      " |    |    |    |    |    |-- tag: string (nullable = true)\n",
      " |    |    |    |-- hashtags: array (nullable = true)\n",
      " |    |    |    |    |-- element: struct (containsNull = true)\n",
      " |    |    |    |    |    |-- end: long (nullable = true)\n",
      " |    |    |    |    |    |-- start: long (nullable = true)\n",
      " |    |    |    |    |    |-- tag: string (nullable = true)\n",
      " |    |    |    |-- mentions: array (nullable = true)\n",
      " |    |    |    |    |-- element: struct (containsNull = true)\n",
      " |    |    |    |    |    |-- end: long (nullable = true)\n",
      " |    |    |    |    |    |-- start: long (nullable = true)\n",
      " |    |    |    |    |    |-- username: string (nullable = true)\n",
      " |    |    |    |-- urls: array (nullable = true)\n",
      " |    |    |    |    |-- element: struct (containsNull = true)\n",
      " |    |    |    |    |    |-- display_url: string (nullable = true)\n",
      " |    |    |    |    |    |-- end: long (nullable = true)\n",
      " |    |    |    |    |    |-- expanded_url: string (nullable = true)\n",
      " |    |    |    |    |    |-- start: long (nullable = true)\n",
      " |    |    |    |    |    |-- url: string (nullable = true)\n",
      " |    |    |-- url: struct (nullable = true)\n",
      " |    |    |    |-- urls: array (nullable = true)\n",
      " |    |    |    |    |-- element: struct (containsNull = true)\n",
      " |    |    |    |    |    |-- display_url: string (nullable = true)\n",
      " |    |    |    |    |    |-- end: long (nullable = true)\n",
      " |    |    |    |    |    |-- expanded_url: string (nullable = true)\n",
      " |    |    |    |    |    |-- start: long (nullable = true)\n",
      " |    |    |    |    |    |-- url: string (nullable = true)\n",
      " |    |-- id: string (nullable = true)\n",
      " |    |-- location: string (nullable = true)\n",
      " |    |-- name: string (nullable = true)\n",
      " |    |-- pinned_tweet_id: string (nullable = true)\n",
      " |    |-- profile_image_url: string (nullable = true)\n",
      " |    |-- protected: boolean (nullable = true)\n",
      " |    |-- public_metrics: struct (nullable = true)\n",
      " |    |    |-- followers_count: long (nullable = true)\n",
      " |    |    |-- following_count: long (nullable = true)\n",
      " |    |    |-- listed_count: long (nullable = true)\n",
      " |    |    |-- tweet_count: long (nullable = true)\n",
      " |    |-- url: string (nullable = true)\n",
      " |    |-- username: string (nullable = true)\n",
      " |    |-- verified: boolean (nullable = true)\n",
      " |    |-- withheld: struct (nullable = true)\n",
      " |    |    |-- country_codes: array (nullable = true)\n",
      " |    |    |    |-- element: string (containsNull = true)\n",
      "\n"
     ]
    }
   ],
   "source": [
    "df.select('author').printSchema()"
   ]
  },
  {
   "cell_type": "code",
   "execution_count": 3,
   "id": "65dd1611-b76f-4173-916c-14daee985864",
   "metadata": {
    "tags": []
   },
   "outputs": [
    {
     "name": "stdout",
     "output_type": "stream",
     "text": [
      "root\n",
      " |-- mentions: array (nullable = true)\n",
      " |    |-- element: struct (containsNull = true)\n",
      " |    |    |-- end: long (nullable = true)\n",
      " |    |    |-- start: long (nullable = true)\n",
      " |    |    |-- username: string (nullable = true)\n",
      "\n"
     ]
    }
   ],
   "source": [
    "df.select('author.entities.description.mentions').printSchema()"
   ]
  },
  {
   "cell_type": "code",
   "execution_count": 9,
   "id": "849549f6-d150-4ebd-aeaf-3f968c81127f",
   "metadata": {
    "tags": []
   },
   "outputs": [
    {
     "name": "stderr",
     "output_type": "stream",
     "text": [
      "[Stage 10:=========================================>             (48 + 16) / 64]\r"
     ]
    },
    {
     "name": "stdout",
     "output_type": "stream",
     "text": [
      "+-----------+---------------+\n",
      "|   username|       mentions|\n",
      "+-----------+---------------+\n",
      "|   00Meeach|           USMC|\n",
      "|   0912abhi|  MmmutOfficial|\n",
      "| 0Cuculainn|           jack|\n",
      "|  0HG0D0HN0|    domina_jinx|\n",
      "|   0mega001|     KaCyberApp|\n",
      "|0rvicBuilds|    TheDailyBxB|\n",
      "| 0xGamer030|      Solar_Dex|\n",
      "| 0xGamer030|      Solar_Dex|\n",
      "|      0xLMC|TsunamiFinance_|\n",
      "|      0xLMC| thewolvesgroup|\n",
      "|      0xLMC|  emptyholdings|\n",
      "|   0xMojojo|      Pak_Gregg|\n",
      "|   0xMojojo|       jayefunk|\n",
      "|   0xMojojo|     Goblintown|\n",
      "|    0xPetra|         zkMaps|\n",
      "|   0xVodnik|  cryptotitvags|\n",
      "|   0xVodnik| cryptobirbsnft|\n",
      "|   0xVodnik|    shroomionft|\n",
      "|      0xak_|       stanford|\n",
      "|      0xak_|     cyberkongz|\n",
      "+-----------+---------------+\n",
      "only showing top 20 rows\n",
      "\n"
     ]
    },
    {
     "name": "stderr",
     "output_type": "stream",
     "text": [
      "                                                                                \r"
     ]
    }
   ],
   "source": [
    "df2=df1.select('username', explode('mentions').alias('mentions'))\n",
    "\n",
    "df2.orderBy('username').show()"
   ]
  },
  {
   "cell_type": "code",
   "execution_count": 7,
   "id": "aaff1e74-7b4d-47ac-a481-25ea11cd86b7",
   "metadata": {
    "tags": []
   },
   "outputs": [
    {
     "name": "stdout",
     "output_type": "stream",
     "text": [
      "+---------------+--------------------+\n",
      "|       username|            mentions|\n",
      "+---------------+--------------------+\n",
      "|  SueMasonBurns|   [jayjayjjetplane]|\n",
      "|     thebeachll|        [DAlSlESSSS]|\n",
      "|brucecharityorg|       [BrucewilzUg]|\n",
      "|   gabi_spilker|[EXCInequality, U...|\n",
      "|       tribblez|          [theauxdj]|\n",
      "| JavidGillaniMH|     [muslimhandspk]|\n",
      "|   AngryGustavo|      [Polandballbr]|\n",
      "|  dwallacewells|[nytopinion, NYTmag]|\n",
      "| WillKochtitzky|         [unetweets]|\n",
      "|      AbeeraMR_|          [sosart90]|\n",
      "|          Tyrnn|     [BoomerExpress]|\n",
      "|   sapnadeora93|[digvijaya_28, Ka...|\n",
      "|  JacobsOSeaman|      [DailyMonitor]|\n",
      "|DiamondGBraxton|[bestmicrofic, fo...|\n",
      "|   Jane_Munroe_|      [jane_munroe_]|\n",
      "|       trumphop|             [pbump]|\n",
      "|    SeaPupEllie|   [Nina_once_again]|\n",
      "|    nj_morrison|[AFP, EUDataNewsH...|\n",
      "|       mmm_soup|           [dvd_mcf]|\n",
      "|     PtlbSchool|[PTLBSchools, Str...|\n",
      "+---------------+--------------------+\n",
      "only showing top 20 rows\n",
      "\n"
     ]
    }
   ],
   "source": [
    "df1=df.select('author.username', col('author.entities.description.mentions.username').alias('mentions')).filter(F.col('mentions').isNotNull())\n",
    "\n",
    "df1.show()"
   ]
  },
  {
   "cell_type": "markdown",
   "id": "b1bd1e11-57a1-4f4a-a4e7-b562a20e517a",
   "metadata": {},
   "source": [
    "### In Calss Top 5 users who mentioned most people"
   ]
  },
  {
   "cell_type": "code",
   "execution_count": null,
   "id": "48e8b21f-c8fc-4bc3-8524-eaa693741889",
   "metadata": {
    "tags": []
   },
   "outputs": [],
   "source": []
  },
  {
   "cell_type": "markdown",
   "id": "b9499cae-c14a-4cac-8b84-9b7dd1babdc1",
   "metadata": {},
   "source": [
    "### In Class Top 5 users who received most mentions"
   ]
  },
  {
   "cell_type": "code",
   "execution_count": null,
   "id": "730ad171-2fd5-48c7-bf0a-03f70e133588",
   "metadata": {},
   "outputs": [],
   "source": []
  },
  {
   "cell_type": "markdown",
   "id": "310863c9-214f-4ed5-8340-90b281795d0a",
   "metadata": {},
   "source": [
    "## extract user location from tweets"
   ]
  },
  {
   "cell_type": "code",
   "execution_count": 15,
   "id": "327067e6-72ed-44fe-94f7-25ecd7ff63e3",
   "metadata": {
    "tags": []
   },
   "outputs": [
    {
     "name": "stdout",
     "output_type": "stream",
     "text": [
      "+------------------------------+\n",
      "|location                      |\n",
      "+------------------------------+\n",
      "|Manchester, England           |\n",
      "|Down very long track.         |\n",
      "|null                          |\n",
      "|Santa Ana, California         |\n",
      "|null                          |\n",
      "|Morgantown, WV                |\n",
      "|null                          |\n",
      "|null                          |\n",
      "|U.S.A.                        |\n",
      "|LORD HIS EXCELLENCY JAMES HRMH|\n",
      "+------------------------------+\n",
      "only showing top 10 rows\n",
      "\n"
     ]
    }
   ],
   "source": [
    "df.select('author.location').show(10, False)"
   ]
  },
  {
   "cell_type": "markdown",
   "id": "ad95086b-4385-4bf3-a9da-6b9072531ddc",
   "metadata": {},
   "source": [
    "### In Class Display Top 5 user location"
   ]
  },
  {
   "cell_type": "code",
   "execution_count": 18,
   "id": "05425435-212f-4748-839a-bd9b93fa78b3",
   "metadata": {
    "tags": []
   },
   "outputs": [
    {
     "name": "stdout",
     "output_type": "stream",
     "text": [
      "root\n",
      " |-- author: struct (nullable = true)\n",
      " |    |-- created_at: string (nullable = true)\n",
      " |    |-- description: string (nullable = true)\n",
      " |    |-- entities: struct (nullable = true)\n",
      " |    |    |-- description: struct (nullable = true)\n",
      " |    |    |    |-- cashtags: array (nullable = true)\n",
      " |    |    |    |    |-- element: struct (containsNull = true)\n",
      " |    |    |    |    |    |-- end: long (nullable = true)\n",
      " |    |    |    |    |    |-- start: long (nullable = true)\n",
      " |    |    |    |    |    |-- tag: string (nullable = true)\n",
      " |    |    |    |-- hashtags: array (nullable = true)\n",
      " |    |    |    |    |-- element: struct (containsNull = true)\n",
      " |    |    |    |    |    |-- end: long (nullable = true)\n",
      " |    |    |    |    |    |-- start: long (nullable = true)\n",
      " |    |    |    |    |    |-- tag: string (nullable = true)\n",
      " |    |    |    |-- mentions: array (nullable = true)\n",
      " |    |    |    |    |-- element: struct (containsNull = true)\n",
      " |    |    |    |    |    |-- end: long (nullable = true)\n",
      " |    |    |    |    |    |-- start: long (nullable = true)\n",
      " |    |    |    |    |    |-- username: string (nullable = true)\n",
      " |    |    |    |-- urls: array (nullable = true)\n",
      " |    |    |    |    |-- element: struct (containsNull = true)\n",
      " |    |    |    |    |    |-- display_url: string (nullable = true)\n",
      " |    |    |    |    |    |-- end: long (nullable = true)\n",
      " |    |    |    |    |    |-- expanded_url: string (nullable = true)\n",
      " |    |    |    |    |    |-- start: long (nullable = true)\n",
      " |    |    |    |    |    |-- url: string (nullable = true)\n",
      " |    |    |-- url: struct (nullable = true)\n",
      " |    |    |    |-- urls: array (nullable = true)\n",
      " |    |    |    |    |-- element: struct (containsNull = true)\n",
      " |    |    |    |    |    |-- display_url: string (nullable = true)\n",
      " |    |    |    |    |    |-- end: long (nullable = true)\n",
      " |    |    |    |    |    |-- expanded_url: string (nullable = true)\n",
      " |    |    |    |    |    |-- start: long (nullable = true)\n",
      " |    |    |    |    |    |-- url: string (nullable = true)\n",
      " |    |-- id: string (nullable = true)\n",
      " |    |-- location: string (nullable = true)\n",
      " |    |-- name: string (nullable = true)\n",
      " |    |-- pinned_tweet_id: string (nullable = true)\n",
      " |    |-- profile_image_url: string (nullable = true)\n",
      " |    |-- protected: boolean (nullable = true)\n",
      " |    |-- public_metrics: struct (nullable = true)\n",
      " |    |    |-- followers_count: long (nullable = true)\n",
      " |    |    |-- following_count: long (nullable = true)\n",
      " |    |    |-- listed_count: long (nullable = true)\n",
      " |    |    |-- tweet_count: long (nullable = true)\n",
      " |    |-- url: string (nullable = true)\n",
      " |    |-- username: string (nullable = true)\n",
      " |    |-- verified: boolean (nullable = true)\n",
      " |    |-- withheld: struct (nullable = true)\n",
      " |    |    |-- country_codes: array (nullable = true)\n",
      " |    |    |    |-- element: string (containsNull = true)\n",
      "\n"
     ]
    }
   ],
   "source": [
    "df.select('author').printSchema()"
   ]
  },
  {
   "cell_type": "code",
   "execution_count": null,
   "id": "3647fb64-6a49-4fb8-8cd0-2cbf6bb13eb2",
   "metadata": {
    "tags": []
   },
   "outputs": [],
   "source": []
  },
  {
   "cell_type": "code",
   "execution_count": null,
   "id": "3be8936c-a9b5-4168-af87-aeb74b47200a",
   "metadata": {
    "tags": []
   },
   "outputs": [],
   "source": []
  },
  {
   "cell_type": "markdown",
   "id": "a54909f8-fd1d-46e0-bb39-f8dc709cb40c",
   "metadata": {},
   "source": [
    "## Extract hashtags from tweets"
   ]
  },
  {
   "cell_type": "code",
   "execution_count": 25,
   "id": "3c7c55f1-1acc-44b9-834e-3254fceba0f4",
   "metadata": {
    "tags": []
   },
   "outputs": [
    {
     "name": "stdout",
     "output_type": "stream",
     "text": [
      "+--------------------+\n",
      "|                 tag|\n",
      "+--------------------+\n",
      "|                null|\n",
      "|                null|\n",
      "|                null|\n",
      "|                null|\n",
      "|                null|\n",
      "|                null|\n",
      "|[GretaThunberg, G...|\n",
      "|                null|\n",
      "|                null|\n",
      "|                null|\n",
      "|                null|\n",
      "|                null|\n",
      "|[climate, change,...|\n",
      "|                null|\n",
      "|                null|\n",
      "|                null|\n",
      "|                null|\n",
      "|                null|\n",
      "|                null|\n",
      "|                null|\n",
      "+--------------------+\n",
      "only showing top 20 rows\n",
      "\n"
     ]
    }
   ],
   "source": [
    "df.select('entities.hashtags.tag').show()"
   ]
  },
  {
   "cell_type": "markdown",
   "id": "aeba920c-4fa1-46c1-afce-9b4a1cb139d6",
   "metadata": {},
   "source": [
    "## Extract Entity (place, person, organizations) from tweets"
   ]
  },
  {
   "cell_type": "code",
   "execution_count": 26,
   "id": "423ae20c-c118-4abb-9901-bf015ca944a7",
   "metadata": {
    "tags": []
   },
   "outputs": [
    {
     "name": "stdout",
     "output_type": "stream",
     "text": [
      "+--------------------+--------------+\n",
      "|     normalized_text|          type|\n",
      "+--------------------+--------------+\n",
      "|                null|          null|\n",
      "|                null|          null|\n",
      "|[America, Pikas N...|[Place, Other]|\n",
      "|              [Elon]|      [Person]|\n",
      "|                null|          null|\n",
      "|                null|          null|\n",
      "|     [GretaThunberg]|      [Person]|\n",
      "| [Bible, Revelation]|[Other, Other]|\n",
      "|           [Florida]|       [Place]|\n",
      "|        [Ice-Age, -]|[Other, Other]|\n",
      "|                null|          null|\n",
      "|              [IPCC]|[Organization]|\n",
      "|     [MammothSteppe]|       [Place]|\n",
      "|                null|          null|\n",
      "|                null|          null|\n",
      "|[Ice Road Trucker...|[Other, Other]|\n",
      "|                null|          null|\n",
      "|    [Global Warming]|       [Other]|\n",
      "|                null|          null|\n",
      "|                null|          null|\n",
      "+--------------------+--------------+\n",
      "only showing top 20 rows\n",
      "\n"
     ]
    }
   ],
   "source": [
    "df.select('entities.annotations.normalized_text', 'entities.annotations.type').show()"
   ]
  },
  {
   "cell_type": "code",
   "execution_count": 27,
   "id": "62e0a709-6bee-4b33-8cd0-22234bfec9eb",
   "metadata": {
    "tags": []
   },
   "outputs": [
    {
     "name": "stdout",
     "output_type": "stream",
     "text": [
      "+--------------------+------------+\n",
      "|                 key|       value|\n",
      "+--------------------+------------+\n",
      "|             America|       Place|\n",
      "|       Pikas Now Pre|       Other|\n",
      "|                Elon|      Person|\n",
      "|       GretaThunberg|      Person|\n",
      "|               Bible|       Other|\n",
      "|          Revelation|       Other|\n",
      "|             Florida|       Place|\n",
      "|             Ice-Age|       Other|\n",
      "|                   -|       Other|\n",
      "|                IPCC|Organization|\n",
      "|       MammothSteppe|       Place|\n",
      "|Ice Road Truckers...|       Other|\n",
      "|Don’t Call It Glo...|       Other|\n",
      "|      Global Warming|       Other|\n",
      "|               Greta|      Person|\n",
      "|       GretaThunberg|      Person|\n",
      "|            Libtards|       Other|\n",
      "|         mumbo-jumbo|       Other|\n",
      "|The Age of Aquari...|       Other|\n",
      "|          Solar Myth|       Other|\n",
      "+--------------------+------------+\n",
      "only showing top 20 rows\n",
      "\n"
     ]
    }
   ],
   "source": [
    "# explode two arrays into key value pair\n",
    "\n",
    "df1=df.select(F.map_from_arrays('entities.annotations.normalized_text', 'entities.annotations.type').alias('entities'))\n",
    "\n",
    "# explode key value pair\n",
    "\n",
    "df1.select(explode('entities')).show()"
   ]
  },
  {
   "cell_type": "markdown",
   "id": "b566c5f7-815a-46ee-b424-e6a55a71588c",
   "metadata": {},
   "source": [
    "### In Class Top 5 person mentions in tweets"
   ]
  },
  {
   "cell_type": "code",
   "execution_count": null,
   "id": "2773302f-17ef-49ca-8d25-f9c03478d7b2",
   "metadata": {
    "tags": []
   },
   "outputs": [],
   "source": []
  },
  {
   "cell_type": "code",
   "execution_count": null,
   "id": "13798ae6-ee1e-4d3a-802e-56e6e61214c5",
   "metadata": {
    "tags": []
   },
   "outputs": [],
   "source": []
  },
  {
   "cell_type": "code",
   "execution_count": null,
   "id": "7655626a-d97d-4cb5-8d48-6ac50b204c6c",
   "metadata": {},
   "outputs": [],
   "source": []
  }
 ],
 "metadata": {
  "kernelspec": {
   "display_name": "Big Data Analytics",
   "language": "python",
   "name": "bigdataanalytics"
  },
  "language_info": {
   "codemirror_mode": {
    "name": "ipython",
    "version": 3
   },
   "file_extension": ".py",
   "mimetype": "text/x-python",
   "name": "python",
   "nbconvert_exporter": "python",
   "pygments_lexer": "ipython3",
   "version": "3.10.8"
  }
 },
 "nbformat": 4,
 "nbformat_minor": 5
}
